{
 "cells": [
  {
   "cell_type": "code",
   "execution_count": null,
   "metadata": {},
   "outputs": [],
   "source": [
    "try: import clmm\n",
    "except:\n",
    "    import notebook_install\n",
    "    notebook_install.install_clmm_pipeline(upgrade=False)\n",
    "    import clmm\n",
    "import matplotlib.pyplot as plt\n",
    "import numpy as np\n",
    "from astropy import units\n",
    "plt.rcParams['font.family']=['gothambook','gotham','gotham-book','serif']\n",
    "\n",
    "clmm.__version__\n"
   ]
  },
  {
   "cell_type": "code",
   "execution_count": null,
   "metadata": {},
   "outputs": [],
   "source": [
    "import clmm.dataops as da\n",
    "import clmm.galaxycluster as gc\n",
    "import clmm.theory as theory\n",
    "from clmm import Cosmology\n"
   ]
  },
  {
   "cell_type": "code",
   "execution_count": null,
   "metadata": {},
   "outputs": [],
   "source": [
    "from clmm.support import mock_data as mock\n"
   ]
  },
  {
   "cell_type": "code",
   "execution_count": null,
   "metadata": {},
   "outputs": [],
   "source": [
    "np.random.seed(11)\n"
   ]
  },
  {
   "cell_type": "code",
   "execution_count": null,
   "metadata": {},
   "outputs": [],
   "source": [
    "cosmo = Cosmology(H0 = 70.0, Omega_dm0 = 0.27 - 0.045, Omega_b0 = 0.045, Omega_k0 = 0.0)\n"
   ]
  },
  {
   "cell_type": "code",
   "execution_count": null,
   "metadata": {},
   "outputs": [],
   "source": [
    "import random\n",
    "#cluster_m = random.randint(10,100) # Masse grenzen für den Cluster\n",
    "#logm = np.log(cluster_m)/np.log(10)\n",
    "#concentration = random.randint(1,100)\n",
    "#cluster_ra = 0.\n",
    "#cluster_dec = 0.\n",
    "#cluster_z = random.uniform(0.1,0.6)\n",
    "#ngals = random.randint(50,100000) \n",
    "#cluster_1 = cluster_m, concentration, cluster_ra, cluster_dec, cluster_z, ngals\n",
    "#print(cluster_m)\n",
    "#print(concentration)\n",
    "#print(cluster_z)\n",
    "#print(ngals)\n",
    "#print(cluster_1)"
   ]
  },
  {
   "cell_type": "code",
   "execution_count": null,
   "metadata": {},
   "outputs": [],
   "source": [
    "import random\n",
    "random.seed(22) #gibt einem immer die gleichen zufälligen zahlen\n",
    "import numpy as np\n",
    "np.set_printoptions(precision=3)   \n",
    "num = 5\n",
    "cluster_data = np.zeros((num,6))\n",
    "for k in range(num):\n",
    "    cluster_data[k][0] = np.random.randint(10,100) #masse\n",
    "    cluster_data[k][1] = np.random.randint(1,100)\n",
    "    cluster_data[k][2] = 0\n",
    "    cluster_data[k][3] = 0\n",
    "    cluster_data[k][4] = np.random.uniform(0.1,0.6)\n",
    "    cluster_data[k][5] = np.random.randint(50,10000)\n",
    "print(cluster_data)\n",
    "\n"
   ]
  },
  {
   "cell_type": "code",
   "execution_count": null,
   "metadata": {
    "scrolled": true
   },
   "outputs": [],
   "source": [
    "import astropy\n",
    "import numpy as np\n",
    "ideal_data = []\n",
    "noisy_data = []\n",
    "\n",
    "for k in range(num):\n",
    "\n",
    "    cluster_m = cluster_data[k][0]\n",
    "    cluster_z = cluster_data[k][4]\n",
    "    concentration = cluster_data[k][1]\n",
    "    ngals = int(cluster_data[k][5])\n",
    "    buggy_data = mock.generate_galaxy_catalog(cluster_m, cluster_z, concentration, cosmo, 'chang13', zsrc_min = cluster_z + 0.1,shapenoise=0.05, photoz_sigma_unscaled=0.05, ngals=ngals) \n",
    "    \n",
    "    #sortiert nachher die galaxien raus die den falschen redshift besitzen\n",
    "    mask = buggy_data['z'] < cluster_z #die galaxien sollten entfernt werden nicht maskiert...nur vorrübergehend\n",
    "    #print(buggy_data['z'][mask])\n",
    "    #print('cluster rotversciebung')\n",
    "    #print(cluster_data[k][4])\n",
    "   \n",
    "    buggy_data['z'] = np.where(buggy_data['z'] < cluster_z, np.random.uniform(cluster_z,cluster_z+0.1), buggy_data['z'])\n",
    "    #print(buggy_data['z'])\n",
    "    #print('hats geklappt?')\n",
    "    mask = buggy_data['z'] < cluster_z\n",
    "    #print(buggy_data['z'][mask])\n",
    "    realredshift = buggy_data['z']\n",
    "    #print(sum(buggy_data['z']<=0))\n",
    "\n",
    "    ideal_data.append( mock.generate_galaxy_catalog(cluster_m , cluster_z, concentration, cosmo, 'chang13', zsrc_min = cluster_z + 0.1, ngals = ngals)) \n",
    "    noisy_data.append(buggy_data)\n",
    "\n",
    "                                            \n",
    "\n",
    "#print(ideal_data)\n",
    "    "
   ]
  },
  {
   "cell_type": "code",
   "execution_count": null,
   "metadata": {},
   "outputs": [],
   "source": [
    "#https://docs.astropy.org/en/stable/table/operations.html#binning\n",
    "#groupbi\n",
    "#https://docs.astropy.org/en/stable/table/masking.html\n"
   ]
  },
  {
   "cell_type": "code",
   "execution_count": null,
   "metadata": {},
   "outputs": [],
   "source": [
    "for k in range(num):\n",
    "    plt.figure(figsize=(7,5))\n",
    "    plt.hist(ideal_data[k]['z'], density = True, alpha=0.5, bins = 50, label='ideal data')\n",
    "    plt.hist(noisy_data[k]['z'], alpha=0.5, density = True, bins = 50, label='noisy data')\n",
    "    plt.axvline(x = cluster_data[k][4], color='orange', label = 'cluster redshift')\n",
    "    plt.xlabel(r'$z_{src}$', fontsize = 20)\n",
    "    plt.ylabel(r'$N(z$)', fontsize = 20)\n",
    "    plt.legend()\n",
    "    plt.xlim(0,5)\n",
    "    "
   ]
  },
  {
   "cell_type": "code",
   "execution_count": null,
   "metadata": {},
   "outputs": [],
   "source": [
    "gc_object =[]\n",
    "\n",
    "for k in range(num):\n",
    "    cluster_ra = cluster_data[k][2]\n",
    "    cluster_dec = cluster_data[k][3]\n",
    "    cluster_m = cluster_data[k][0]\n",
    "    cluster_z = cluster_data[k][4]\n",
    "    concentration = cluster_data[k][1]\n",
    "    ngals = int(cluster_data[k][5])\n",
    "    cluster_id = \"CL_ideal\"\n",
    "    gc_object.append( clmm.GalaxyCluster(cluster_id, cluster_ra, cluster_dec,\n",
    "                                  cluster_z, ideal_data[k]))\n",
    "    gc_object[k].save('ideal_GC_'+str(k)+'.pkl')\n",
    "\n",
    "gc_object =[]\n",
    "\n",
    "for k in range(num):\n",
    "    cluster_ra = cluster_data[k][2]\n",
    "    cluster_dec = cluster_data[k][3]\n",
    "    cluster_m = cluster_data[k][0]\n",
    "    cluster_z = cluster_data[k][4]\n",
    "    concentration = cluster_data[k][1]\n",
    "    ngals = int(cluster_data[k][5])\n",
    "    cluster_id = \"CL_noisy\"\n",
    "    gc_object.append( clmm.GalaxyCluster(cluster_id, cluster_ra, cluster_dec,\n",
    "                                  cluster_z, noisy_data[k]))\n",
    "    gc_object[k].save('noisy_GC_'+str(k)+'.pkl')\n"
   ]
  },
  {
   "cell_type": "code",
   "execution_count": null,
   "metadata": {},
   "outputs": [],
   "source": [
    "cl_ideal = []\n",
    "cl_noisy = []\n",
    "for k in range(num):\n",
    "    cl_ideal.append (clmm.GalaxyCluster.load('ideal_GC_'+str(k)+'.pkl'))\n",
    "    cl_noisy.append (clmm.GalaxyCluster.load('noisy_GC_'+str(k)+'.pkl'))\n",
    "    "
   ]
  },
  {
   "cell_type": "code",
   "execution_count": null,
   "metadata": {},
   "outputs": [],
   "source": [
    "#for k in range(num):\n",
    "    #plt.figure(figsize=(7,5))\n",
    "    #plt.hist(cl_ideal[k].galcat['z'], density = True, bins = 50)\n",
    "    #plt.axvline(x = cluster_z, color='orange', label = 'cluster redshift')\n",
    "    #plt.xlabel(r'$z_{src}$', fontsize = 20)\n",
    "    #plt.ylabel(r'$N(z$)', fontsize = 20)\n",
    "    #plt.legend()\n",
    "    #plt.xlim(0,5)\n",
    "    "
   ]
  },
  {
   "cell_type": "code",
   "execution_count": null,
   "metadata": {},
   "outputs": [],
   "source": [
    "for k in range(num):\n",
    "    cl_ideal[k].compute_tangential_and_cross_components(geometry=\"flat\")\n",
    "    cl_noisy[k].compute_tangential_and_cross_components(geometry=\"flat\")\n",
    "pass\n"
   ]
  },
  {
   "cell_type": "code",
   "execution_count": null,
   "metadata": {},
   "outputs": [],
   "source": [
    "bin_edges = da.make_bins(0.2, 4, 15, method='evenlog10width')\n"
   ]
  },
  {
   "cell_type": "code",
   "execution_count": null,
   "metadata": {},
   "outputs": [],
   "source": [
    "help(mask)"
   ]
  },
  {
   "cell_type": "code",
   "execution_count": null,
   "metadata": {
    "scrolled": true
   },
   "outputs": [],
   "source": [
    "\n",
    "for k in range(num):\n",
    "    cluster_z = cluster_data[k][4]\n",
    "    a = cl_ideal[k].make_radial_profile(\"Mpc\",include_empty_bins=True, bins=bin_edges,return_binnumber=True, cosmo=cosmo, gal_ids_in_bins=True,)#return_binnumber=True does not work\n",
    "    b = cl_noisy[k].make_radial_profile(\"Mpc\",include_empty_bins=True, bins=bin_edges,cosmo=cosmo, gal_ids_in_bins=True,)\n",
    "    print(np.shape(cl_ideal[k].profile['z']))\n",
    "    #print(cl_ideal[k].profile['z'])\n",
    "    maski = cl_ideal[k].profile['z'] > cluster_z\n",
    "    maskn = cl_noisy[k].profile['z'] > cluster_z\n",
    "    mask= maski*maskn\n",
    "    #print(cl_ideal[k].profile['z'])\n",
    "    #where_z_broken = np.where(cl_ideal[k].profile['z'] < cluster_z)\n",
    "    cl_ideal[k].profile =  cl_ideal[k].profile[mask]\n",
    "    cl_noisy[k].profile =  cl_noisy[k].profile[mask]\n",
    "    print(np.shape(cl_noisy[k].profile['z']))\n",
    "    #print(cl_ideal[k].profile['z'])\n",
    "    #print(k)\n",
    "    #print(a)\n",
    "pass\n"
   ]
  },
  {
   "cell_type": "code",
   "execution_count": null,
   "metadata": {},
   "outputs": [],
   "source": [
    "def model_reduced_tangential_shear_singlez(r, logm, z_src, concentration, cluster_z):\n",
    "    m = 10.**logm\n",
    "    gt_model = clmm.compute_reduced_tangential_shear(r,\n",
    "                                                     m, concentration,\n",
    "                                                     cluster_z, z_src, cosmo,\n",
    "                                                     delta_mdef=200,\n",
    "                                                     halo_profile_model='nfw')    \n",
    "    return gt_model"
   ]
  },
  {
   "cell_type": "code",
   "execution_count": null,
   "metadata": {},
   "outputs": [],
   "source": [
    "def model_reduced_tangential_shear_zdistrib(radius, logm, data, catalog, profile, concentration, cluster_z): \n",
    "    m = 10**logm\n",
    "    gt_model = []\n",
    "    for i in range(len(radius)):\n",
    "        \n",
    "        r = profile['radius'][i]\n",
    "        galist = profile['gal_id'][i]\n",
    "        \n",
    "        z_list = catalog.galcat['z'][galist]\n",
    "        shear = clmm.compute_reduced_tangential_shear(r, m, concentration, \n",
    "                                                      cluster_z, z_list, cosmo, delta_mdef=200, \n",
    "                                                      halo_profile_model='nfw')\n",
    "        if len(galist) == 0:\n",
    "            gt_model.append(1e-16)\n",
    "            \n",
    "        else:\n",
    "            gt_model.append(np.mean(shear))\n",
    "            print(np.mean(shear))\n",
    "\n",
    "    return gt_model"
   ]
  },
  {
   "cell_type": "code",
   "execution_count": null,
   "metadata": {},
   "outputs": [],
   "source": [
    "gt_model_ideal_singlez = []\n",
    "gt_model_ideal_zdistrib = []\n",
    "gt_model_noisy_singlez = []\n",
    "gt_model_noisy_zdistrib = []\n",
    "r=[]\n",
    "for k in range(num):\n",
    "    print(k)\n",
    "    cluster_ra = cluster_data[k][2]\n",
    "    cluster_dec = cluster_data[k][3]\n",
    "    cluster_m = cluster_data[k][0]\n",
    "    cluster_z = cluster_data[k][4]\n",
    "    concentration = cluster_data[k][1]\n",
    "    ngals = int(cluster_data[k][5])\n",
    "    logm = np.log10(cluster_m)\n",
    "    r.append(cl_ideal[k].profile['radius'])\n",
    "    #mask = r < 1.e-11\n",
    "    #r = np.where(r < 1.e-11, np.random.uniform(1.e-11,3), r)\n",
    "    #print(cl_ideal[k].profile['z'])\n",
    "    #print(cl_noisy[k].profile['z'])\n",
    "    #print(np.shape(cl_noisy[k].profile))\n",
    "    gt_model_ideal_singlez.append(model_reduced_tangential_shear_singlez(r[k], logm,cl_ideal[k].profile['z'],concentration, cluster_z))\n",
    "    gt_model_ideal_zdistrib.append(model_reduced_tangential_shear_zdistrib(r[k],logm, ideal_data[k], cl_ideal[k], cl_ideal[k].profile,concentration,cluster_z))\n",
    "    gt_model_noisy_singlez.append(model_reduced_tangential_shear_singlez(r[k],logm,cl_noisy[k].profile['z'],concentration, cluster_z ))\n",
    "    gt_model_noisy_zdistrib.append(model_reduced_tangential_shear_zdistrib(r[k],logm,noisy_data[k], cl_noisy[k], cl_noisy[k].profile,concentration, cluster_z ))\n",
    "    "
   ]
  },
  {
   "cell_type": "code",
   "execution_count": null,
   "metadata": {},
   "outputs": [],
   "source": [
    "for k in range (num):\n",
    "    print(k)\n",
    "    cluster_ra = cluster_data[k][2]\n",
    "    cluster_dec = cluster_data[k][3]\n",
    "    cluster_m = cluster_data[k][0]\n",
    "    cluster_z = cluster_data[k][4]\n",
    "    concentration = cluster_data[k][1]\n",
    "    ngals = int(cluster_data[k][5])\n",
    "    logm = np.log10(cluster_m)\n",
    "    plt.figure(figsize=(20,8))\n",
    "\n",
    "    plt.subplot(1,2,1)\n",
    "\n",
    "    plt.title('ideal data', fontsize=20)\n",
    "    plt.errorbar(r[k],cl_ideal[k].profile['gt'],cl_ideal[k].profile['gt_err'],c='k',linestyle='', \n",
    "                 marker='o', label=r'ideal data, $M_{input}$ = %.2e Msun' % cluster_m)\n",
    "    plt.loglog(r[k],gt_model_ideal_zdistrib[k],'b',  label=r'model w/ zdistrib, $M_{input}$ = %.2e Msun' % cluster_m)\n",
    "    plt.loglog(r[k],gt_model_ideal_singlez[k],'-y',  label=r'model w/o zdistrib, $M_{input}$ = %.2e Msun' % cluster_m)\n",
    "    plt.xlabel('r [Mpc]', fontsize = 20)\n",
    "    plt.ylabel(r'$g_t$', fontsize = 20)\n",
    "    plt.xlim(min(cl_ideal[k].profile['radius']), max(cl_ideal[k].profile['radius']))\n",
    "    plt.legend(fontsize = 15)\n",
    "\n",
    "    plt.subplot(1,2,2)\n",
    "\n",
    "    plt.title('noisy data', fontsize=20)\n",
    "    plt.errorbar(r[k],cl_noisy[k].profile['gt'],cl_noisy[k].profile['gt_err'],c='k',linestyle='', \n",
    "                 marker='o',label=r'noisy data, $M_{input}$ = %.2e Msun' % cluster_m)\n",
    "    plt.loglog(r[k],gt_model_noisy_zdistrib[k],'-b', label=r'model w/ zdistrib, $M_{input}$ = %.2e Msun' % cluster_m)\n",
    "    plt.loglog(r[k],gt_model_noisy_singlez[k],'-y', label=r'model w/o zdistrib, $M_{input}$ = %.2e Msun' % cluster_m)\n",
    "    plt.xlabel('r [Mpc]', fontsize = 20)\n",
    "    plt.ylabel(r'$g_t$', fontsize = 20)\n",
    "    plt.xlim(min(cl_noisy[k].profile['radius']), max(cl_noisy[k].profile['radius']))\n",
    "    plt.ylim(min(gt_model_ideal_zdistrib[k]),max(gt_model_ideal_zdistrib[k]))\n",
    "    plt.legend(fontsize = 15)"
   ]
  },
  {
   "cell_type": "code",
   "execution_count": null,
   "metadata": {},
   "outputs": [],
   "source": []
  }
 ],
 "metadata": {
  "kernelspec": {
   "display_name": "Python 3",
   "language": "python",
   "name": "python3"
  },
  "language_info": {
   "codemirror_mode": {
    "name": "ipython",
    "version": 3
   },
   "file_extension": ".py",
   "mimetype": "text/x-python",
   "name": "python",
   "nbconvert_exporter": "python",
   "pygments_lexer": "ipython3",
   "version": "3.8.5"
  }
 },
 "nbformat": 4,
 "nbformat_minor": 4
}
