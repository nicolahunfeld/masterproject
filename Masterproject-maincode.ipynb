{
 "cells": [
  {
   "cell_type": "code",
   "execution_count": 1,
   "metadata": {},
   "outputs": [
    {
     "data": {
      "text/plain": [
       "'0.9.3'"
      ]
     },
     "execution_count": 1,
     "metadata": {},
     "output_type": "execute_result"
    }
   ],
   "source": [
    "try: import clmm\n",
    "except:\n",
    "    import notebook_install\n",
    "    notebook_install.install_clmm_pipeline(upgrade=False)\n",
    "    import clmm\n",
    "import matplotlib.pyplot as plt\n",
    "import numpy as np\n",
    "import astropy\n",
    "from astropy import units\n",
    "import clmm.dataops as da\n",
    "import clmm.galaxycluster as gc\n",
    "import clmm.theory as theory\n",
    "from clmm import Cosmology\n",
    "from clmm import support\n",
    "from clmm.support import mock_data as mock\n",
    "from clmm.support import sampler\n",
    "from clmm.support.sampler import *\n",
    "from clmm.support.sampler import fitters\n",
    "import random\n",
    "from scipy.interpolate import interp1d\n",
    "import masterproject_functions as fc\n",
    "\n",
    "plt.rcParams['font.family']=['gothambook','gotham','gotham-book','serif']\n",
    "\n",
    "clmm.__version__\n",
    "\n"
   ]
  },
  {
   "cell_type": "code",
   "execution_count": 2,
   "metadata": {},
   "outputs": [],
   "source": [
    "np.random.seed(22)"
   ]
  },
  {
   "cell_type": "code",
   "execution_count": 3,
   "metadata": {},
   "outputs": [],
   "source": [
    "#set the cosmology\n",
    "cosmo = Cosmology(H0 = 70.0, Omega_dm0 = 0.27 - 0.045, Omega_b0 = 0.045, Omega_k0 = 0.0)\n"
   ]
  },
  {
   "cell_type": "code",
   "execution_count": 5,
   "metadata": {},
   "outputs": [],
   "source": [
    "\n",
    "np.set_printoptions(precision=3)\n",
    "#numbers of clusters you want to create\n",
    "num=100\n",
    "#setting parameters for the clusters\n",
    "cl_mass = fc.massfunction(num,13,15) #mass\n",
    "logm = np.log(cl_mass)/np.log(10) #logarithmic mass\n",
    "cl_ra=np.zeros(num)#right ascention \n",
    "cl_dec=np.zeros(num)#declination\n",
    "cl_z = np.random.uniform(0.1,0.6,num)#redshift\n",
    "cl_c=np.exp(abs(np.log(4) + 0.1*np.random.randn(num)))\n",
    "#5.72/((1+cl_z)**0.71)*(cl_z/10.e14)**(-0.081)#concentration\n",
    "cl_ngals=np.random.randint(50,10000,num) #numbers of galaxies in each cluster\n",
    "#finished cluster data in a dictionary\n",
    "cluster_data ={'m':cl_mass,\n",
    "               'logm':logm,\n",
    "               'ra':cl_ra,\n",
    "               'dec':cl_dec,\n",
    "               'z':cl_z,\n",
    "               'c':cl_c,\n",
    "               'ngals': cl_ngals}\n",
    "\n"
   ]
  },
  {
   "cell_type": "code",
   "execution_count": 6,
   "metadata": {},
   "outputs": [
    {
     "data": {
      "text/plain": [
       "Text(0, 0.5, '$c_{\\\\rm 200c}$')"
      ]
     },
     "execution_count": 6,
     "metadata": {},
     "output_type": "execute_result"
    },
    {
     "data": {
      "image/png": "[encoded data removed]",
      "text/plain": [
       "<Figure size 432x288 with 1 Axes>"
      ]
     },
     "metadata": {
      "needs_background": "light"
     },
     "output_type": "display_data"
    }
   ],
   "source": [
    "plt.scatter(cluster_data['m'],cluster_data['c'])\n",
    "plt.xlabel(r'$M_{\\rm 200c}$', fontsize = 20)\n",
    "plt.ylabel(r'$c_{\\rm 200c}$', fontsize = 20)"
   ]
  },
  {
   "cell_type": "code",
   "execution_count": 8,
   "metadata": {},
   "outputs": [
    {
     "name": "stderr",
     "output_type": "stream",
     "text": [
      "/Users/nicomasii/opt/anaconda3/envs/clmm/lib/python3.9/site-packages/clmm-0.9.3-py3.9.egg/clmm/theory/func_layer.py:347: UserWarning: Some source redshifts are lower than the cluster redshift. kappa = 0 for those galaxies.\n",
      "/Users/nicomasii/opt/anaconda3/envs/clmm/lib/python3.9/site-packages/clmm-0.9.3-py3.9.egg/clmm/theory/func_layer.py:347: UserWarning: Some source redshifts are lower than the cluster redshift. kappa = 0 for those galaxies.\n",
      "/Users/nicomasii/opt/anaconda3/envs/clmm/lib/python3.9/site-packages/clmm-0.9.3-py3.9.egg/clmm/theory/func_layer.py:347: UserWarning: Some source redshifts are lower than the cluster redshift. kappa = 0 for those galaxies.\n",
      "/Users/nicomasii/opt/anaconda3/envs/clmm/lib/python3.9/site-packages/clmm-0.9.3-py3.9.egg/clmm/theory/func_layer.py:347: UserWarning: Some source redshifts are lower than the cluster redshift. kappa = 0 for those galaxies.\n",
      "/Users/nicomasii/opt/anaconda3/envs/clmm/lib/python3.9/site-packages/clmm-0.9.3-py3.9.egg/clmm/theory/func_layer.py:347: UserWarning: Some source redshifts are lower than the cluster redshift. kappa = 0 for those galaxies.\n",
      "/Users/nicomasii/opt/anaconda3/envs/clmm/lib/python3.9/site-packages/clmm-0.9.3-py3.9.egg/clmm/theory/func_layer.py:347: UserWarning: Some source redshifts are lower than the cluster redshift. kappa = 0 for those galaxies.\n",
      "/Users/nicomasii/opt/anaconda3/envs/clmm/lib/python3.9/site-packages/clmm-0.9.3-py3.9.egg/clmm/theory/func_layer.py:347: UserWarning: Some source redshifts are lower than the cluster redshift. kappa = 0 for those galaxies.\n",
      "/Users/nicomasii/opt/anaconda3/envs/clmm/lib/python3.9/site-packages/clmm-0.9.3-py3.9.egg/clmm/theory/func_layer.py:347: UserWarning: Some source redshifts are lower than the cluster redshift. kappa = 0 for those galaxies.\n",
      "/Users/nicomasii/opt/anaconda3/envs/clmm/lib/python3.9/site-packages/clmm-0.9.3-py3.9.egg/clmm/theory/func_layer.py:347: UserWarning: Some source redshifts are lower than the cluster redshift. kappa = 0 for those galaxies.\n",
      "/Users/nicomasii/opt/anaconda3/envs/clmm/lib/python3.9/site-packages/clmm-0.9.3-py3.9.egg/clmm/theory/func_layer.py:347: UserWarning: Some source redshifts are lower than the cluster redshift. kappa = 0 for those galaxies.\n",
      "/Users/nicomasii/opt/anaconda3/envs/clmm/lib/python3.9/site-packages/clmm-0.9.3-py3.9.egg/clmm/theory/func_layer.py:347: UserWarning: Some source redshifts are lower than the cluster redshift. kappa = 0 for those galaxies.\n",
      "/Users/nicomasii/opt/anaconda3/envs/clmm/lib/python3.9/site-packages/clmm-0.9.3-py3.9.egg/clmm/theory/func_layer.py:347: UserWarning: Some source redshifts are lower than the cluster redshift. kappa = 0 for those galaxies.\n",
      "/Users/nicomasii/opt/anaconda3/envs/clmm/lib/python3.9/site-packages/clmm-0.9.3-py3.9.egg/clmm/theory/func_layer.py:347: UserWarning: Some source redshifts are lower than the cluster redshift. kappa = 0 for those galaxies.\n",
      "/Users/nicomasii/opt/anaconda3/envs/clmm/lib/python3.9/site-packages/clmm-0.9.3-py3.9.egg/clmm/theory/func_layer.py:347: UserWarning: Some source redshifts are lower than the cluster redshift. kappa = 0 for those galaxies.\n",
      "/Users/nicomasii/opt/anaconda3/envs/clmm/lib/python3.9/site-packages/clmm-0.9.3-py3.9.egg/clmm/theory/func_layer.py:347: UserWarning: Some source redshifts are lower than the cluster redshift. kappa = 0 for those galaxies.\n",
      "/Users/nicomasii/opt/anaconda3/envs/clmm/lib/python3.9/site-packages/clmm-0.9.3-py3.9.egg/clmm/theory/func_layer.py:347: UserWarning: Some source redshifts are lower than the cluster redshift. kappa = 0 for those galaxies.\n",
      "/Users/nicomasii/opt/anaconda3/envs/clmm/lib/python3.9/site-packages/clmm-0.9.3-py3.9.egg/clmm/theory/func_layer.py:347: UserWarning: Some source redshifts are lower than the cluster redshift. kappa = 0 for those galaxies.\n",
      "/Users/nicomasii/opt/anaconda3/envs/clmm/lib/python3.9/site-packages/clmm-0.9.3-py3.9.egg/clmm/theory/func_layer.py:347: UserWarning: Some source redshifts are lower than the cluster redshift. kappa = 0 for those galaxies.\n",
      "/Users/nicomasii/opt/anaconda3/envs/clmm/lib/python3.9/site-packages/clmm-0.9.3-py3.9.egg/clmm/theory/func_layer.py:347: UserWarning: Some source redshifts are lower than the cluster redshift. kappa = 0 for those galaxies.\n",
      "/Users/nicomasii/opt/anaconda3/envs/clmm/lib/python3.9/site-packages/clmm-0.9.3-py3.9.egg/clmm/theory/func_layer.py:347: UserWarning: Some source redshifts are lower than the cluster redshift. kappa = 0 for those galaxies.\n",
      "/Users/nicomasii/opt/anaconda3/envs/clmm/lib/python3.9/site-packages/clmm-0.9.3-py3.9.egg/clmm/theory/func_layer.py:347: UserWarning: Some source redshifts are lower than the cluster redshift. kappa = 0 for those galaxies.\n",
      "/Users/nicomasii/opt/anaconda3/envs/clmm/lib/python3.9/site-packages/clmm-0.9.3-py3.9.egg/clmm/theory/func_layer.py:347: UserWarning: Some source redshifts are lower than the cluster redshift. kappa = 0 for those galaxies.\n",
      "/Users/nicomasii/opt/anaconda3/envs/clmm/lib/python3.9/site-packages/clmm-0.9.3-py3.9.egg/clmm/theory/func_layer.py:347: UserWarning: Some source redshifts are lower than the cluster redshift. kappa = 0 for those galaxies.\n",
      "/Users/nicomasii/opt/anaconda3/envs/clmm/lib/python3.9/site-packages/clmm-0.9.3-py3.9.egg/clmm/theory/func_layer.py:347: UserWarning: Some source redshifts are lower than the cluster redshift. kappa = 0 for those galaxies.\n",
      "/Users/nicomasii/opt/anaconda3/envs/clmm/lib/python3.9/site-packages/clmm-0.9.3-py3.9.egg/clmm/theory/func_layer.py:347: UserWarning: Some source redshifts are lower than the cluster redshift. kappa = 0 for those galaxies.\n",
      "/Users/nicomasii/opt/anaconda3/envs/clmm/lib/python3.9/site-packages/clmm-0.9.3-py3.9.egg/clmm/theory/func_layer.py:347: UserWarning: Some source redshifts are lower than the cluster redshift. kappa = 0 for those galaxies.\n",
      "/Users/nicomasii/opt/anaconda3/envs/clmm/lib/python3.9/site-packages/clmm-0.9.3-py3.9.egg/clmm/theory/func_layer.py:347: UserWarning: Some source redshifts are lower than the cluster redshift. kappa = 0 for those galaxies.\n",
      "/Users/nicomasii/opt/anaconda3/envs/clmm/lib/python3.9/site-packages/clmm-0.9.3-py3.9.egg/clmm/theory/func_layer.py:347: UserWarning: Some source redshifts are lower than the cluster redshift. kappa = 0 for those galaxies.\n",
      "/Users/nicomasii/opt/anaconda3/envs/clmm/lib/python3.9/site-packages/clmm-0.9.3-py3.9.egg/clmm/theory/func_layer.py:347: UserWarning: Some source redshifts are lower than the cluster redshift. kappa = 0 for those galaxies.\n",
      "/Users/nicomasii/opt/anaconda3/envs/clmm/lib/python3.9/site-packages/clmm-0.9.3-py3.9.egg/clmm/theory/func_layer.py:347: UserWarning: Some source redshifts are lower than the cluster redshift. kappa = 0 for those galaxies.\n",
      "/Users/nicomasii/opt/anaconda3/envs/clmm/lib/python3.9/site-packages/clmm-0.9.3-py3.9.egg/clmm/theory/func_layer.py:347: UserWarning: Some source redshifts are lower than the cluster redshift. kappa = 0 for those galaxies.\n",
      "/Users/nicomasii/opt/anaconda3/envs/clmm/lib/python3.9/site-packages/clmm-0.9.3-py3.9.egg/clmm/theory/func_layer.py:347: UserWarning: Some source redshifts are lower than the cluster redshift. kappa = 0 for those galaxies.\n",
      "/Users/nicomasii/opt/anaconda3/envs/clmm/lib/python3.9/site-packages/clmm-0.9.3-py3.9.egg/clmm/theory/func_layer.py:347: UserWarning: Some source redshifts are lower than the cluster redshift. kappa = 0 for those galaxies.\n",
      "/Users/nicomasii/opt/anaconda3/envs/clmm/lib/python3.9/site-packages/clmm-0.9.3-py3.9.egg/clmm/theory/func_layer.py:347: UserWarning: Some source redshifts are lower than the cluster redshift. kappa = 0 for those galaxies.\n",
      "/Users/nicomasii/opt/anaconda3/envs/clmm/lib/python3.9/site-packages/clmm-0.9.3-py3.9.egg/clmm/theory/func_layer.py:347: UserWarning: Some source redshifts are lower than the cluster redshift. kappa = 0 for those galaxies.\n",
      "/Users/nicomasii/opt/anaconda3/envs/clmm/lib/python3.9/site-packages/clmm-0.9.3-py3.9.egg/clmm/theory/func_layer.py:347: UserWarning: Some source redshifts are lower than the cluster redshift. kappa = 0 for those galaxies.\n",
      "/Users/nicomasii/opt/anaconda3/envs/clmm/lib/python3.9/site-packages/clmm-0.9.3-py3.9.egg/clmm/theory/func_layer.py:347: UserWarning: Some source redshifts are lower than the cluster redshift. kappa = 0 for those galaxies.\n"
     ]
    },
    {
     "name": "stderr",
     "output_type": "stream",
     "text": [
      "/Users/nicomasii/opt/anaconda3/envs/clmm/lib/python3.9/site-packages/clmm-0.9.3-py3.9.egg/clmm/theory/func_layer.py:347: UserWarning: Some source redshifts are lower than the cluster redshift. kappa = 0 for those galaxies.\n",
      "/Users/nicomasii/opt/anaconda3/envs/clmm/lib/python3.9/site-packages/clmm-0.9.3-py3.9.egg/clmm/theory/func_layer.py:347: UserWarning: Some source redshifts are lower than the cluster redshift. kappa = 0 for those galaxies.\n",
      "/Users/nicomasii/opt/anaconda3/envs/clmm/lib/python3.9/site-packages/clmm-0.9.3-py3.9.egg/clmm/theory/func_layer.py:347: UserWarning: Some source redshifts are lower than the cluster redshift. kappa = 0 for those galaxies.\n",
      "/Users/nicomasii/opt/anaconda3/envs/clmm/lib/python3.9/site-packages/clmm-0.9.3-py3.9.egg/clmm/theory/func_layer.py:347: UserWarning: Some source redshifts are lower than the cluster redshift. kappa = 0 for those galaxies.\n",
      "/Users/nicomasii/opt/anaconda3/envs/clmm/lib/python3.9/site-packages/clmm-0.9.3-py3.9.egg/clmm/theory/func_layer.py:347: UserWarning: Some source redshifts are lower than the cluster redshift. kappa = 0 for those galaxies.\n",
      "/Users/nicomasii/opt/anaconda3/envs/clmm/lib/python3.9/site-packages/clmm-0.9.3-py3.9.egg/clmm/theory/func_layer.py:347: UserWarning: Some source redshifts are lower than the cluster redshift. kappa = 0 for those galaxies.\n",
      "/Users/nicomasii/opt/anaconda3/envs/clmm/lib/python3.9/site-packages/clmm-0.9.3-py3.9.egg/clmm/theory/func_layer.py:347: UserWarning: Some source redshifts are lower than the cluster redshift. kappa = 0 for those galaxies.\n",
      "/Users/nicomasii/opt/anaconda3/envs/clmm/lib/python3.9/site-packages/clmm-0.9.3-py3.9.egg/clmm/theory/func_layer.py:347: UserWarning: Some source redshifts are lower than the cluster redshift. kappa = 0 for those galaxies.\n",
      "/Users/nicomasii/opt/anaconda3/envs/clmm/lib/python3.9/site-packages/clmm-0.9.3-py3.9.egg/clmm/theory/func_layer.py:347: UserWarning: Some source redshifts are lower than the cluster redshift. kappa = 0 for those galaxies.\n",
      "/Users/nicomasii/opt/anaconda3/envs/clmm/lib/python3.9/site-packages/clmm-0.9.3-py3.9.egg/clmm/theory/func_layer.py:347: UserWarning: Some source redshifts are lower than the cluster redshift. kappa = 0 for those galaxies.\n",
      "/Users/nicomasii/opt/anaconda3/envs/clmm/lib/python3.9/site-packages/clmm-0.9.3-py3.9.egg/clmm/theory/func_layer.py:347: UserWarning: Some source redshifts are lower than the cluster redshift. kappa = 0 for those galaxies.\n",
      "/Users/nicomasii/opt/anaconda3/envs/clmm/lib/python3.9/site-packages/clmm-0.9.3-py3.9.egg/clmm/theory/func_layer.py:347: UserWarning: Some source redshifts are lower than the cluster redshift. kappa = 0 for those galaxies.\n",
      "/Users/nicomasii/opt/anaconda3/envs/clmm/lib/python3.9/site-packages/clmm-0.9.3-py3.9.egg/clmm/theory/func_layer.py:347: UserWarning: Some source redshifts are lower than the cluster redshift. kappa = 0 for those galaxies.\n",
      "/Users/nicomasii/opt/anaconda3/envs/clmm/lib/python3.9/site-packages/clmm-0.9.3-py3.9.egg/clmm/theory/func_layer.py:347: UserWarning: Some source redshifts are lower than the cluster redshift. kappa = 0 for those galaxies.\n",
      "/Users/nicomasii/opt/anaconda3/envs/clmm/lib/python3.9/site-packages/clmm-0.9.3-py3.9.egg/clmm/theory/func_layer.py:347: UserWarning: Some source redshifts are lower than the cluster redshift. kappa = 0 for those galaxies.\n",
      "/Users/nicomasii/opt/anaconda3/envs/clmm/lib/python3.9/site-packages/clmm-0.9.3-py3.9.egg/clmm/theory/func_layer.py:347: UserWarning: Some source redshifts are lower than the cluster redshift. kappa = 0 for those galaxies.\n",
      "/Users/nicomasii/opt/anaconda3/envs/clmm/lib/python3.9/site-packages/clmm-0.9.3-py3.9.egg/clmm/theory/func_layer.py:347: UserWarning: Some source redshifts are lower than the cluster redshift. kappa = 0 for those galaxies.\n",
      "/Users/nicomasii/opt/anaconda3/envs/clmm/lib/python3.9/site-packages/clmm-0.9.3-py3.9.egg/clmm/theory/func_layer.py:347: UserWarning: Some source redshifts are lower than the cluster redshift. kappa = 0 for those galaxies.\n",
      "/Users/nicomasii/opt/anaconda3/envs/clmm/lib/python3.9/site-packages/clmm-0.9.3-py3.9.egg/clmm/theory/func_layer.py:347: UserWarning: Some source redshifts are lower than the cluster redshift. kappa = 0 for those galaxies.\n",
      "/Users/nicomasii/opt/anaconda3/envs/clmm/lib/python3.9/site-packages/clmm-0.9.3-py3.9.egg/clmm/theory/func_layer.py:347: UserWarning: Some source redshifts are lower than the cluster redshift. kappa = 0 for those galaxies.\n",
      "/Users/nicomasii/opt/anaconda3/envs/clmm/lib/python3.9/site-packages/clmm-0.9.3-py3.9.egg/clmm/theory/func_layer.py:347: UserWarning: Some source redshifts are lower than the cluster redshift. kappa = 0 for those galaxies.\n",
      "/Users/nicomasii/opt/anaconda3/envs/clmm/lib/python3.9/site-packages/clmm-0.9.3-py3.9.egg/clmm/theory/func_layer.py:347: UserWarning: Some source redshifts are lower than the cluster redshift. kappa = 0 for those galaxies.\n",
      "/Users/nicomasii/opt/anaconda3/envs/clmm/lib/python3.9/site-packages/clmm-0.9.3-py3.9.egg/clmm/theory/func_layer.py:347: UserWarning: Some source redshifts are lower than the cluster redshift. kappa = 0 for those galaxies.\n",
      "/Users/nicomasii/opt/anaconda3/envs/clmm/lib/python3.9/site-packages/clmm-0.9.3-py3.9.egg/clmm/theory/func_layer.py:347: UserWarning: Some source redshifts are lower than the cluster redshift. kappa = 0 for those galaxies.\n",
      "/Users/nicomasii/opt/anaconda3/envs/clmm/lib/python3.9/site-packages/clmm-0.9.3-py3.9.egg/clmm/theory/func_layer.py:347: UserWarning: Some source redshifts are lower than the cluster redshift. kappa = 0 for those galaxies.\n",
      "/Users/nicomasii/opt/anaconda3/envs/clmm/lib/python3.9/site-packages/clmm-0.9.3-py3.9.egg/clmm/theory/func_layer.py:347: UserWarning: Some source redshifts are lower than the cluster redshift. kappa = 0 for those galaxies.\n",
      "/Users/nicomasii/opt/anaconda3/envs/clmm/lib/python3.9/site-packages/clmm-0.9.3-py3.9.egg/clmm/theory/func_layer.py:347: UserWarning: Some source redshifts are lower than the cluster redshift. kappa = 0 for those galaxies.\n",
      "/Users/nicomasii/opt/anaconda3/envs/clmm/lib/python3.9/site-packages/clmm-0.9.3-py3.9.egg/clmm/theory/func_layer.py:347: UserWarning: Some source redshifts are lower than the cluster redshift. kappa = 0 for those galaxies.\n",
      "/Users/nicomasii/opt/anaconda3/envs/clmm/lib/python3.9/site-packages/clmm-0.9.3-py3.9.egg/clmm/theory/func_layer.py:347: UserWarning: Some source redshifts are lower than the cluster redshift. kappa = 0 for those galaxies.\n",
      "/Users/nicomasii/opt/anaconda3/envs/clmm/lib/python3.9/site-packages/clmm-0.9.3-py3.9.egg/clmm/theory/func_layer.py:347: UserWarning: Some source redshifts are lower than the cluster redshift. kappa = 0 for those galaxies.\n",
      "/Users/nicomasii/opt/anaconda3/envs/clmm/lib/python3.9/site-packages/clmm-0.9.3-py3.9.egg/clmm/theory/func_layer.py:347: UserWarning: Some source redshifts are lower than the cluster redshift. kappa = 0 for those galaxies.\n",
      "/Users/nicomasii/opt/anaconda3/envs/clmm/lib/python3.9/site-packages/clmm-0.9.3-py3.9.egg/clmm/theory/func_layer.py:347: UserWarning: Some source redshifts are lower than the cluster redshift. kappa = 0 for those galaxies.\n",
      "/Users/nicomasii/opt/anaconda3/envs/clmm/lib/python3.9/site-packages/clmm-0.9.3-py3.9.egg/clmm/theory/func_layer.py:347: UserWarning: Some source redshifts are lower than the cluster redshift. kappa = 0 for those galaxies.\n",
      "/Users/nicomasii/opt/anaconda3/envs/clmm/lib/python3.9/site-packages/clmm-0.9.3-py3.9.egg/clmm/theory/func_layer.py:347: UserWarning: Some source redshifts are lower than the cluster redshift. kappa = 0 for those galaxies.\n",
      "/Users/nicomasii/opt/anaconda3/envs/clmm/lib/python3.9/site-packages/clmm-0.9.3-py3.9.egg/clmm/theory/func_layer.py:347: UserWarning: Some source redshifts are lower than the cluster redshift. kappa = 0 for those galaxies.\n",
      "/Users/nicomasii/opt/anaconda3/envs/clmm/lib/python3.9/site-packages/clmm-0.9.3-py3.9.egg/clmm/theory/func_layer.py:347: UserWarning: Some source redshifts are lower than the cluster redshift. kappa = 0 for those galaxies.\n",
      "/Users/nicomasii/opt/anaconda3/envs/clmm/lib/python3.9/site-packages/clmm-0.9.3-py3.9.egg/clmm/theory/func_layer.py:347: UserWarning: Some source redshifts are lower than the cluster redshift. kappa = 0 for those galaxies.\n"
     ]
    },
    {
     "name": "stderr",
     "output_type": "stream",
     "text": [
      "/Users/nicomasii/opt/anaconda3/envs/clmm/lib/python3.9/site-packages/clmm-0.9.3-py3.9.egg/clmm/theory/func_layer.py:347: UserWarning: Some source redshifts are lower than the cluster redshift. kappa = 0 for those galaxies.\n",
      "/Users/nicomasii/opt/anaconda3/envs/clmm/lib/python3.9/site-packages/clmm-0.9.3-py3.9.egg/clmm/theory/func_layer.py:347: UserWarning: Some source redshifts are lower than the cluster redshift. kappa = 0 for those galaxies.\n",
      "/Users/nicomasii/opt/anaconda3/envs/clmm/lib/python3.9/site-packages/clmm-0.9.3-py3.9.egg/clmm/theory/func_layer.py:347: UserWarning: Some source redshifts are lower than the cluster redshift. kappa = 0 for those galaxies.\n",
      "/Users/nicomasii/opt/anaconda3/envs/clmm/lib/python3.9/site-packages/clmm-0.9.3-py3.9.egg/clmm/theory/func_layer.py:347: UserWarning: Some source redshifts are lower than the cluster redshift. kappa = 0 for those galaxies.\n",
      "/Users/nicomasii/opt/anaconda3/envs/clmm/lib/python3.9/site-packages/clmm-0.9.3-py3.9.egg/clmm/theory/func_layer.py:347: UserWarning: Some source redshifts are lower than the cluster redshift. kappa = 0 for those galaxies.\n",
      "/Users/nicomasii/opt/anaconda3/envs/clmm/lib/python3.9/site-packages/clmm-0.9.3-py3.9.egg/clmm/theory/func_layer.py:347: UserWarning: Some source redshifts are lower than the cluster redshift. kappa = 0 for those galaxies.\n",
      "/Users/nicomasii/opt/anaconda3/envs/clmm/lib/python3.9/site-packages/clmm-0.9.3-py3.9.egg/clmm/theory/func_layer.py:347: UserWarning: Some source redshifts are lower than the cluster redshift. kappa = 0 for those galaxies.\n",
      "/Users/nicomasii/opt/anaconda3/envs/clmm/lib/python3.9/site-packages/clmm-0.9.3-py3.9.egg/clmm/theory/func_layer.py:347: UserWarning: Some source redshifts are lower than the cluster redshift. kappa = 0 for those galaxies.\n",
      "/Users/nicomasii/opt/anaconda3/envs/clmm/lib/python3.9/site-packages/clmm-0.9.3-py3.9.egg/clmm/theory/func_layer.py:347: UserWarning: Some source redshifts are lower than the cluster redshift. kappa = 0 for those galaxies.\n",
      "/Users/nicomasii/opt/anaconda3/envs/clmm/lib/python3.9/site-packages/clmm-0.9.3-py3.9.egg/clmm/theory/func_layer.py:347: UserWarning: Some source redshifts are lower than the cluster redshift. kappa = 0 for those galaxies.\n",
      "/Users/nicomasii/opt/anaconda3/envs/clmm/lib/python3.9/site-packages/clmm-0.9.3-py3.9.egg/clmm/theory/func_layer.py:347: UserWarning: Some source redshifts are lower than the cluster redshift. kappa = 0 for those galaxies.\n",
      "/Users/nicomasii/opt/anaconda3/envs/clmm/lib/python3.9/site-packages/clmm-0.9.3-py3.9.egg/clmm/theory/func_layer.py:347: UserWarning: Some source redshifts are lower than the cluster redshift. kappa = 0 for those galaxies.\n",
      "/Users/nicomasii/opt/anaconda3/envs/clmm/lib/python3.9/site-packages/clmm-0.9.3-py3.9.egg/clmm/theory/func_layer.py:347: UserWarning: Some source redshifts are lower than the cluster redshift. kappa = 0 for those galaxies.\n",
      "/Users/nicomasii/opt/anaconda3/envs/clmm/lib/python3.9/site-packages/clmm-0.9.3-py3.9.egg/clmm/theory/func_layer.py:347: UserWarning: Some source redshifts are lower than the cluster redshift. kappa = 0 for those galaxies.\n",
      "/Users/nicomasii/opt/anaconda3/envs/clmm/lib/python3.9/site-packages/clmm-0.9.3-py3.9.egg/clmm/theory/func_layer.py:347: UserWarning: Some source redshifts are lower than the cluster redshift. kappa = 0 for those galaxies.\n",
      "/Users/nicomasii/opt/anaconda3/envs/clmm/lib/python3.9/site-packages/clmm-0.9.3-py3.9.egg/clmm/theory/func_layer.py:347: UserWarning: Some source redshifts are lower than the cluster redshift. kappa = 0 for those galaxies.\n",
      "/Users/nicomasii/opt/anaconda3/envs/clmm/lib/python3.9/site-packages/clmm-0.9.3-py3.9.egg/clmm/theory/func_layer.py:347: UserWarning: Some source redshifts are lower than the cluster redshift. kappa = 0 for those galaxies.\n",
      "/Users/nicomasii/opt/anaconda3/envs/clmm/lib/python3.9/site-packages/clmm-0.9.3-py3.9.egg/clmm/theory/func_layer.py:347: UserWarning: Some source redshifts are lower than the cluster redshift. kappa = 0 for those galaxies.\n",
      "/Users/nicomasii/opt/anaconda3/envs/clmm/lib/python3.9/site-packages/clmm-0.9.3-py3.9.egg/clmm/theory/func_layer.py:347: UserWarning: Some source redshifts are lower than the cluster redshift. kappa = 0 for those galaxies.\n",
      "/Users/nicomasii/opt/anaconda3/envs/clmm/lib/python3.9/site-packages/clmm-0.9.3-py3.9.egg/clmm/theory/func_layer.py:347: UserWarning: Some source redshifts are lower than the cluster redshift. kappa = 0 for those galaxies.\n",
      "/Users/nicomasii/opt/anaconda3/envs/clmm/lib/python3.9/site-packages/clmm-0.9.3-py3.9.egg/clmm/theory/func_layer.py:347: UserWarning: Some source redshifts are lower than the cluster redshift. kappa = 0 for those galaxies.\n"
     ]
    }
   ],
   "source": [
    "#Generate a mock dataset\n",
    "noisy_data = []\n",
    "ideal_data = []\n",
    "#for loop\n",
    "for k in range (num):\n",
    "    \n",
    "    #Generate a mock dataset of sheared background galaxies with shapenoise and photoz\n",
    "    noisy_data.append(mock.generate_galaxy_catalog(cluster_data['m'][k], \n",
    "                                              cluster_data['z'][k], \n",
    "                                              cluster_data['c'][k], \n",
    "                                                             cosmo, \n",
    "                                                         'chang13', \n",
    "                             zsrc_min = cluster_data['z'][k] + 0.1,\n",
    "                                                   shapenoise=0.05, \n",
    "                                        photoz_sigma_unscaled=0.05, \n",
    "                                    ngals=cluster_data['ngals'][k])) \n",
    "\n",
    "    #Generate a mock dataset of sheared background galaxies without shapenoise and photoz\n",
    "    ideal_data.append(mock.generate_galaxy_catalog(cluster_data['m'][k],\n",
    "                                              cluster_data['z'][k], \n",
    "                                              cluster_data['c'][k],\n",
    "                                                             cosmo,\n",
    "                                                         'chang13',\n",
    "                             zsrc_min = cluster_data['z'][k] + 0.1, \n",
    "                             ngals = int(cluster_data['ngals'][k])))\n",
    "                           \n"
   ]
  },
  {
   "cell_type": "code",
   "execution_count": 9,
   "metadata": {},
   "outputs": [],
   "source": [
    "\n",
    "gc_object =[]\n",
    "for k in range(num):\n",
    "\n",
    "    cluster_id = \"CL_ideal\"\n",
    "    gc_object.append( clmm.GalaxyCluster(cluster_id, \n",
    "                                 cluster_data['ra'][k],\n",
    "                                 cluster_data['dec'][k],\n",
    "                                 cluster_data['z'][k], \n",
    "                                     ideal_data[k]))\n",
    "    gc_object[k].save('ideal_GC_'+str(k)+'.pkl')\n",
    "\n",
    "gc_object =[]\n",
    "\n",
    "for k in range(num):\n",
    "\n",
    "    cluster_id = \"CL_noisy\"\n",
    "    gc_object.append( clmm.GalaxyCluster(cluster_id,\n",
    "                                 cluster_data['ra'][k],\n",
    "                                 cluster_data['dec'][k],\n",
    "                                 cluster_data['z'][k], \n",
    "                                     noisy_data[k]))\n",
    "    gc_object[k].save('noisy_GC_'+str(k)+'.pkl')\n",
    "\n"
   ]
  },
  {
   "cell_type": "code",
   "execution_count": 10,
   "metadata": {},
   "outputs": [],
   "source": [
    "#same question as one cell above\n",
    "cl_ideal = []\n",
    "cl_noisy = []\n",
    "for k in range(num):\n",
    "    cl_ideal.append (clmm.GalaxyCluster.load('ideal_GC_'+str(k)+'.pkl'))\n",
    "    cl_noisy.append (clmm.GalaxyCluster.load('noisy_GC_'+str(k)+'.pkl'))"
   ]
  },
  {
   "cell_type": "code",
   "execution_count": 11,
   "metadata": {},
   "outputs": [
    {
     "data": {
      "text/plain": [
       "(0.0, 5.0)"
      ]
     },
     "execution_count": 11,
     "metadata": {},
     "output_type": "execute_result"
    },
    {
     "data": {
      "image/png": "[encoded data removed]",
      "text/plain": [
       "<Figure size 504x360 with 1 Axes>"
      ]
     },
     "metadata": {
      "needs_background": "light"
     },
     "output_type": "display_data"
    }
   ],
   "source": [
    "k=0\n",
    "plt.figure(figsize=(7,5))\n",
    "plt.hist(cl_ideal[k].galcat['z'], density = True, bins = 50)\n",
    "plt.axvline(x = cluster_data['z'][k], color='orange', label = 'cluster redshift')\n",
    "plt.xlabel(r'$z_{src}$', fontsize = 20)\n",
    "plt.ylabel(r'$N(z$)', fontsize = 20)\n",
    "plt.legend()\n",
    "plt.xlim(0,5)"
   ]
  },
  {
   "cell_type": "code",
   "execution_count": 12,
   "metadata": {},
   "outputs": [],
   "source": [
    "for k in range(num):\n",
    "    cl_ideal[k].compute_tangential_and_cross_components(geometry=\"flat\")\n",
    "    cl_noisy[k].compute_tangential_and_cross_components(geometry=\"flat\")\n"
   ]
  },
  {
   "cell_type": "code",
   "execution_count": 13,
   "metadata": {},
   "outputs": [],
   "source": [
    "bin_edges = da.make_bins(0.2, 4, 15, method='evenlog10width')\n"
   ]
  },
  {
   "cell_type": "code",
   "execution_count": 14,
   "metadata": {},
   "outputs": [],
   "source": [
    "for k in range(num):\n",
    "    cl_ideal[k].make_radial_profile(\"Mpc\", bins=bin_edges, cosmo=cosmo, gal_ids_in_bins=True)\n",
    "    cl_noisy[k].make_radial_profile(\"Mpc\", bins=bin_edges, cosmo=cosmo, gal_ids_in_bins=True)\n",
    "\n"
   ]
  },
  {
   "cell_type": "code",
   "execution_count": 15,
   "metadata": {},
   "outputs": [
    {
     "name": "stderr",
     "output_type": "stream",
     "text": [
      "/Users/nicomasii/opt/anaconda3/envs/clmm/lib/python3.9/site-packages/clmm-0.9.3-py3.9.egg/clmm/theory/func_layer.py:416: UserWarning: Some source redshifts are lower than the cluster redshift. shear = 0 for those galaxies.\n"
     ]
    }
   ],
   "source": [
    "\n",
    "gt_model_ideal_singlez = []\n",
    "gt_model_ideal_zdistrib = []\n",
    "gt_model_noisy_singlez = []\n",
    "gt_model_noisy_zdistrib = []\n",
    "r_id=[]\n",
    "r_no=[]\n",
    "for k in range(num):\n",
    "\n",
    "    r_id.append(cl_ideal[k].profile['radius'])\n",
    "    r_no.append(cl_noisy[k].profile['radius'])\n",
    "   \n",
    "\n",
    "    gt_model_ideal_singlez.append(fc.model_reduced_tangential_shear_singlez(r_id[k], \n",
    "                                                           cluster_data['logm'][k],\n",
    "                                                          cl_ideal[k].profile['z'],\n",
    "                                                              cluster_data['z'][k],\n",
    "                                                              cluster_data['c'][k],cosmo))\n",
    "    \n",
    "    gt_model_ideal_zdistrib.append(fc.model_reduced_tangential_shear_zdistrib(r_id[k],\n",
    "                                                             cluster_data['logm'][k],\n",
    "                                                                  ideal_data[k],\n",
    "                                                                    cl_ideal[k], \n",
    "                                                            cl_ideal[k].profile,\n",
    "                                                             cluster_data['z'][k], \n",
    "                                                            cluster_data['c'][k],cosmo))\n",
    "    \n",
    "    gt_model_noisy_singlez.append(fc.model_reduced_tangential_shear_singlez(r_no[k], \n",
    "                                                           cluster_data['logm'][k],\n",
    "                                                          cl_noisy[k].profile['z'],\n",
    "                                                              cluster_data['z'][k],\n",
    "                                                              cluster_data['c'][k],cosmo))\n",
    "    \n",
    "    gt_model_noisy_zdistrib.append(fc.model_reduced_tangential_shear_zdistrib(r_no[k],\n",
    "                                                             cluster_data['logm'][k],\n",
    "                                                                  noisy_data[k],\n",
    "                                                                    cl_noisy[k], \n",
    "                                                            cl_noisy[k].profile,\n",
    "                                                             cluster_data['z'][k], \n",
    "                                                            cluster_data['c'][k],cosmo))\n"
   ]
  },
  {
   "cell_type": "code",
   "execution_count": 16,
   "metadata": {},
   "outputs": [],
   "source": [
    "#ab hier gucken\n",
    "\n",
    "m_est_ideal_zdistrib = [None]*num\n",
    "m_est_err_ideal_zdistrib = [None]*num\n",
    "for k in range(num):\n",
    "\n",
    "    func = lambda r, x : fc.model_reduced_tangential_shear_zdistrib(r,x, \n",
    "                                                       ideal_data[k],\n",
    "                                                         cl_ideal[k], \n",
    "                                                 cl_ideal[k].profile, \n",
    "                                                  cluster_data['z'][k], \n",
    "                                                  cluster_data['c'][k],cosmo)\n",
    "\n",
    "    popt,pcov = fitters['curve_fit'](func, \n",
    "                        cl_ideal[k].profile['radius'], \n",
    "                        cl_ideal[k].profile['gt'], \n",
    "                        cl_ideal[k].profile['gt_err'], bounds=[10.,17.])#p0 war bei 14.6 habe ich gelöscht\n",
    "\n",
    "    \n",
    "    m_est_ideal_zdistrib[k] = 10.**popt[0]\n",
    "    m_est_err_ideal_zdistrib[k] =  m_est_ideal_zdistrib[k] * np.sqrt(pcov[0][0]) * np.log(10) \n",
    "   \n",
    "        \n"
   ]
  },
  {
   "cell_type": "code",
   "execution_count": 17,
   "metadata": {},
   "outputs": [],
   "source": [
    "m_est_ideal_singlez = [None]*num\n",
    "m_est_err_ideal_singlez = [None]*num\n",
    "for k in range(num):\n",
    "\n",
    "    funct = lambda r, logm : fc.model_reduced_tangential_shear_singlez(r,\n",
    "                                                                 logm, \n",
    "                                             cl_ideal[k].profile['z'], \n",
    "                                                   cluster_data['z'][k], \n",
    "                                                  cluster_data['c'][k],cosmo)\n",
    "    popt,pcov = fitters['curve_fit'](funct, \n",
    "                        cl_ideal[k].profile['radius'], \n",
    "                        cl_ideal[k].profile['gt'], \n",
    "                        cl_ideal[k].profile['gt_err'], bounds=[10.,17.])\n",
    "\n",
    "    m_est_ideal_singlez[k] = 10.**popt[0]\n",
    "    m_est_err_ideal_singlez[k] = m_est_ideal_singlez[k] * np.sqrt(pcov[0][0]) * np.log(10)\n",
    "\n"
   ]
  },
  {
   "cell_type": "code",
   "execution_count": 18,
   "metadata": {},
   "outputs": [],
   "source": [
    "m_est_noisy_zdistrib = [None]*num\n",
    "m_est_err_noisy_zdistrib = [None]*num\n",
    "for k in range(num):\n",
    "    \n",
    "    funct = lambda r, logm : fc.model_reduced_tangential_shear_zdistrib(r, \n",
    "                                                                  logm, \n",
    "                                                         noisy_data[k],\n",
    "                                                           cl_noisy[k], \n",
    "                                                   cl_noisy[k].profile, \n",
    "                                                    cluster_data['z'][k], \n",
    "                                                  cluster_data['c'][k],cosmo) \n",
    "    popt,pcov = fitters['curve_fit'](funct, \n",
    "                        cl_noisy[k].profile['radius'], \n",
    "                        cl_noisy[k].profile['gt'], \n",
    "                        cl_noisy[k].profile['gt_err'], bounds=[10.,16.])\n",
    "\n",
    "    m_est_noisy_zdistrib[k] = 10.**popt[0]\n",
    "    m_est_err_noisy_zdistrib[k] =  m_est_noisy_zdistrib[k] * np.sqrt(pcov[0][0]) * np.log(10) \n",
    "\n"
   ]
  },
  {
   "cell_type": "code",
   "execution_count": 19,
   "metadata": {},
   "outputs": [],
   "source": [
    "m_est_noisy_singlez = [None]*num\n",
    "m_est_err_noisy_singlez =[None]*num\n",
    "for k in range(num):\n",
    "\n",
    "    funct = lambda r, logm : fc.model_reduced_tangential_shear_singlez(r, \n",
    "                                                                 logm, \n",
    "                                             cl_noisy[k].profile['z'],\n",
    "                                                   cluster_data['z'][k], \n",
    "                                                  cluster_data['c'][k],cosmo)\n",
    "    popt,pcov = fitters['curve_fit'](funct, \n",
    "                        cl_noisy[k].profile['radius'], \n",
    "                        cl_noisy[k].profile['gt'], \n",
    "                        cl_noisy[k].profile['gt_err'],bounds=[10.,16.])\n",
    "\n",
    "    m_est_noisy_singlez[k] = 10**popt[0]\n",
    "    m_est_err_noisy_singlez[k] =  m_est_noisy_singlez[k] * np.sqrt(pcov[0][0])*np.log(10)\n",
    "    m_est_err_noisy_singlez_lg = np.sqrt(pcov[0][0])\n",
    "\n"
   ]
  },
  {
   "cell_type": "code",
   "execution_count": 20,
   "metadata": {},
   "outputs": [],
   "source": [
    "gt_est_ideal_zdistrib = []\n",
    "gt_est_noisy_zdistrib = []\n",
    "gt_est_ideal_singlez = []\n",
    "gt_est_noisy_singlez = []\n",
    "\n",
    "for k in range(num):\n",
    "\n",
    "    gt_est_ideal_zdistrib.append(fc.model_reduced_tangential_shear_zdistrib\n",
    "                                            (r_id[k],\n",
    "                                np.log(m_est_ideal_zdistrib[k])/np.log(10), \n",
    "                                                             ideal_data[k], \n",
    "                                                               cl_ideal[k], \n",
    "                                                       cl_ideal[k].profile, \n",
    "                                                      cluster_data['z'][k], \n",
    "                                                      cluster_data['c'][k],\n",
    "                                                                    cosmo))\n",
    "\n",
    "    gt_est_noisy_zdistrib.append(fc.model_reduced_tangential_shear_zdistrib\n",
    "                                            (r_no[k], \n",
    "                                np.log(m_est_noisy_zdistrib[k])/np.log(10), \n",
    "                                                             noisy_data[k], \n",
    "                                                               cl_noisy[k], \n",
    "                                                       cl_noisy[k].profile,\n",
    "                                                      cluster_data['z'][k], \n",
    "                                                      cluster_data['c'][k],\n",
    "                                                                    cosmo))\n",
    "\n",
    "    gt_est_ideal_singlez.append(fc.model_reduced_tangential_shear_singlez\n",
    "                                           (r_id[k], \n",
    "                                np.log(m_est_ideal_singlez[k])/np.log(10),\n",
    "                                                 cl_ideal[k].profile['z'],\n",
    "                                                     cluster_data['z'][k], \n",
    "                                                     cluster_data['c'][k],\n",
    "                                                                   cosmo))\n",
    "    \n",
    "    gt_est_noisy_singlez.append(fc.model_reduced_tangential_shear_singlez\n",
    "                                           (r_no[k],\n",
    "                                np.log(m_est_noisy_singlez[k])/np.log(10),\n",
    "                                                 cl_noisy[k].profile['z'],\n",
    "                                                     cluster_data['z'][k], \n",
    "                                                     cluster_data['c'][k],\n",
    "                                                                   cosmo))\n"
   ]
  },
  {
   "cell_type": "code",
   "execution_count": 21,
   "metadata": {},
   "outputs": [],
   "source": [
    "#Visualization of the results\n",
    "#For visualization purpose, we calculate the reduced tangential shear predicted by the model with estimated masses for noisy and ideal data."
   ]
  },
  {
   "cell_type": "code",
   "execution_count": 22,
   "metadata": {},
   "outputs": [
    {
     "data": {
      "text/plain": [
       "<matplotlib.legend.Legend at 0x7fed492ab3d0>"
      ]
     },
     "execution_count": 22,
     "metadata": {},
     "output_type": "execute_result"
    },
    {
     "data": {
      "image/png": "[encoded data removed]",
      "text/plain": [
       "<Figure size 1440x432 with 2 Axes>"
      ]
     },
     "metadata": {
      "needs_background": "light"
     },
     "output_type": "display_data"
    }
   ],
   "source": [
    "k=10\n",
    "plt.figure(figsize=( 20 , 6 ))\n",
    "plt.subplot( 1 , 2 , 1 )\n",
    "plt.title(r'tangential shear $g_t$ (ideal data)', fontsize=20)\n",
    "plt.errorbar(r_id[k],cl_ideal[k].profile['gt'],cl_ideal[k].profile['gt_err'],c='k',linestyle='', \n",
    "             marker='o', label=r'ideal data, $M_{input}$ = %.1e Msun' % cluster_data['m'][k])\n",
    "plt.loglog(r_id[k],gt_est_ideal_zdistrib[k],'-b', \n",
    "           label=fr'model zdistrib, M_fit = {m_est_ideal_zdistrib[k]:.2e} $\\pm$ {m_est_err_ideal_zdistrib[k]:.2e} Msun')\n",
    "plt.loglog(r_id[k],gt_est_ideal_singlez[k],'-y',\\\n",
    "           label=fr'model singlez, M_fit = {m_est_ideal_singlez[k]:.2e} $\\pm$ {m_est_err_ideal_singlez[k]:.2e} Msun')\n",
    "\n",
    "plt.xlabel('r [Mpc]', fontsize = 20)\n",
    "plt.ylabel(r'$g_t$', fontsize = 20)\n",
    "plt.xlim(min(cl_ideal[k].profile['radius']), max(cl_ideal[k].profile['radius']))\n",
    "plt.legend(fontsize = 15)\n",
    "\n",
    "\n",
    "plt.subplot( 1 , 2 , 2 )\n",
    "plt.title(r'tangential shear $g_t$ (noisy data)', fontsize=20)\n",
    "plt.errorbar(r_no[k],cl_noisy[k].profile['gt'],cl_noisy[k].profile['gt_err'],c='k',linestyle='', marker='o', label=r'noisy data, $M_{input}$ = %.1e Msun' % cluster_data['m'][k])\n",
    "plt.loglog(r_no[k],gt_est_noisy_zdistrib[k],'-b', \n",
    "           label=fr'model zdistrib, M_fit = {m_est_noisy_zdistrib[k]:.2e} $\\pm$ {m_est_err_noisy_zdistrib[k]:.2e} Msun')\n",
    "plt.loglog(r_no[k],gt_est_noisy_singlez[k],'-y', \n",
    "           label=fr'model singlez, M_fit = {m_est_noisy_singlez[k]:.2e} $\\pm$ {m_est_err_noisy_singlez[k]:.2e} Msun')\n",
    "\n",
    "plt.xlabel('r [Mpc]', fontsize = 20)\n",
    "plt.ylabel(r'$g_t$', fontsize = 20)\n",
    "plt.xlim(min(cl_noisy[k].profile['radius']), max(cl_noisy[k].profile['radius']))\n",
    "plt.legend(fontsize = 15)"
   ]
  },
  {
   "cell_type": "code",
   "execution_count": 23,
   "metadata": {},
   "outputs": [],
   "source": [
    "#calculate the average of the input masses\n",
    "cluster_data_mass_avg = np.average(cluster_data['m'])\n",
    "#calculate the avere of the estimated mass (ideal data) (bad method)\n",
    "m_est_ideal_singlez_avg = np.average(m_est_ideal_singlez)\n",
    "#calculate the standarddeviation of the estimated mass (ideal data) (bad method)\n",
    "m_est_ideal_singlez_avg_err = np.sum(m_est_err_ideal_singlez)/np.size(m_est_err_ideal_singlez)\n",
    "\n",
    "\n",
    "#calculate the avere of the estimated mass (noisy data) (bad method)\n",
    "m_est_noisy_singlez_avg = np.average(m_est_noisy_singlez)\n",
    "#calculate the standarddeviation of the estimated mass (noisy data) (bad method)\n",
    "m_est_noisy_singlez_avg_err = np.sum(m_est_err_noisy_singlez)/np.size(m_est_err_noisy_singlez)\n",
    "\n",
    "\n",
    "\n",
    "\n",
    "#calculate the avere of the estimated mass (ideal data)(good method)\n",
    "m_est_ideal_zdistrib_avg = np.average(m_est_ideal_zdistrib)\n",
    "#calculate the standarddeviation of the estimated mass (ideal data)(good method)\n",
    "m_est_ideal_zdistrib_avg_err = np.sum(m_est_err_ideal_zdistrib)/np.size(m_est_err_ideal_zdistrib)\n",
    "\n",
    "\n",
    "#calculate the avere of the estimated mass (noisy data)(good method)\n",
    "m_est_noisy_zdistrib_avg = np.average(m_est_noisy_zdistrib)\n",
    "#calculate the standarddeviation of the estimated mass (noisy data)(good method)\n",
    "m_est_noisy_zdistrib_avg_err = np.sum(m_est_err_noisy_zdistrib)/np.size(m_est_err_noisy_zdistrib)\n",
    "\n"
   ]
  },
  {
   "cell_type": "code",
   "execution_count": 24,
   "metadata": {},
   "outputs": [
    {
     "data": {
      "image/png": "[encoded data removed]",
      "text/plain": [
       "<Figure size 432x288 with 1 Axes>"
      ]
     },
     "metadata": {
      "needs_background": "light"
     },
     "output_type": "display_data"
    }
   ],
   "source": [
    "#input estimated masszdistrib\n",
    "plt.hist(m_est_ideal_singlez, bins=np.logspace(13,15,100), facecolor='y', alpha=0.5, label=\"estimated mass ideal\")\n",
    "plt.hist(m_est_noisy_singlez, bins=np.logspace(13,15,100), facecolor='b', alpha=0.5, label=\"estimated mass noisy\")\n",
    "plt.axvline(cluster_data_mass_avg, color='k', linestyle='solid', linewidth=1 , label=\"input mass average\")\n",
    "plt.axvline(m_est_ideal_singlez_avg, color='c', linestyle='solid', linewidth=1, label=\"estimated mass avg ideal\")\n",
    "plt.axvline(m_est_ideal_singlez_avg-m_est_ideal_singlez_avg_err, color='c', linestyle='dashed', linewidth=1, label=\"estimated mass avg err ideal\")\n",
    "plt.axvline(m_est_ideal_singlez_avg+m_est_ideal_singlez_avg_err, color='c', linestyle='dashed', linewidth=1)\n",
    "plt.axvline(m_est_noisy_singlez_avg, color='r', linestyle='solid', linewidth=1, label=\"estimated mass avg noisy\")\n",
    "plt.axvline(m_est_noisy_singlez_avg-m_est_noisy_singlez_avg_err, color='r', linestyle='dashed', linewidth=1, label=\"estimated mass avg err noisy\")\n",
    "plt.axvline(m_est_noisy_singlez_avg+m_est_noisy_singlez_avg_err, color='r', linestyle='dashed', linewidth=1)\n",
    "plt.hist(cluster_data['m'],bins=np.logspace(13,15,100), facecolor='g', alpha=0.5 , label=\"input\")\n",
    "plt.xlabel('Estimated mass vs input mass bad method')\n",
    "plt.legend(loc=\"upper right\")\n",
    "plt.gca().set_xscale(\"log\")\n",
    "plt.ylabel('N')\n",
    "plt.show()\n"
   ]
  },
  {
   "cell_type": "code",
   "execution_count": 25,
   "metadata": {},
   "outputs": [
    {
     "data": {
      "image/png": "[encoded data removed]",
      "text/plain": [
       "<Figure size 432x288 with 1 Axes>"
      ]
     },
     "metadata": {
      "needs_background": "light"
     },
     "output_type": "display_data"
    }
   ],
   "source": [
    "#input estimated masszdistrib\n",
    "pyrand = np.random.normal(m_est_ideal_zdistrib\n",
    "                        ,m_est_err_ideal_zdistrib)\n",
    "plt.hist(m_est_ideal_zdistrib, bins=np.logspace(13,15,100),  facecolor='y', alpha=0.5, label=\"estimated mass ideal\")\n",
    "plt.hist(m_est_noisy_zdistrib, bins=np.logspace(13,15,100),  facecolor='b', alpha=0.5, label=\"estimated mass noisy\")\n",
    "plt.axvline(cluster_data_mass_avg, color='k', linestyle='solid', linewidth=1 , label=\"input mass average\")\n",
    "plt.axvline(m_est_ideal_zdistrib_avg, color='c',alpha=0.5, linestyle='solid', linewidth=1, label=\"estimated mass avg ideal\")\n",
    "plt.axvline(m_est_ideal_zdistrib_avg-m_est_ideal_zdistrib_avg_err, color='c', linestyle='dashed', linewidth=1, label=\"estimated mass avg err ideal\")\n",
    "plt.axvline(m_est_ideal_zdistrib_avg+m_est_ideal_zdistrib_avg_err, color='c', linestyle='dashed', linewidth=1)\n",
    "plt.axvline(m_est_noisy_zdistrib_avg, color='r', linestyle='solid', linewidth=1, label=\"estimated mass avg noisy\")\n",
    "plt.axvline(m_est_noisy_zdistrib_avg-m_est_noisy_zdistrib_avg_err, color='r', linestyle='dashed', linewidth=1, label=\"estimated mass avg err noisy\")\n",
    "plt.axvline(m_est_noisy_zdistrib_avg+m_est_noisy_zdistrib_avg_err, color='r', linestyle='dashed', linewidth=1)\n",
    "plt.hist(cluster_data['m'], bins=np.logspace(13,15,100), facecolor='g', alpha=0.5 , label=\"input\")\n",
    "plt.xlabel('Estimated mass vs input mass good method')\n",
    "plt.xscale('log')\n",
    "plt.legend(loc=\"upper right\")\n",
    "plt.ylabel('N')\n",
    "plt.show()\n"
   ]
  },
  {
   "cell_type": "code",
   "execution_count": 26,
   "metadata": {},
   "outputs": [
    {
     "data": {
      "image/png": "[encoded data removed]",
      "text/plain": [
       "<Figure size 432x288 with 1 Axes>"
      ]
     },
     "metadata": {
      "needs_background": "light"
     },
     "output_type": "display_data"
    }
   ],
   "source": [
    "import matplotlib.pyplot as plt\n",
    "import scipy.stats\n",
    "import numpy as np\n",
    "from math import log, exp\n",
    "difference_noisy_singlez = np.log10(m_est_noisy_singlez)-np.log10(cluster_data['m'])\n",
    "std_noisy_singlez = (1/np.log(10))*np.array(m_est_err_noisy_singlez)/np.array(m_est_noisy_singlez)\n",
    "x_min=-5\n",
    "x_max=5\n",
    "\n",
    "x = np.linspace(x_min, x_max, 1000)\n",
    "ysum_noisy_singlez = 0\n",
    "\n",
    "for k in range(num):\n",
    "\n",
    "    y_noisy_singlez = scipy.stats.norm.pdf(x,difference_noisy_singlez[k],std_noisy_singlez[k])\n",
    "    ysum_noisy_singlez = ysum_noisy_singlez + y_noisy_singlez\n",
    "    plt.plot(x,y_noisy_singlez, color='coral',alpha=0.5)\n",
    "\n",
    "\n",
    "plt.plot(x,ysum_noisy_singlez/200, color='blue')\n",
    "plt.xlabel('$\\Delta$M')\n",
    "plt.ylabel('N')\n",
    "plt.show()\n"
   ]
  },
  {
   "cell_type": "code",
   "execution_count": 27,
   "metadata": {},
   "outputs": [
    {
     "data": {
      "image/png": "[encoded data removed]",
      "text/plain": [
       "<Figure size 432x288 with 1 Axes>"
      ]
     },
     "metadata": {
      "needs_background": "light"
     },
     "output_type": "display_data"
    }
   ],
   "source": [
    "import matplotlib.pyplot as plt\n",
    "import scipy.stats\n",
    "import numpy as np\n",
    "from math import log, exp\n",
    "difference_noisy_zdistrib = np.log10(m_est_noisy_zdistrib)-np.log10(cluster_data['m'])\n",
    "std_noisy_zdistrib = (1/np.log(10))*np.array(m_est_err_noisy_zdistrib)/np.array(m_est_noisy_zdistrib)\n",
    "x_min=-5\n",
    "x_max=5\n",
    "x = np.linspace(x_min, x_max, 1000)\n",
    "ysum_noisy_zdistrib = 0\n",
    "\n",
    "for k in range(num):\n",
    "\n",
    "    y_noisy_zdistrib = scipy.stats.norm.pdf(x,difference_noisy_zdistrib[k],std_noisy_zdistrib[k])\n",
    "    ysum_noisy_zdistrib = ysum_noisy_zdistrib + y_noisy_zdistrib\n",
    "    plt.plot(x,y_noisy_zdistrib, color='coral',alpha=0.5)\n",
    "    \n",
    "plt.plot(x,ysum_noisy_zdistrib/200, color='blue')\n",
    "plt.xlabel('$\\Delta$M')\n",
    "plt.ylabel('N')\n",
    "plt.show()\n"
   ]
  },
  {
   "cell_type": "code",
   "execution_count": 28,
   "metadata": {},
   "outputs": [
    {
     "data": {
      "image/png": "[encoded data removed]",
      "text/plain": [
       "<Figure size 432x288 with 1 Axes>"
      ]
     },
     "metadata": {
      "needs_background": "light"
     },
     "output_type": "display_data"
    }
   ],
   "source": [
    "#unwichtig aber sachen werden berechnet\n",
    "import matplotlib.pyplot as plt\n",
    "import scipy.stats\n",
    "import numpy as np\n",
    "from math import log, exp\n",
    "difference_ideal_singlez = np.log10(m_est_ideal_singlez)-np.log10(cluster_data['m'])\n",
    "#print(difference)\n",
    "std_ideal_singlez = (1/np.log(10))*np.array(m_est_err_ideal_singlez)/np.array(m_est_ideal_singlez)\n",
    "#print(mean)\n",
    "#print(std)\n",
    "x_min=-5\n",
    "x_max=5\n",
    "\n",
    "x = np.linspace(x_min, x_max, 1000)\n",
    "ysum_ideal_singlez = 0\n",
    "\n",
    "for k in range(num):\n",
    "\n",
    "    y_ideal_singlez = scipy.stats.norm.pdf(x,difference_ideal_singlez[k],std_ideal_singlez[k])\n",
    "    #print(y[k])\n",
    "    #print(mean[k])\n",
    "    #print(std[k])\n",
    "    ysum_ideal_singlez = ysum_ideal_singlez + y_ideal_singlez\n",
    "    \n",
    "    #plt.plot(x,y, color='coral')\n",
    "\n",
    "   \n",
    "\n",
    "    plt.plot(x,y_ideal_singlez, color='coral',alpha=0.5)\n",
    "#print(ysum)\n",
    "\n",
    "plt.plot(x,ysum_ideal_singlez/200, color='blue')\n",
    "plt.xlabel('$\\Delta$M')\n",
    "plt.ylabel('N')\n",
    "\n",
    "#plt.plot(y,z)\n",
    "\n",
    "plt.show()\n",
    "#print(mean)\n",
    "#print(std)"
   ]
  },
  {
   "cell_type": "code",
   "execution_count": 29,
   "metadata": {},
   "outputs": [
    {
     "data": {
      "image/png": "[encoded data removed]",
      "text/plain": [
       "<Figure size 432x288 with 1 Axes>"
      ]
     },
     "metadata": {
      "needs_background": "light"
     },
     "output_type": "display_data"
    }
   ],
   "source": [
    "#unwichtig aber sachen werden berechnet\n",
    "import matplotlib.pyplot as plt\n",
    "import scipy.stats\n",
    "import numpy as np\n",
    "from math import log, exp\n",
    "difference_ideal_zdistrib = np.log10(m_est_ideal_zdistrib)-np.log10(cluster_data['m'])\n",
    "std_ideal_zdistrib = (1/np.log(10))*np.array(m_est_err_ideal_zdistrib)/np.array(m_est_ideal_zdistrib)\n",
    "x_min=-5\n",
    "x_max=5\n",
    "\n",
    "x = np.linspace(x_min, x_max, 1000)\n",
    "ysum_ideal_zdistrib = 0\n",
    "\n",
    "for k in range(num):\n",
    "\n",
    "    y_ideal_zdistrib = scipy.stats.norm.pdf(x,difference_ideal_zdistrib[k],std_ideal_zdistrib[k])\n",
    "    ysum_ideal_zdistrib = ysum_ideal_zdistrib + y_ideal_zdistrib\n",
    "    plt.plot(x,y_ideal_zdistrib, color='coral',alpha=0.5)\n",
    "    \n",
    "plt.plot(x,ysum_ideal_zdistrib/200, color='blue')\n",
    "plt.xlabel('$\\Delta$M')\n",
    "plt.ylabel('N')\n",
    "plt.show()\n"
   ]
  },
  {
   "cell_type": "code",
   "execution_count": 30,
   "metadata": {},
   "outputs": [
    {
     "data": {
      "image/png": "[encoded data removed]",
      "text/plain": [
       "<Figure size 432x288 with 4 Axes>"
      ]
     },
     "metadata": {
      "needs_background": "light"
     },
     "output_type": "display_data"
    }
   ],
   "source": [
    "#alle methoden in einem Plot\n",
    "\n",
    "fig, axs = plt.subplots(2, 2)\n",
    "axs[0, 0].scatter(np.log10(cluster_data['m']),difference_ideal_singlez, alpha = 0.5, s=0.1, marker=',')\n",
    "axs[0, 0].set_title('ideal_singlez')\n",
    "axs[0, 0].errorbar(np.log10(cluster_data['m']), difference_ideal_singlez, yerr=std_ideal_singlez, fmt='.', ecolor = 'orange',c='black')\n",
    "axs[0, 0].set_xlim([12.75,16])\n",
    "axs[0, 0].set_ylim([-0.08,0.08])\n",
    "\n",
    "\n",
    "axs[1, 0].scatter(np.log10(cluster_data['m']),difference_noisy_singlez, alpha = 0.5, s=0.1, marker=',')\n",
    "axs[1, 0].set_title('noisy_singlez')\n",
    "axs[1, 0].errorbar(np.log10(cluster_data['m']), difference_noisy_singlez, yerr=std_noisy_singlez, fmt='.', ecolor = 'orange',c='black')\n",
    "axs[1, 0].set_xlim([12.75,16])\n",
    "axs[1, 0].set_ylim([-2,2])\n",
    "\n",
    "axs[0, 1].scatter(np.log10(cluster_data['m']),difference_ideal_zdistrib, alpha = 0.5, s=0.1, marker=',')\n",
    "axs[0, 1].set_title('ideal_zdistrib')\n",
    "axs[0, 1].errorbar(np.log10(cluster_data['m']), difference_ideal_zdistrib, yerr=std_ideal_zdistrib, fmt='.', ecolor = 'orange',c='black')\n",
    "axs[0, 1].set_xlim([12.75,16])\n",
    "axs[0, 1].set_ylim([-0.08,0.08])\n",
    "\n",
    "axs[1, 1].scatter(np.log10(cluster_data['m']),difference_noisy_zdistrib, alpha = 0.5, s=0.1, marker=',')\n",
    "axs[1, 1].set_title('noisy_zdistrib')\n",
    "axs[1, 1].errorbar(np.log10(cluster_data['m']), difference_noisy_zdistrib, yerr=std_noisy_zdistrib, fmt='.', ecolor = 'orange',c='black')\n",
    "axs[1, 1].set_xlim([12.75,16])\n",
    "axs[1, 1].set_ylim([-2,2])\n",
    "\n",
    "\n",
    "for ax in axs.flat:\n",
    "    ax.set(xlabel='log(M_true)', ylabel='log10($\\Delta$M)')\n",
    "\n",
    "#Hide x labels and tick labels for top plots and y ticks for right plots.\n",
    "for ax in axs.flat:\n",
    "    ax.label_outer()"
   ]
  },
  {
   "cell_type": "code",
   "execution_count": 31,
   "metadata": {},
   "outputs": [
    {
     "data": {
      "image/png": "[encoded data removed]",
      "text/plain": [
       "<Figure size 432x288 with 2 Axes>"
      ]
     },
     "metadata": {
      "needs_background": "light"
     },
     "output_type": "display_data"
    }
   ],
   "source": [
    "#alle methoden in einem Plot\n",
    "ysum_ideal_singlez = 0\n",
    "ysum_noisy_singlez = 0\n",
    "ysum_ideal_zdistrib = 0\n",
    "ysum_noisy_zdistrib = 0\n",
    "fig, axs = plt.subplots(2,1)\n",
    "\n",
    "for k in range(num):\n",
    "    y_noisy_singlez = scipy.stats.norm.pdf(x,difference_noisy_singlez[k],std_noisy_singlez[k])\n",
    "    ysum_noisy_singlez = ysum_noisy_singlez + y_noisy_singlez\n",
    "    axs[0].plot(x,y_noisy_singlez, color='coral',alpha=0.5)\n",
    "\n",
    "axs[0].plot(x,ysum_noisy_singlez/100, color='blue')\n",
    "axs[0].set_title('noisy_singlez')\n",
    "axs[0].set_xlim([-4,4])\n",
    "axs[0].set_ylim([-0.5,20])\n",
    "\n",
    "\n",
    "for k in range(num):\n",
    "    y_noisy_zdistrib = scipy.stats.norm.pdf(x,difference_noisy_zdistrib[k],std_noisy_zdistrib[k])\n",
    "    ysum_noisy_zdistrib = ysum_noisy_zdistrib + y_noisy_zdistrib\n",
    "    axs[1].plot(x,y_noisy_zdistrib, color='coral',alpha=0.5)\n",
    "    \n",
    "axs[1].plot(x,ysum_noisy_zdistrib/100, color='blue')\n",
    "axs[1].set_title('noisy_zdistrib')\n",
    "axs[1].set_xlim([-4,4])\n",
    "axs[1].set_ylim([-0.5,20])\n",
    "\n",
    "\n",
    "for ax in axs.flat:\n",
    "    ax.set(xlabel='$\\Delta$M', ylabel='N')\n",
    "\n",
    "# Hide x labels and tick labels for top plots and y ticks for right plots.\n",
    "for ax in axs.flat:\n",
    "    ax.label_outer()"
   ]
  },
  {
   "cell_type": "code",
   "execution_count": 32,
   "metadata": {},
   "outputs": [],
   "source": [
    "#compute the excess surface density\n",
    "import clmm.theory as m\n",
    "mass_Delta = 200\n",
    "DeltaSigma = []\n",
    "r3d = cl_ideal[0].profile['radius']\n",
    "density_profile_parametrization = 'nfw'\n",
    "for k in range(num):\n",
    "    #r3d = np.logspace(0.2, 2, 15)\n",
    "    cluster_mass = cluster_data['m'][k]\n",
    "    cluster_concentration = cluster_data['c'][k]\n",
    "    z_cl = cluster_data['z'][k]\n",
    "    DeltaSigma.append(m.compute_excess_surface_density(r3d, cluster_mass, cluster_concentration, z_cl, cosmo=cosmo, \n",
    "                                              delta_mdef=mass_Delta, \n",
    "                                              halo_profile_model=density_profile_parametrization))"
   ]
  },
  {
   "cell_type": "code",
   "execution_count": 33,
   "metadata": {},
   "outputs": [
    {
     "data": {
      "image/png": "[encoded data removed]",
      "text/plain": [
       "<Figure size 432x288 with 1 Axes>"
      ]
     },
     "metadata": {
      "needs_background": "light"
     },
     "output_type": "display_data"
    }
   ],
   "source": [
    "#Plot the excess Surface density against R\n",
    "# Label für die y-Achse vergeben:\n",
    "plt.ylabel('$\\Delta\\Sigma$')\n",
    "plt.xlabel('R3d-Radial position from the cluster center')\n",
    "# Einen x-y-Plot erstellen:\n",
    "plt.plot(r3d, DeltaSigma[0],color='black', linestyle='', marker='.')\n",
    "\n",
    "# Achsen-Bereiche manuell festlegen\n",
    "# Syntax: plt.axis([xmin, xmax, ymin, ymax])\n",
    "#plt.axis([0, 5, 0, 20])\n",
    "plt.xscale('log')\n",
    "plt.yscale('log')\n",
    "# Ein gepunktetes Diagramm-Gitter einblenden:\n",
    "plt.grid(True)\n",
    "\n",
    "\n",
    "# Diagramm anzeigen:\n",
    "plt.show()"
   ]
  },
  {
   "cell_type": "code",
   "execution_count": 34,
   "metadata": {},
   "outputs": [],
   "source": [
    "#eval sigma_crit from gamma t\n",
    "#delta_sigma= gamma_t * sigma_crit\n",
    "import clmm.cosmology.ccl as tt\n",
    "cosm=tt.CCLCosmology()\n",
    "Sigmacrit=[]\n",
    "\n",
    "for k in range(num):\n",
    "    \n",
    "    \n",
    "    Sigmacrit.append(cosm.eval_sigma_crit(z_src=cl_ideal[k].profile['z'], z_len=cluster_data['z'][k]))\n",
    "    \n",
    "#delta sigma from gamma t\n",
    "deltasigma_gt=cl_ideal[0].profile['gt']*Sigmacrit[0]\n",
    "\n"
   ]
  },
  {
   "cell_type": "code",
   "execution_count": 35,
   "metadata": {},
   "outputs": [
    {
     "data": {
      "image/png": "[encoded data removed]",
      "text/plain": [
       "<Figure size 432x288 with 1 Axes>"
      ]
     },
     "metadata": {
      "needs_background": "light"
     },
     "output_type": "display_data"
    }
   ],
   "source": [
    "\n",
    "\n",
    "#Plot the excess Surface density against R\n",
    "# Label für die y-Achse vergeben:\n",
    "plt.ylabel('$\\Delta\\Sigma$')\n",
    "plt.xlabel('R3d-Radial position from the cluster center')\n",
    "# Einen x-y-Plot erstellen:\n",
    "plt.plot(r3d, deltasigma_gt,color='black', linestyle='', marker='.', label=\"$\\Delta\\Sigma(\\gamma t)$\")\n",
    "plt.plot(r3d, DeltaSigma[0],color='orange', linestyle='', marker='.', label=\"$\\Delta\\Sigma from input mass$\")\n",
    "# Achsen-Bereiche manuell festlegen\n",
    "# Syntax: plt.axis([xmin, xmax, ymin, ymax])\n",
    "#plt.axis([0, 5, 0, 20])\n",
    "plt.xscale('log')\n",
    "plt.yscale('log')\n",
    "# Ein gepunktetes Diagramm-Gitter einblenden:\n",
    "plt.grid(True)\n",
    "plt.legend(loc=\"upper right\")\n",
    "\n",
    "\n",
    "# Diagramm anzeigen:\n",
    "plt.show()"
   ]
  },
  {
   "cell_type": "code",
   "execution_count": 36,
   "metadata": {},
   "outputs": [],
   "source": [
    "import sys\n",
    "import os\n",
    "import clmm\n",
    "import clmm.dataops\n",
    "from clmm.dataops import compute_tangential_and_cross_components, make_radial_profile, make_bins\n",
    "from clmm.galaxycluster import GalaxyCluster\n",
    "import clmm.utils as u\n",
    "from clmm import Cosmology\n",
    "from clmm.support import mock_data as mock\n",
    "cosmo = Cosmology(H0 = 71.0, Omega_dm0 = 0.265 - 0.0448, Omega_b0 = 0.0448, Omega_k0 = 0.0)\n",
    "import numpy as np\n",
    "cosmo_clmm = Cosmology(H0 = 71.0, Omega_dm0 = 0.265 - 0.0448, Omega_b0 = 0.0448, Omega_k0 = 0.0)\n",
    "import matplotlib.pyplot as plt\n",
    "import numpy as np\n",
    "from astropy.table import Table\n",
    "from numpy import random\n",
    "import chainconsumer\n",
    "import scipy\n",
    "import matplotlib.pyplot as plt\n",
    "import astropy.units as u\n",
    "import numpy as np\n",
    "from scipy.optimize import curve_fit\n",
    "\n"
   ]
  },
  {
   "cell_type": "code",
   "execution_count": 37,
   "metadata": {},
   "outputs": [],
   "source": [
    "def excess_surface_density(single_catalog = None, radial_bin = None, sigma_c = None, radius = None):\n",
    "    r\"\"\"\n",
    "    Attributes:\n",
    "    -----------\n",
    "    \n",
    "    single_catalog : GalaxyCluster object\n",
    "    \n",
    "    radial_bin : liste\n",
    "        radial bins to evaluate the binned excess surface density\n",
    "    \n",
    "    sigma_c : string \n",
    "        column name in the single_catalog for the critical surface mass density\n",
    "        \n",
    "    Returns:\n",
    "    --------\n",
    "    \n",
    "    ds, r, sum_weights : array, array, array\n",
    "        the binned excess surface density, the binned radius, the sum of weights w_ls in each radial bin\n",
    "\n",
    "    \"\"\"\n",
    "    #gammat radial bins\n",
    "    #single_catalog.galcat['R']=radius\n",
    "    #sigma_c = sigma_crit\n",
    "    #single_catalog.galcat['et']=gt\n",
    "    ds = np.zeros(len(radial_bin))\n",
    "    rad = np.zeros(len(radial_bin))\n",
    "    sum_weights = np.zeros(len(radial_bin))\n",
    "    \n",
    "    radius=single_catalog.profile['radius']\n",
    "    \n",
    "    for i, r_bin in enumerate(radial_bin):\n",
    "        mask = (radius > r_bin[0])*(radius < r_bin[1])\n",
    "        print(i)\n",
    "        print(mask)\n",
    "        if any(mask) : \n",
    "            w_ls = 1./np.array(sigma_c)[mask]**2\n",
    "            ds[i] = np.average(np.array(single_catalog.profile['gt'][mask]*sigma_c[mask]), weights = w_ls)\n",
    "            #\n",
    "            rad[i] = np.average(radius[mask])\n",
    "            sum_weights[i] = np.sum( w_ls )\n",
    "    return ds, rad, sum_weights"
   ]
  },
  {
   "cell_type": "code",
   "execution_count": 38,
   "metadata": {},
   "outputs": [
    {
     "name": "stdout",
     "output_type": "stream",
     "text": [
      "       radius      \n",
      "-------------------\n",
      "0.23103718667422285\n",
      " 0.2648779660680942\n",
      " 0.3325571197038046\n",
      " 0.4066850966957163\n",
      " 0.5036377460504903\n",
      " 0.6093594201894083\n",
      " 0.7421010139479451\n",
      " 0.8930681688321311\n",
      " 1.1009275333927253\n",
      " 1.3490261002339208\n",
      " 1.6455823450709701\n",
      "  2.000701976579117\n",
      " 2.4385550221697043\n",
      "  2.981103099691271\n",
      "  3.649384817656891\n"
     ]
    }
   ],
   "source": [
    "print(cl_ideal[4].profile['radius'])"
   ]
  },
  {
   "cell_type": "code",
   "execution_count": 39,
   "metadata": {},
   "outputs": [
    {
     "name": "stdout",
     "output_type": "stream",
     "text": [
      "0\n",
      "[ True  True  True  True False False False False False False False False\n",
      " False False False]\n",
      "1\n",
      "[False False False False  True  True  True False False False False False\n",
      " False False False]\n",
      "2\n",
      "[False False False False False False False  True False False False False\n",
      " False False False]\n",
      "3\n",
      "[False False False False False False False False  True False False False\n",
      " False False False]\n",
      "4\n",
      "[False False False False False False False False False  True False False\n",
      " False False False]\n",
      "5\n",
      "[False False False False False False False False False False  True False\n",
      " False False False]\n",
      "6\n",
      "[False False False False False False False False False False False  True\n",
      " False False False]\n",
      "7\n",
      "[False False False False False False False False False False False False\n",
      " False False False]\n",
      "8\n",
      "[False False False False False False False False False False False False\n",
      "  True False False]\n",
      "9\n",
      "[False False False False False False False False False False False False\n",
      " False False False]\n",
      "10\n",
      "[False False False False False False False False False False False False\n",
      " False  True False]\n",
      "11\n",
      "[False False False False False False False False False False False False\n",
      " False False False]\n",
      "12\n",
      "[False False False False False False False False False False False False\n",
      " False False  True]\n",
      "13\n",
      "[False False False False False False False False False False False False\n",
      " False False False]\n",
      "0\n",
      "[ True  True  True  True False False False False False False False False\n",
      " False False False]\n",
      "1\n",
      "[False False False False  True  True  True False False False False False\n",
      " False False False]\n",
      "2\n",
      "[False False False False False False False  True False False False False\n",
      " False False False]\n",
      "3\n",
      "[False False False False False False False False  True False False False\n",
      " False False False]\n",
      "4\n",
      "[False False False False False False False False False  True False False\n",
      " False False False]\n",
      "5\n",
      "[False False False False False False False False False False  True False\n",
      " False False False]\n",
      "6\n",
      "[False False False False False False False False False False False  True\n",
      " False False False]\n",
      "7\n",
      "[False False False False False False False False False False False False\n",
      " False False False]\n",
      "8\n",
      "[False False False False False False False False False False False False\n",
      "  True False False]\n",
      "9\n",
      "[False False False False False False False False False False False False\n",
      " False False False]\n",
      "10\n",
      "[False False False False False False False False False False False False\n",
      " False  True False]\n",
      "11\n",
      "[False False False False False False False False False False False False\n",
      " False False False]\n",
      "12\n",
      "[False False False False False False False False False False False False\n",
      " False False  True]\n",
      "13\n",
      "[False False False False False False False False False False False False\n",
      " False False False]\n",
      "0\n",
      "[ True  True  True  True False False False False False False False False\n",
      " False False False]\n",
      "1\n",
      "[False False False False  True  True  True False False False False False\n",
      " False False False]\n",
      "2\n",
      "[False False False False False False False  True False False False False\n",
      " False False False]\n",
      "3\n",
      "[False False False False False False False False  True False False False\n",
      " False False False]\n",
      "4\n",
      "[False False False False False False False False False  True False False\n",
      " False False False]\n",
      "5\n",
      "[False False False False False False False False False False  True False\n",
      " False False False]\n",
      "6\n",
      "[False False False False False False False False False False False  True\n",
      " False False False]\n",
      "7\n",
      "[False False False False False False False False False False False False\n",
      " False False False]\n",
      "8\n",
      "[False False False False False False False False False False False False\n",
      "  True False False]\n",
      "9\n",
      "[False False False False False False False False False False False False\n",
      " False False False]\n",
      "10\n",
      "[False False False False False False False False False False False False\n",
      " False  True False]\n",
      "11\n",
      "[False False False False False False False False False False False False\n",
      " False False False]\n",
      "12\n",
      "[False False False False False False False False False False False False\n",
      " False False  True]\n",
      "13\n",
      "[False False False False False False False False False False False False\n",
      " False False False]\n",
      "0\n",
      "[ True  True  True  True False False False False False False False False\n",
      " False False False]\n",
      "1\n",
      "[False False False False  True  True  True False False False False False\n",
      " False False False]\n",
      "2\n",
      "[False False False False False False False  True False False False False\n",
      " False False False]\n",
      "3\n",
      "[False False False False False False False False  True False False False\n",
      " False False False]\n",
      "4\n",
      "[False False False False False False False False False  True False False\n",
      " False False False]\n",
      "5\n",
      "[False False False False False False False False False False  True False\n",
      " False False False]\n",
      "6\n",
      "[False False False False False False False False False False False  True\n",
      " False False False]\n",
      "7\n",
      "[False False False False False False False False False False False False\n",
      " False False False]\n",
      "8\n",
      "[False False False False False False False False False False False False\n",
      "  True False False]\n",
      "9\n",
      "[False False False False False False False False False False False False\n",
      " False False False]\n",
      "10\n",
      "[False False False False False False False False False False False False\n",
      " False  True False]\n",
      "11\n",
      "[False False False False False False False False False False False False\n",
      " False False False]\n",
      "12\n",
      "[False False False False False False False False False False False False\n",
      " False False  True]\n",
      "13\n",
      "[False False False False False False False False False False False False\n",
      " False False False]\n",
      "0\n",
      "[ True  True  True  True False False False False False False False False\n",
      " False False False]\n",
      "1\n",
      "[False False False False  True  True  True False False False False False\n",
      " False False False]\n",
      "2\n",
      "[False False False False False False False  True False False False False\n",
      " False False False]\n",
      "3\n",
      "[False False False False False False False False  True False False False\n",
      " False False False]\n",
      "4\n",
      "[False False False False False False False False False  True False False\n",
      " False False False]\n",
      "5\n",
      "[False False False False False False False False False False  True False\n",
      " False False False]\n",
      "6\n",
      "[False False False False False False False False False False False  True\n",
      " False False False]\n",
      "7\n",
      "[False False False False False False False False False False False False\n",
      " False False False]\n",
      "8\n",
      "[False False False False False False False False False False False False\n",
      "  True False False]\n",
      "9\n",
      "[False False False False False False False False False False False False\n",
      " False False False]\n",
      "10\n",
      "[False False False False False False False False False False False False\n",
      " False  True False]\n",
      "11\n",
      "[False False False False False False False False False False False False\n",
      " False False False]\n",
      "12\n",
      "[False False False False False False False False False False False False\n",
      " False False  True]\n",
      "13\n",
      "[False False False False False False False False False False False False\n",
      " False False False]\n",
      "0\n",
      "[ True  True  True  True False False False False False False False False\n",
      " False False False]\n",
      "1\n",
      "[False False False False  True  True  True False False False False False\n",
      " False False False]\n",
      "2\n",
      "[False False False False False False False  True False False False False\n",
      " False False False]\n",
      "3\n",
      "[False False False False False False False False  True False False False\n",
      " False False False]\n",
      "4\n",
      "[False False False False False False False False False  True False False\n",
      " False False False]\n",
      "5\n",
      "[False False False False False False False False False False  True False\n",
      " False False False]\n",
      "6\n",
      "[False False False False False False False False False False False  True\n",
      " False False False]\n",
      "7\n",
      "[False False False False False False False False False False False False\n",
      " False False False]\n",
      "8\n",
      "[False False False False False False False False False False False False\n",
      "  True False False]\n",
      "9\n",
      "[False False False False False False False False False False False False\n",
      " False False False]\n",
      "10\n",
      "[False False False False False False False False False False False False\n",
      " False  True False]\n",
      "11\n",
      "[False False False False False False False False False False False False\n",
      " False False False]\n",
      "12\n",
      "[False False False False False False False False False False False False\n",
      " False False  True]\n",
      "13\n",
      "[False False False False False False False False False False False False\n",
      " False False False]\n",
      "0\n",
      "[ True  True  True False False False False False False False False False\n",
      " False False]\n",
      "1\n",
      "[False False False  True  True  True False False False False False False\n",
      " False False]\n",
      "2\n",
      "[False False False False False False  True False False False False False\n",
      " False False]\n",
      "3\n",
      "[False False False False False False False  True False False False False\n",
      " False False]\n",
      "4\n",
      "[False False False False False False False False  True False False False\n",
      " False False]\n",
      "5\n",
      "[False False False False False False False False False  True False False\n",
      " False False]\n",
      "6\n",
      "[False False False False False False False False False False  True False\n",
      " False False]\n",
      "7\n",
      "[False False False False False False False False False False False False\n",
      " False False]\n",
      "8\n",
      "[False False False False False False False False False False False  True\n",
      " False False]\n",
      "9\n",
      "[False False False False False False False False False False False False\n",
      " False False]\n",
      "10\n",
      "[False False False False False False False False False False False False\n",
      "  True False]\n",
      "11\n",
      "[False False False False False False False False False False False False\n",
      " False False]\n",
      "12\n",
      "[False False False False False False False False False False False False\n",
      " False  True]\n",
      "13\n",
      "[False False False False False False False False False False False False\n",
      " False False]\n",
      "0\n",
      "[ True  True  True  True False False False False False False False False\n",
      " False False False]\n"
     ]
    },
    {
     "ename": "IndexError",
     "evalue": "boolean index did not match indexed array along dimension 0; dimension is 14 but corresponding boolean dimension is 15",
     "output_type": "error",
     "traceback": [
      "\u001b[0;31m---------------------------------------------------------------------------\u001b[0m",
      "\u001b[0;31mIndexError\u001b[0m                                Traceback (most recent call last)",
      "Input \u001b[0;32mIn [39]\u001b[0m, in \u001b[0;36m<module>\u001b[0;34m\u001b[0m\n\u001b[1;32m     14\u001b[0m \u001b[38;5;28;01mfor\u001b[39;00m d, name \u001b[38;5;129;01min\u001b[39;00m \u001b[38;5;28menumerate\u001b[39m(names):\n\u001b[1;32m     15\u001b[0m     Stack_file_true[name]\u001b[38;5;241m.\u001b[39mappend(data_to_store[d])\n\u001b[0;32m---> 17\u001b[0m ds_single, r_single, sum_weights_single \u001b[38;5;241m=\u001b[39m \u001b[43mexcess_surface_density\u001b[49m\u001b[43m(\u001b[49m\u001b[43msingle_catalog\u001b[49m\u001b[43m \u001b[49m\u001b[38;5;241;43m=\u001b[39;49m\u001b[43m \u001b[49m\u001b[43mcl_noisy\u001b[49m\u001b[43m[\u001b[49m\u001b[43mi\u001b[49m\u001b[43m]\u001b[49m\u001b[43m,\u001b[49m\u001b[43m \u001b[49m\u001b[43mradial_bin\u001b[49m\u001b[43m \u001b[49m\u001b[38;5;241;43m=\u001b[39;49m\u001b[43m \u001b[49m\u001b[43mradial_bin\u001b[49m\u001b[43m,\u001b[49m\u001b[43m \u001b[49m\u001b[43msigma_c\u001b[49m\u001b[43m \u001b[49m\u001b[38;5;241;43m=\u001b[39;49m\u001b[43m \u001b[49m\u001b[43mSigmacrit\u001b[49m\u001b[43m[\u001b[49m\u001b[43mi\u001b[49m\u001b[43m]\u001b[49m\u001b[43m)\u001b[49m\n\u001b[1;32m     18\u001b[0m data_to_store \u001b[38;5;241m=\u001b[39m [ds_single, r_single, sum_weights_single, cluster_data[\u001b[38;5;124m'\u001b[39m\u001b[38;5;124mc\u001b[39m\u001b[38;5;124m'\u001b[39m][i], cluster_data[\u001b[38;5;124m'\u001b[39m\u001b[38;5;124mz\u001b[39m\u001b[38;5;124m'\u001b[39m][i], cluster_data[\u001b[38;5;124m'\u001b[39m\u001b[38;5;124mm\u001b[39m\u001b[38;5;124m'\u001b[39m][i]]\n\u001b[1;32m     19\u001b[0m \u001b[38;5;28;01mfor\u001b[39;00m d, name \u001b[38;5;129;01min\u001b[39;00m \u001b[38;5;28menumerate\u001b[39m(names):\n",
      "Input \u001b[0;32mIn [37]\u001b[0m, in \u001b[0;36mexcess_surface_density\u001b[0;34m(single_catalog, radial_bin, sigma_c, radius)\u001b[0m\n\u001b[1;32m     34\u001b[0m \u001b[38;5;28mprint\u001b[39m(mask)\n\u001b[1;32m     35\u001b[0m \u001b[38;5;28;01mif\u001b[39;00m \u001b[38;5;28many\u001b[39m(mask) : \n\u001b[0;32m---> 36\u001b[0m     w_ls \u001b[38;5;241m=\u001b[39m \u001b[38;5;241m1.\u001b[39m\u001b[38;5;241m/\u001b[39m\u001b[43mnp\u001b[49m\u001b[38;5;241;43m.\u001b[39;49m\u001b[43marray\u001b[49m\u001b[43m(\u001b[49m\u001b[43msigma_c\u001b[49m\u001b[43m)\u001b[49m\u001b[43m[\u001b[49m\u001b[43mmask\u001b[49m\u001b[43m]\u001b[49m\u001b[38;5;241m*\u001b[39m\u001b[38;5;241m*\u001b[39m\u001b[38;5;241m2\u001b[39m\n\u001b[1;32m     37\u001b[0m     ds[i] \u001b[38;5;241m=\u001b[39m np\u001b[38;5;241m.\u001b[39maverage(np\u001b[38;5;241m.\u001b[39marray(single_catalog\u001b[38;5;241m.\u001b[39mprofile[\u001b[38;5;124m'\u001b[39m\u001b[38;5;124mgt\u001b[39m\u001b[38;5;124m'\u001b[39m][mask]\u001b[38;5;241m*\u001b[39msigma_c[mask]), weights \u001b[38;5;241m=\u001b[39m w_ls)\n\u001b[1;32m     38\u001b[0m     \u001b[38;5;66;03m#\u001b[39;00m\n",
      "\u001b[0;31mIndexError\u001b[0m: boolean index did not match indexed array along dimension 0; dimension is 14 but corresponding boolean dimension is 15"
     ]
    }
   ],
   "source": [
    "\n",
    "from clmm.galaxycluster import GalaxyCluster\n",
    "new_bins = np.linspace(0.2, 4, 15)\n",
    "radial_bin = [[new_bins[s],new_bins[s+1]] for s in range(len(new_bins)-1)]\n",
    "names = ['ds_single', 'r_single', 'W_l','c', 'z', 'mass'] #liste\n",
    "Stack_file_true = {name : [] for name in names} #dictonary \n",
    "Stack_file_photoz = {name : [] for name in names} #dictonary\n",
    "\n",
    "n_catalogs = num\n",
    "for i in range(n_catalogs):\n",
    "    ds_single, r_single, sum_weights_single = excess_surface_density(single_catalog = cl_ideal[i], radial_bin = radial_bin, sigma_c = Sigmacrit[i]) #tuple unpacking\n",
    "    #funktion gibt 3 sachen zurück\n",
    "    data_to_store = [ds_single, r_single, sum_weights_single, cluster_data['c'][i], cluster_data['z'][i], cluster_data['m'][i]]\n",
    "    #speichern der daten\n",
    "    for d, name in enumerate(names):\n",
    "        Stack_file_true[name].append(data_to_store[d])\n",
    "    \n",
    "    ds_single, r_single, sum_weights_single = excess_surface_density(single_catalog = cl_noisy[i], radial_bin = radial_bin, sigma_c = Sigmacrit[i])\n",
    "    data_to_store = [ds_single, r_single, sum_weights_single, cluster_data['c'][i], cluster_data['z'][i], cluster_data['m'][i]]\n",
    "    for d, name in enumerate(names):\n",
    "        Stack_file_photoz[name].append(data_to_store[d])\n",
    "\n"
   ]
  },
  {
   "cell_type": "code",
   "execution_count": null,
   "metadata": {},
   "outputs": [],
   "source": []
  },
  {
   "cell_type": "code",
   "execution_count": null,
   "metadata": {},
   "outputs": [],
   "source": []
  }
 ],
 "metadata": {
  "kernelspec": {
   "display_name": "Python 3",
   "language": "python",
   "name": "python3"
  },
  "language_info": {
   "codemirror_mode": {
    "name": "ipython",
    "version": 3
   },
   "file_extension": ".py",
   "mimetype": "text/x-python",
   "name": "python",
   "nbconvert_exporter": "python",
   "pygments_lexer": "ipython3",
   "version": "3.8.5"
  }
 },
 "nbformat": 4,
 "nbformat_minor": 5
}
