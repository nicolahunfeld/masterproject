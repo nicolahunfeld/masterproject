{
 "cells": [
  {
   "cell_type": "code",
   "execution_count": 2,
   "id": "88ed3c43",
   "metadata": {},
   "outputs": [
    {
     "name": "stdout",
     "output_type": "stream",
     "text": [
      "The autoreload extension is already loaded. To reload it, use:\n",
      "  %reload_ext autoreload\n"
     ]
    },
    {
     "data": {
      "text/plain": [
       "'0.9.3'"
      ]
     },
     "execution_count": 2,
     "metadata": {},
     "output_type": "execute_result"
    }
   ],
   "source": [
    "%load_ext autoreload\n",
    "%autoreload 2\n",
    "import sys\n",
    "import os\n",
    "\n",
    "import numpy as np\n",
    "import matplotlib.pyplot as plt\n",
    "from astropy.table import Table\n",
    "import scipy\n",
    "\n",
    "import clmm\n",
    "from clmm import Cosmology\n",
    "from clmm import GalaxyCluster\n",
    "from clmm import dataops\n",
    "from clmm.support import mock_data as mock\n",
    "clmm.__version__"
   ]
  },
  {
   "cell_type": "code",
   "execution_count": 3,
   "id": "df65b7a2",
   "metadata": {},
   "outputs": [],
   "source": [
    "cosmo = Cosmology(H0 = 71.0, Omega_dm0 = 0.265 - 0.0448, Omega_b0 = 0.0448, Omega_k0 = 0.0)"
   ]
  },
  {
   "cell_type": "code",
   "execution_count": 4,
   "id": "01f55e52",
   "metadata": {},
   "outputs": [],
   "source": [
    "cluster_z = 0.4"
   ]
  },
  {
   "cell_type": "code",
   "execution_count": 5,
   "id": "bf9a2e70",
   "metadata": {},
   "outputs": [
    {
     "ename": "ValueError",
     "evalue": "Some source redshifts are <=0. Please check your inputs.",
     "output_type": "error",
     "traceback": [
      "\u001b[0;31m---------------------------------------------------------------------------\u001b[0m",
      "\u001b[0;31mValueError\u001b[0m                                Traceback (most recent call last)",
      "Input \u001b[0;32mIn [5]\u001b[0m, in \u001b[0;36m<module>\u001b[0;34m\u001b[0m\n\u001b[0;32m----> 1\u001b[0m noisy_data_z \u001b[38;5;241m=\u001b[39m \u001b[43mmock\u001b[49m\u001b[38;5;241;43m.\u001b[39;49m\u001b[43mgenerate_galaxy_catalog\u001b[49m\u001b[43m(\u001b[49m\u001b[38;5;241;43m1e14\u001b[39;49m\u001b[43m,\u001b[49m\u001b[43m \u001b[49m\u001b[43mcluster_z\u001b[49m\u001b[43m,\u001b[49m\u001b[43m \u001b[49m\u001b[38;5;241;43m4\u001b[39;49m\u001b[43m,\u001b[49m\u001b[43m \u001b[49m\n\u001b[1;32m      2\u001b[0m \u001b[43m                                                \u001b[49m\u001b[43mcosmo\u001b[49m\u001b[43m,\u001b[49m\u001b[43m \u001b[49m\n\u001b[1;32m      3\u001b[0m \u001b[43m                                                \u001b[49m\u001b[43mzsrc\u001b[49m\u001b[43m \u001b[49m\u001b[38;5;241;43m=\u001b[39;49m\u001b[43m \u001b[49m\u001b[38;5;124;43m'\u001b[39;49m\u001b[38;5;124;43mchang13\u001b[39;49m\u001b[38;5;124;43m'\u001b[39;49m\u001b[43m,\u001b[49m\u001b[43m \u001b[49m\n\u001b[1;32m      4\u001b[0m \u001b[43m                                                \u001b[49m\u001b[38;5;66;43;03m#Delta_SO=200, \u001b[39;49;00m\n\u001b[1;32m      5\u001b[0m \u001b[43m                                                \u001b[49m\u001b[43mmassdef\u001b[49m\u001b[38;5;241;43m=\u001b[39;49m\u001b[38;5;124;43m'\u001b[39;49m\u001b[38;5;124;43mcritical\u001b[39;49m\u001b[38;5;124;43m'\u001b[39;49m\u001b[43m,\u001b[49m\n\u001b[1;32m      6\u001b[0m \u001b[43m                                                \u001b[49m\u001b[43mhalo_profile_model\u001b[49m\u001b[38;5;241;43m=\u001b[39;49m\u001b[38;5;124;43m'\u001b[39;49m\u001b[38;5;124;43mnfw\u001b[39;49m\u001b[38;5;124;43m'\u001b[39;49m\u001b[43m,\u001b[49m\u001b[43m \u001b[49m\n\u001b[1;32m      7\u001b[0m \u001b[43m                                                \u001b[49m\u001b[43mzsrc_min\u001b[49m\u001b[38;5;241;43m=\u001b[39;49m\u001b[38;5;241;43m0.\u001b[39;49m\u001b[43m,\u001b[49m\n\u001b[1;32m      8\u001b[0m \u001b[43m                                                \u001b[49m\u001b[43mzsrc_max\u001b[49m\u001b[38;5;241;43m=\u001b[39;49m\u001b[38;5;241;43m3.\u001b[39;49m\u001b[43m,\u001b[49m\u001b[43m \u001b[49m\n\u001b[1;32m      9\u001b[0m \u001b[43m                                                \u001b[49m\u001b[43mfield_size\u001b[49m\u001b[38;5;241;43m=\u001b[39;49m\u001b[38;5;241;43m10.\u001b[39;49m\u001b[43m,\u001b[49m\u001b[43m \u001b[49m\n\u001b[1;32m     10\u001b[0m \u001b[43m                                                \u001b[49m\u001b[43mshapenoise\u001b[49m\u001b[38;5;241;43m=\u001b[39;49m\u001b[38;5;241;43m0.5\u001b[39;49m\u001b[43m,\u001b[49m\u001b[43m \u001b[49m\n\u001b[1;32m     11\u001b[0m \u001b[43m                                                \u001b[49m\u001b[43mphotoz_sigma_unscaled\u001b[49m\u001b[38;5;241;43m=\u001b[39;49m\u001b[38;5;241;43m0.05\u001b[39;49m\u001b[43m,\u001b[49m\u001b[43m \u001b[49m\n\u001b[1;32m     12\u001b[0m \u001b[43m                                                \u001b[49m\u001b[43mngals\u001b[49m\u001b[38;5;241;43m=\u001b[39;49m\u001b[38;5;241;43m10000\u001b[39;49m\u001b[43m)\u001b[49m\n\u001b[1;32m     13\u001b[0m z_gal \u001b[38;5;241m=\u001b[39m noisy_data_z[\u001b[38;5;124m'\u001b[39m\u001b[38;5;124mztrue\u001b[39m\u001b[38;5;124m'\u001b[39m]\n\u001b[1;32m     14\u001b[0m z_gal_photoz \u001b[38;5;241m=\u001b[39m noisy_data_z[\u001b[38;5;124m'\u001b[39m\u001b[38;5;124mpzbins\u001b[39m\u001b[38;5;124m'\u001b[39m]\n",
      "File \u001b[0;32m~/opt/anaconda3/envs/clmm/lib/python3.9/site-packages/clmm-0.9.3-py3.9.egg/clmm/support/mock_data.py:138\u001b[0m, in \u001b[0;36mgenerate_galaxy_catalog\u001b[0;34m(cluster_m, cluster_z, cluster_c, cosmo, zsrc, Delta_SO, massdef, halo_profile_model, zsrc_min, zsrc_max, field_size, shapenoise, photoz_sigma_unscaled, nretry, ngals, ngal_density)\u001b[0m\n\u001b[1;32m    134\u001b[0m \u001b[38;5;28;01mif\u001b[39;00m ngal_density \u001b[38;5;129;01mis\u001b[39;00m \u001b[38;5;129;01mnot\u001b[39;00m \u001b[38;5;28;01mNone\u001b[39;00m:\n\u001b[1;32m    135\u001b[0m     \u001b[38;5;66;03m# Compute the number of galaxies to be drawn\u001b[39;00m\n\u001b[1;32m    136\u001b[0m     ngals \u001b[38;5;241m=\u001b[39m _compute_ngals(ngal_density, field_size, cosmo, cluster_z, zsrc, zsrc_min\u001b[38;5;241m=\u001b[39mzsrc_min, zsrc_max\u001b[38;5;241m=\u001b[39mzsrc_max)\n\u001b[0;32m--> 138\u001b[0m galaxy_catalog \u001b[38;5;241m=\u001b[39m \u001b[43m_generate_galaxy_catalog\u001b[49m\u001b[43m(\u001b[49m\u001b[43mngals\u001b[49m\u001b[38;5;241;43m=\u001b[39;49m\u001b[43mngals\u001b[49m\u001b[43m,\u001b[49m\u001b[43m \u001b[49m\u001b[38;5;241;43m*\u001b[39;49m\u001b[38;5;241;43m*\u001b[39;49m\u001b[43mparams\u001b[49m\u001b[43m)\u001b[49m\n\u001b[1;32m    139\u001b[0m \u001b[38;5;66;03m# Check for bad galaxies and replace them\u001b[39;00m\n\u001b[1;32m    140\u001b[0m nbad, badids \u001b[38;5;241m=\u001b[39m _find_aphysical_galaxies(galaxy_catalog, zsrc_min)\n",
      "File \u001b[0;32m~/opt/anaconda3/envs/clmm/lib/python3.9/site-packages/clmm-0.9.3-py3.9.egg/clmm/support/mock_data.py:241\u001b[0m, in \u001b[0;36m_generate_galaxy_catalog\u001b[0;34m(cluster_m, cluster_z, cluster_c, cosmo, ngals, zsrc, Delta_SO, massdef, halo_profile_model, zsrc_min, zsrc_max, shapenoise, photoz_sigma_unscaled, field_size)\u001b[0m\n\u001b[1;32m    233\u001b[0m gamt \u001b[38;5;241m=\u001b[39m compute_tangential_shear(galaxy_catalog[\u001b[38;5;124m'\u001b[39m\u001b[38;5;124mr_mpc\u001b[39m\u001b[38;5;124m'\u001b[39m], mdelta\u001b[38;5;241m=\u001b[39mcluster_m,\n\u001b[1;32m    234\u001b[0m                                         cdelta\u001b[38;5;241m=\u001b[39mcluster_c, z_cluster\u001b[38;5;241m=\u001b[39mcluster_z,\n\u001b[1;32m    235\u001b[0m                                         z_source\u001b[38;5;241m=\u001b[39mgalaxy_catalog[\u001b[38;5;124m'\u001b[39m\u001b[38;5;124mztrue\u001b[39m\u001b[38;5;124m'\u001b[39m], cosmo\u001b[38;5;241m=\u001b[39mcosmo,\n\u001b[1;32m    236\u001b[0m                                         delta_mdef\u001b[38;5;241m=\u001b[39mDelta_SO, halo_profile_model\u001b[38;5;241m=\u001b[39mhalo_profile_model,\n\u001b[1;32m    237\u001b[0m                                         massdef\u001b[38;5;241m=\u001b[39mmassdef,\n\u001b[1;32m    238\u001b[0m                                         z_src_model\u001b[38;5;241m=\u001b[39m\u001b[38;5;124m'\u001b[39m\u001b[38;5;124msingle_plane\u001b[39m\u001b[38;5;124m'\u001b[39m)\n\u001b[1;32m    240\u001b[0m gamx \u001b[38;5;241m=\u001b[39m np\u001b[38;5;241m.\u001b[39mzeros(ngals)\n\u001b[0;32m--> 241\u001b[0m kappa \u001b[38;5;241m=\u001b[39m \u001b[43mcompute_convergence\u001b[49m\u001b[43m(\u001b[49m\u001b[43mgalaxy_catalog\u001b[49m\u001b[43m[\u001b[49m\u001b[38;5;124;43m'\u001b[39;49m\u001b[38;5;124;43mr_mpc\u001b[39;49m\u001b[38;5;124;43m'\u001b[39;49m\u001b[43m]\u001b[49m\u001b[43m,\u001b[49m\u001b[43m \u001b[49m\u001b[43mmdelta\u001b[49m\u001b[38;5;241;43m=\u001b[39;49m\u001b[43mcluster_m\u001b[49m\u001b[43m,\u001b[49m\n\u001b[1;32m    242\u001b[0m \u001b[43m                                        \u001b[49m\u001b[43mcdelta\u001b[49m\u001b[38;5;241;43m=\u001b[39;49m\u001b[43mcluster_c\u001b[49m\u001b[43m,\u001b[49m\u001b[43m \u001b[49m\u001b[43mz_cluster\u001b[49m\u001b[38;5;241;43m=\u001b[39;49m\u001b[43mcluster_z\u001b[49m\u001b[43m,\u001b[49m\n\u001b[1;32m    243\u001b[0m \u001b[43m                                        \u001b[49m\u001b[43mz_source\u001b[49m\u001b[38;5;241;43m=\u001b[39;49m\u001b[43mgalaxy_catalog\u001b[49m\u001b[43m[\u001b[49m\u001b[38;5;124;43m'\u001b[39;49m\u001b[38;5;124;43mz\u001b[39;49m\u001b[38;5;124;43m'\u001b[39;49m\u001b[43m]\u001b[49m\u001b[43m,\u001b[49m\u001b[43m \u001b[49m\u001b[43mcosmo\u001b[49m\u001b[38;5;241;43m=\u001b[39;49m\u001b[43mcosmo\u001b[49m\u001b[43m,\u001b[49m\n\u001b[1;32m    244\u001b[0m \u001b[43m                                        \u001b[49m\u001b[43mdelta_mdef\u001b[49m\u001b[38;5;241;43m=\u001b[39;49m\u001b[43mDelta_SO\u001b[49m\u001b[43m,\u001b[49m\u001b[43m \u001b[49m\u001b[43mhalo_profile_model\u001b[49m\u001b[38;5;241;43m=\u001b[39;49m\u001b[43mhalo_profile_model\u001b[49m\u001b[43m,\u001b[49m\n\u001b[1;32m    245\u001b[0m \u001b[43m                                        \u001b[49m\u001b[43mmassdef\u001b[49m\u001b[38;5;241;43m=\u001b[39;49m\u001b[43mmassdef\u001b[49m\u001b[43m,\u001b[49m\n\u001b[1;32m    246\u001b[0m \u001b[43m                                        \u001b[49m\u001b[43mz_src_model\u001b[49m\u001b[38;5;241;43m=\u001b[39;49m\u001b[38;5;124;43m'\u001b[39;49m\u001b[38;5;124;43msingle_plane\u001b[39;49m\u001b[38;5;124;43m'\u001b[39;49m\u001b[43m)\u001b[49m\n\u001b[1;32m    248\u001b[0m galaxy_catalog[\u001b[38;5;124m'\u001b[39m\u001b[38;5;124mgammat\u001b[39m\u001b[38;5;124m'\u001b[39m] \u001b[38;5;241m=\u001b[39m gamt\n\u001b[1;32m    249\u001b[0m galaxy_catalog[\u001b[38;5;124m'\u001b[39m\u001b[38;5;124mgammax\u001b[39m\u001b[38;5;124m'\u001b[39m] \u001b[38;5;241m=\u001b[39m np\u001b[38;5;241m.\u001b[39mzeros(ngals)\n",
      "File \u001b[0;32m~/opt/anaconda3/envs/clmm/lib/python3.9/site-packages/clmm-0.9.3-py3.9.egg/clmm/theory/func_layer.py:335\u001b[0m, in \u001b[0;36mcompute_convergence\u001b[0;34m(r_proj, mdelta, cdelta, z_cluster, z_source, cosmo, delta_mdef, halo_profile_model, massdef, z_src_model)\u001b[0m\n\u001b[1;32m    332\u001b[0m     gcm\u001b[38;5;241m.\u001b[39mset_concentration(cdelta)\n\u001b[1;32m    333\u001b[0m     gcm\u001b[38;5;241m.\u001b[39mset_mass(mdelta)\n\u001b[0;32m--> 335\u001b[0m     kappa \u001b[38;5;241m=\u001b[39m \u001b[43mgcm\u001b[49m\u001b[38;5;241;43m.\u001b[39;49m\u001b[43meval_convergence\u001b[49m\u001b[43m(\u001b[49m\u001b[43mr_proj\u001b[49m\u001b[43m,\u001b[49m\u001b[43m \u001b[49m\u001b[43mz_cluster\u001b[49m\u001b[43m,\u001b[49m\u001b[43m \u001b[49m\u001b[43mz_source\u001b[49m\u001b[43m)\u001b[49m\n\u001b[1;32m    337\u001b[0m \u001b[38;5;66;03m# elif z_src_model == 'known_z_src': # Discrete case\u001b[39;00m\n\u001b[1;32m    338\u001b[0m \u001b[38;5;66;03m#     raise NotImplementedError('Need to implemnt Beta_s functionality, or average'+\\\u001b[39;00m\n\u001b[1;32m    339\u001b[0m \u001b[38;5;66;03m#                               'sigma/sigma_c kappa_t = Beta_s*kappa_inf')\u001b[39;00m\n\u001b[0;32m   (...)\u001b[0m\n\u001b[1;32m    342\u001b[0m \u001b[38;5;66;03m#                               'distribution of redshifts in each radial bin')\u001b[39;00m\n\u001b[1;32m    343\u001b[0m \u001b[38;5;28;01melse\u001b[39;00m:\n\u001b[1;32m    344\u001b[0m     \u001b[38;5;28;01mraise\u001b[39;00m \u001b[38;5;167;01mValueError\u001b[39;00m(\u001b[38;5;124m\"\u001b[39m\u001b[38;5;124mUnsupported z_src_model\u001b[39m\u001b[38;5;124m\"\u001b[39m)\n",
      "File \u001b[0;32m~/opt/anaconda3/envs/clmm/lib/python3.9/site-packages/clmm-0.9.3-py3.9.egg/clmm/theory/ccl.py:109\u001b[0m, in \u001b[0;36mCCLCLMModeling.eval_convergence\u001b[0;34m(self, r_proj, z_cl, z_src)\u001b[0m\n\u001b[1;32m    107\u001b[0m \u001b[38;5;28;01mdef\u001b[39;00m \u001b[38;5;21meval_convergence\u001b[39m(\u001b[38;5;28mself\u001b[39m, r_proj, z_cl, z_src):\n\u001b[1;32m    108\u001b[0m     sigma \u001b[38;5;241m=\u001b[39m \u001b[38;5;28mself\u001b[39m\u001b[38;5;241m.\u001b[39meval_surface_density(r_proj, z_cl)\n\u001b[0;32m--> 109\u001b[0m     sigma_crit \u001b[38;5;241m=\u001b[39m \u001b[38;5;28;43mself\u001b[39;49m\u001b[38;5;241;43m.\u001b[39;49m\u001b[43meval_critical_surface_density\u001b[49m\u001b[43m(\u001b[49m\u001b[43mz_cl\u001b[49m\u001b[43m,\u001b[49m\u001b[43m \u001b[49m\u001b[43mz_src\u001b[49m\u001b[43m)\u001b[49m\n\u001b[1;32m    111\u001b[0m     \u001b[38;5;28;01mreturn\u001b[39;00m sigma\u001b[38;5;241m/\u001b[39msigma_crit\n",
      "File \u001b[0;32m~/opt/anaconda3/envs/clmm/lib/python3.9/site-packages/clmm-0.9.3-py3.9.egg/clmm/theory/parent_class.py:164\u001b[0m, in \u001b[0;36mCLMModeling.eval_critical_surface_density\u001b[0;34m(self, z_len, z_src)\u001b[0m\n\u001b[1;32m    162\u001b[0m     \u001b[38;5;28;01mraise\u001b[39;00m \u001b[38;5;167;01mValueError\u001b[39;00m(\u001b[38;5;124mf\u001b[39m\u001b[38;5;124m'\u001b[39m\u001b[38;5;124mRedshift for lens <= 0.\u001b[39m\u001b[38;5;124m'\u001b[39m)\n\u001b[1;32m    163\u001b[0m \u001b[38;5;28;01mif\u001b[39;00m np\u001b[38;5;241m.\u001b[39many(np\u001b[38;5;241m.\u001b[39marray(z_src)\u001b[38;5;241m<\u001b[39m\u001b[38;5;241m=\u001b[39m\u001b[38;5;241m0\u001b[39m):\n\u001b[0;32m--> 164\u001b[0m     \u001b[38;5;28;01mraise\u001b[39;00m \u001b[38;5;167;01mValueError\u001b[39;00m(\u001b[38;5;124mf\u001b[39m\u001b[38;5;124m'\u001b[39m\u001b[38;5;124mSome source redshifts are <=0. Please check your inputs.\u001b[39m\u001b[38;5;124m'\u001b[39m)\n\u001b[1;32m    165\u001b[0m \u001b[38;5;28;01mreturn\u001b[39;00m \u001b[38;5;28mself\u001b[39m\u001b[38;5;241m.\u001b[39mcosmo\u001b[38;5;241m.\u001b[39meval_sigma_crit(z_len, z_src)\n",
      "\u001b[0;31mValueError\u001b[0m: Some source redshifts are <=0. Please check your inputs."
     ]
    }
   ],
   "source": [
    "noisy_data_z = mock.generate_galaxy_catalog(1e14, cluster_z, 4, \n",
    "                                                cosmo, \n",
    "                                                zsrc = 'chang13', \n",
    "                                                #Delta_SO=200, \n",
    "                                                massdef='critical',\n",
    "                                                halo_profile_model='nfw', \n",
    "                                                zsrc_min=0.,\n",
    "                                                zsrc_max=3., \n",
    "                                                field_size=10., \n",
    "                                                shapenoise=0.5, \n",
    "                                                photoz_sigma_unscaled=0.05, \n",
    "                                                ngals=10000)\n",
    "z_gal = noisy_data_z['ztrue']\n",
    "z_gal_photoz = noisy_data_z['pzbins']\n",
    "photoz_pdf_gal = noisy_data_z['pzpdf']\n",
    "e1 = noisy_data_z['e1']\n",
    "e2 = noisy_data_z['e2']\n",
    "noisy_data_z['e1_err'] = np.random.randn(len(e1))*0.02 + 0.1*(1 + z_gal)\n",
    "noisy_data_z['e2_err'] = np.random.randn(len(e1))*0.02 + 0.03*(1 + z_gal)\n",
    "cl = clmm.GalaxyCluster('mock_cluster', 0, 0, .4, noisy_data_z)"
   ]
  },
  {
   "cell_type": "markdown",
   "id": "f47dd603",
   "metadata": {},
   "source": [
    "### WL weights (photoz + shape errors)"
   ]
  },
  {
   "cell_type": "markdown",
   "id": "1160aa06",
   "metadata": {},
   "source": [
    "as a function"
   ]
  },
  {
   "cell_type": "code",
   "execution_count": 6,
   "id": "fe4beff1",
   "metadata": {},
   "outputs": [
    {
     "ename": "NameError",
     "evalue": "name 'compute_galaxy_weights' is not defined",
     "output_type": "error",
     "traceback": [
      "\u001b[0;31m---------------------------------------------------------------------------\u001b[0m",
      "\u001b[0;31mNameError\u001b[0m                                 Traceback (most recent call last)",
      "Input \u001b[0;32mIn [6]\u001b[0m, in \u001b[0;36m<module>\u001b[0;34m\u001b[0m\n\u001b[0;32m----> 1\u001b[0m w_ls_true, p_background_true \u001b[38;5;241m=\u001b[39m \u001b[43mcompute_galaxy_weights\u001b[49m(cluster_z, cosmo,z_source \u001b[38;5;241m=\u001b[39m z_gal, \n\u001b[1;32m      2\u001b[0m                                                       shape_component1 \u001b[38;5;241m=\u001b[39m e1, shape_component2 \u001b[38;5;241m=\u001b[39m e2, \n\u001b[1;32m      3\u001b[0m                                                       shape_component1_err \u001b[38;5;241m=\u001b[39m noisy_data_z[\u001b[38;5;124m'\u001b[39m\u001b[38;5;124me1_err\u001b[39m\u001b[38;5;124m'\u001b[39m], shape_component2_err \u001b[38;5;241m=\u001b[39m noisy_data_z[\u001b[38;5;124m'\u001b[39m\u001b[38;5;124me2_err\u001b[39m\u001b[38;5;124m'\u001b[39m], \n\u001b[1;32m      4\u001b[0m                                                       pzpdf \u001b[38;5;241m=\u001b[39m photoz_pdf_gal, pzbins \u001b[38;5;241m=\u001b[39m z_gal_photoz,\n\u001b[1;32m      5\u001b[0m                                                       add_photoz \u001b[38;5;241m=\u001b[39m \u001b[38;5;28;01mFalse\u001b[39;00m, add_shapenoise \u001b[38;5;241m=\u001b[39m \u001b[38;5;28;01mFalse\u001b[39;00m, add_shape_error \u001b[38;5;241m=\u001b[39m \u001b[38;5;28;01mFalse\u001b[39;00m, \n\u001b[1;32m      6\u001b[0m                                                       is_deltasigma \u001b[38;5;241m=\u001b[39m \u001b[38;5;28;01mFalse\u001b[39;00m)\n",
      "\u001b[0;31mNameError\u001b[0m: name 'compute_galaxy_weights' is not defined"
     ]
    }
   ],
   "source": [
    "w_ls_true, p_background_true = compute_galaxy_weights(cluster_z, cosmo,z_source = z_gal, \n",
    "                                                      shape_component1 = e1, shape_component2 = e2, \n",
    "                                                      shape_component1_err = noisy_data_z['e1_err'], shape_component2_err = noisy_data_z['e2_err'], \n",
    "                                                      pzpdf = photoz_pdf_gal, pzbins = z_gal_photoz,\n",
    "                                                      add_photoz = False, add_shapenoise = False, add_shape_error = False, \n",
    "                                                      is_deltasigma = False)"
   ]
  },
  {
   "cell_type": "markdown",
   "id": "7e4da587",
   "metadata": {},
   "source": [
    "a a `class` function of the GalaxyCluster object"
   ]
  },
  {
   "cell_type": "code",
   "execution_count": null,
   "id": "3b0b4832",
   "metadata": {},
   "outputs": [],
   "source": [
    "w_ls_true, p_true = cl.compute_galaxy_weights(z_source='ztrue', pzpdf='pzpdf', pzbins='pzbins', \n",
    "                        shape_component1 = 'e1', shape_component2 = 'e2', \n",
    "                        shape_component1_err = 'e1_err', shape_component2_err = 'e2_err', \n",
    "                        add_photoz = False, add_shapenoise = False, add_shape_error = False, \n",
    "                        weight_name = 'w_ls_true', p_background_name = 'p_background_true',\n",
    "                        cosmo = cosmo,\n",
    "                        is_deltasigma = True, add = True)"
   ]
  },
  {
   "cell_type": "code",
   "execution_count": null,
   "id": "ed27fa15",
   "metadata": {},
   "outputs": [],
   "source": [
    "w_ls_photoz, p_photoz = cl.compute_galaxy_weights(z_source='ztrue', pzpdf='pzpdf', pzbins='pzbins', \n",
    "                        shape_component1 = 'e1', shape_component2 = 'e2', \n",
    "                        shape_component1_err = 'e1_err', shape_component2_err = 'e2_err', \n",
    "                        add_photoz = True, add_shapenoise = False, add_shape_error = False, \n",
    "                        weight_name = 'w_ls_photoz', p_background_name = 'p_background_photoz',\n",
    "                        cosmo = cosmo,\n",
    "                        is_deltasigma = True, add = True)"
   ]
  },
  {
   "cell_type": "code",
   "execution_count": null,
   "id": "5aa15460",
   "metadata": {},
   "outputs": [],
   "source": [
    "w_ls_shape, p_shape = cl.compute_galaxy_weights(z_source='ztrue', pzpdf='pzpdf', pzbins='pzbins', \n",
    "                        shape_component1 = 'e1', shape_component2 = 'e2', \n",
    "                        shape_component1_err = 'e1_err', shape_component2_err = 'e2_err', \n",
    "                        add_photoz = False, add_shapenoise = True, add_shape_error = True, \n",
    "                        weight_name = 'w_ls_shape', p_background_name = 'p_background_shape',\n",
    "                        cosmo = cosmo,\n",
    "                        is_deltasigma = True, add = True)"
   ]
  },
  {
   "cell_type": "code",
   "execution_count": null,
   "id": "c1de982e",
   "metadata": {},
   "outputs": [],
   "source": [
    "w_ls_photoz_shape, p_photoz_shape = cl.compute_galaxy_weights(z_source='ztrue', pzpdf='pzpdf', pzbins='pzbins', \n",
    "                        shape_component1 = 'e1', shape_component2 = 'e2', \n",
    "                        shape_component1_err = 'e1_err', shape_component2_err = 'e2_err', \n",
    "                        add_photoz = True, add_shapenoise = True, add_shape_error = True, \n",
    "                        weight_name = 'w_ls_photoz_shape', p_background_name = 'p_background_photoz_shape',\n",
    "                        cosmo = cosmo,\n",
    "                        is_deltasigma = True, add = True)"
   ]
  },
  {
   "cell_type": "code",
   "execution_count": null,
   "id": "fc4895af",
   "metadata": {},
   "outputs": [],
   "source": [
    "print(cl.galcat.colnames)"
   ]
  },
  {
   "cell_type": "code",
   "execution_count": null,
   "id": "1055827d",
   "metadata": {},
   "outputs": [],
   "source": [
    "plt.rcParams['axes.linewidth'] = 1\n",
    "fig, ax = plt.subplots(1,2, figsize = (10,5), sharey = True)\n",
    "fig.subplots_adjust(wspace=0, hspace=0)\n",
    "ax[0].tick_params(axis='both', which = 'major', labelsize= 10)\n",
    "ax[1].tick_params(axis='both', which = 'major', labelsize= 10)\n",
    "ax[0].scatter(z_gal, 1e3*cl.galcat['w_ls_true']/np.sum(cl.galcat['w_ls_true']), c='r', label = 'True z', zorder = 100)\n",
    "ax[0].scatter(z_gal, 1e3*cl.galcat['w_ls_photoz']/np.sum(cl.galcat['w_ls_photoz']), c='orange', label = 'Photoz')\n",
    "ax[1].scatter(z_gal, 1e3*cl.galcat['w_ls_shape']/np.sum(cl.galcat['w_ls_shape']), c='royalblue', label = r'Shape_error', zorder = 100)\n",
    "ax[1].scatter(z_gal, 1e3*cl.galcat['w_ls_photoz_shape']/np.sum(cl.galcat['w_ls_photoz_shape']), c='cyan', label ='Shape_error + Photoz')\n",
    "ax[0].legend(frameon = False, fontsize = 13)\n",
    "ax[1].legend(frameon = False, fontsize = 13)\n",
    "ax[0].set_ylabel(r'p $(\\times 10^{-3})$', fontsize = 20)\n",
    "ax[0].set_xlabel('true redshift', fontsize = 14)\n",
    "ax[1].set_xlabel('true redshift', fontsize = 14)\n",
    "#plt.savefig('/pbs/throng/lsst/users/cpayerne/ThesisAtCCin2p3/Images/sprint_week.png', bbox_inches='tight', dpi=300)"
   ]
  },
  {
   "cell_type": "markdown",
   "id": "c529fb80",
   "metadata": {},
   "source": [
    "### Background probability"
   ]
  },
  {
   "cell_type": "code",
   "execution_count": null,
   "id": "7911d1ab",
   "metadata": {},
   "outputs": [],
   "source": [
    "noisy_data_z_2 = mock.generate_galaxy_catalog(1e14, cluster_z, 4, \n",
    "                                                cosmo, \n",
    "                                                zsrc = 'chang13', \n",
    "                                                #Delta_SO=200, \n",
    "                                                massdef='critical',\n",
    "                                                halo_profile_model='nfw', \n",
    "                                                zsrc_min=0.,\n",
    "                                                zsrc_max=3., \n",
    "                                                field_size=10., \n",
    "                                                shapenoise=0.5, \n",
    "                                                photoz_sigma_unscaled=0.03, \n",
    "                                                ngals=10000)\n",
    "z_gal_2 = noisy_data_z_2['ztrue']\n",
    "z_gal_photoz_2 = noisy_data_z_2['pzbins']\n",
    "photoz_pdf_gal_2 = noisy_data_z_2['pzpdf']\n",
    "e1_2 = noisy_data_z_2['e1']\n",
    "e2_2 = noisy_data_z_2['e2']\n",
    "noisy_data_z_2['e1_err'] = np.random.randn(len(e1_2))*0.02 + 0.1*(1 + z_gal_2)\n",
    "noisy_data_z_2['e2_err'] = np.random.randn(len(e1_2))*0.02 + 0.03*(1 + z_gal_2)\n",
    "cl_2 = clmm.GalaxyCluster('mock_cluster', 0, 0, cluster_z, noisy_data_z_2)"
   ]
  },
  {
   "cell_type": "code",
   "execution_count": null,
   "id": "776725c4",
   "metadata": {},
   "outputs": [],
   "source": [
    "w_ls_photoz, p_photoz = cl_2.compute_galaxy_weights(z_source='ztrue', pzpdf='pzpdf', pzbins='pzbins', \n",
    "                        shape_component1 = 'e1', shape_component2 = 'e2', \n",
    "                        shape_component1_err = 'e1_err', shape_component2_err = 'e2_err', \n",
    "                        add_photoz = True, add_shapenoise = False, add_shape_error = False, \n",
    "                        weight_name = 'w_ls_photoz', p_background_name = 'p_background_photoz',\n",
    "                        cosmo = cosmo,\n",
    "                        is_deltasigma = True, add = True)"
   ]
  },
  {
   "cell_type": "code",
   "execution_count": null,
   "id": "80c1ba78",
   "metadata": {},
   "outputs": [],
   "source": [
    "plt.rcParams['axes.linewidth'] = 1\n",
    "plt.figure( figsize = (7,5))\n",
    "plt.tick_params(axis='both', which = 'major', labelsize= 10)\n",
    "plt.plot([],[],' ', label = f'$z_l = {cluster_z}$', )\n",
    "plt.scatter(z_gal,cl .galcat['p_background_photoz'], c='royalblue', label = r'$\\sigma_z = 0.05$')\n",
    "plt.scatter(z_gal_2, cl_2.galcat['p_background_photoz'], c='cyan', label = r'$\\sigma_z = 0.03$')\n",
    "plt.vlines(cluster_z, 0,1,color='salmon', linewidth = 4, zorder = 100)\n",
    "plt.scatter(z_gal, p_background_true, c='salmon', s = 3, zorder = 110)\n",
    "plt.plot([],[], label = 'True z', linewidth = 4, c = 'salmon')\n",
    "plt.xlim(0., 1)\n",
    "plt.legend(frameon = True, fontsize = 20)\n",
    "plt.ylabel(r'$P(z_s > z_l)$', fontsize = 20)\n",
    "plt.xlabel('true redshift', fontsize = 20)\n",
    "#plt.savefig('/pbs/throng/lsst/users/cpayerne/ThesisAtCCin2p3/Images/sprint_week_p_background.png', bbox_inches='tight', dpi=300)"
   ]
  }
 ],
 "metadata": {
  "kernelspec": {
   "display_name": "Python 3 (ipykernel)",
   "language": "python",
   "name": "python3"
  },
  "language_info": {
   "codemirror_mode": {
    "name": "ipython",
    "version": 3
   },
   "file_extension": ".py",
   "mimetype": "text/x-python",
   "name": "python",
   "nbconvert_exporter": "python",
   "pygments_lexer": "ipython3",
   "version": "3.9.7"
  }
 },
 "nbformat": 4,
 "nbformat_minor": 5
}
