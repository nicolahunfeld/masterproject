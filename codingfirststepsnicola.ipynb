{
 "cells": [
  {
   "cell_type": "code",
   "execution_count": 1,
   "metadata": {},
   "outputs": [
    {
     "name": "stderr",
     "output_type": "stream",
     "text": [
      "/Users/nicomasii/opt/anaconda3/lib/python3.8/site-packages/clmm-0.9.3-py3.8.egg/clmm/theory/__init__.py:35: UserWarning: CLMM Backend requested `ccl' is not available, trying others...\n",
      "/Users/nicomasii/opt/anaconda3/lib/python3.8/site-packages/clmm-0.9.3-py3.8.egg/clmm/theory/__init__.py:45: UserWarning: * NumCosmo BACKEND also not available\n",
      "/Users/nicomasii/opt/anaconda3/lib/python3.8/site-packages/clmm-0.9.3-py3.8.egg/clmm/theory/__init__.py:42: UserWarning: * USING cluster_toolkit+astropy BACKEND\n"
     ]
    },
    {
     "data": {
      "text/plain": [
       "'0.9.3'"
      ]
     },
     "execution_count": 1,
     "metadata": {},
     "output_type": "execute_result"
    }
   ],
   "source": [
    "try: import clmm\n",
    "except:\n",
    "    import notebook_install\n",
    "    notebook_install.install_clmm_pipeline(upgrade=False)\n",
    "    import clmm\n",
    "import matplotlib.pyplot as plt\n",
    "import numpy as np\n",
    "from astropy import units\n",
    "plt.rcParams['font.family']=['gothambook','gotham','gotham-book','serif']\n",
    "\n",
    "clmm.__version__"
   ]
  },
  {
   "cell_type": "code",
   "execution_count": 2,
   "metadata": {},
   "outputs": [],
   "source": [
    "import clmm.dataops as da\n",
    "import clmm.galaxycluster as gc\n",
    "import clmm.theory as theory\n",
    "from clmm import Cosmology"
   ]
  },
  {
   "cell_type": "code",
   "execution_count": 3,
   "metadata": {},
   "outputs": [],
   "source": [
    "from clmm.support import mock_data as mock"
   ]
  },
  {
   "cell_type": "code",
   "execution_count": 4,
   "metadata": {},
   "outputs": [],
   "source": [
    "np.random.seed(11)"
   ]
  },
  {
   "cell_type": "code",
   "execution_count": 5,
   "metadata": {},
   "outputs": [],
   "source": [
    "cosmo = Cosmology(H0 = 70.0, Omega_dm0 = 0.27 - 0.045, Omega_b0 = 0.045, Omega_k0 = 0.0)"
   ]
  },
  {
   "cell_type": "code",
   "execution_count": 6,
   "metadata": {},
   "outputs": [
    {
     "name": "stdout",
     "output_type": "stream",
     "text": [
      "65\n",
      "75\n",
      "0.2655103524778465\n",
      "13092\n",
      "(65, 75, 0.0, 0.0, 0.2655103524778465, 13092)\n"
     ]
    }
   ],
   "source": [
    "import random\n",
    "cluster_m = random.randint(10,100) # Masse grenzen für den Cluster\n",
    "logm = np.log(cluster_m)/np.log(10)\n",
    "concentration = random.randint(1,100)\n",
    "cluster_ra = 0.\n",
    "cluster_dec = 0.\n",
    "cluster_z = random.uniform(0.1,0.6)\n",
    "ngals = random.randint(50,100000) \n",
    "cluster_1 = cluster_m, concentration, cluster_ra, cluster_dec, cluster_z, ngals\n",
    "print(cluster_m)\n",
    "print(concentration)\n",
    "print(cluster_z)\n",
    "print(ngals)\n",
    "print(cluster_1)"
   ]
  },
  {
   "cell_type": "code",
   "execution_count": 7,
   "metadata": {},
   "outputs": [
    {
     "name": "stdout",
     "output_type": "stream",
     "text": [
      "[[3.500e+01 6.400e+01 0.000e+00 0.000e+00 1.097e-01 9.767e+04]\n",
      " [6.500e+01 1.400e+01 0.000e+00 0.000e+00 5.631e-01 4.978e+04]\n",
      " [9.200e+01 2.500e+01 0.000e+00 0.000e+00 1.064e-01 2.531e+04]\n",
      " [4.200e+01 4.600e+01 0.000e+00 0.000e+00 5.254e-01 6.239e+04]\n",
      " [4.400e+01 1.300e+01 0.000e+00 0.000e+00 3.589e-01 8.098e+04]]\n"
     ]
    }
   ],
   "source": [
    "import random\n",
    "import numpy as np\n",
    "np.set_printoptions(precision=3)   \n",
    "num = 5\n",
    "cluster_data = np.zeros((5,6))\n",
    "for k in range(num):\n",
    "    cluster_data[k][0] = np.random.randint(10,100) #masse\n",
    "    cluster_data[k][1] = np.random.randint(1,100)\n",
    "    cluster_data[k][2] = 0\n",
    "    cluster_data[k][3] = 0\n",
    "    cluster_data[k][4] = np.random.uniform(0.1,0.6)\n",
    "    cluster_data[k][5] = np.random.randint(50,100000)\n",
    "print(cluster_data)\n",
    "\n"
   ]
  },
  {
   "cell_type": "code",
   "execution_count": 8,
   "metadata": {},
   "outputs": [
    {
     "name": "stderr",
     "output_type": "stream",
     "text": [
      "/Users/nicomasii/opt/anaconda3/lib/python3.8/site-packages/clmm-0.9.3-py3.8.egg/clmm/cosmology/cluster_toolkit.py:71: UserWarning: Some source redshifts are lower than the cluster redshift. Returning Sigma_crit = np.inf for those galaxies.\n",
      "/Users/nicomasii/opt/anaconda3/lib/python3.8/site-packages/clmm-0.9.3-py3.8.egg/clmm/cosmology/cluster_toolkit.py:81: RuntimeWarning: divide by zero encountered in true_divide\n",
      "/Users/nicomasii/opt/anaconda3/lib/python3.8/site-packages/clmm-0.9.3-py3.8.egg/clmm/theory/func_layer.py:347: UserWarning: Some source redshifts are lower than the cluster redshift. kappa = 0 for those galaxies.\n",
      "/Users/nicomasii/opt/anaconda3/lib/python3.8/site-packages/clmm-0.9.3-py3.8.egg/clmm/cosmology/cluster_toolkit.py:71: UserWarning: Some source redshifts are lower than the cluster redshift. Returning Sigma_crit = np.inf for those galaxies.\n",
      "/Users/nicomasii/opt/anaconda3/lib/python3.8/site-packages/clmm-0.9.3-py3.8.egg/clmm/cosmology/cluster_toolkit.py:81: RuntimeWarning: divide by zero encountered in true_divide\n",
      "/Users/nicomasii/opt/anaconda3/lib/python3.8/site-packages/clmm-0.9.3-py3.8.egg/clmm/theory/func_layer.py:347: UserWarning: Some source redshifts are lower than the cluster redshift. kappa = 0 for those galaxies.\n",
      "/Users/nicomasii/opt/anaconda3/lib/python3.8/site-packages/clmm-0.9.3-py3.8.egg/clmm/cosmology/cluster_toolkit.py:71: UserWarning: Some source redshifts are lower than the cluster redshift. Returning Sigma_crit = np.inf for those galaxies.\n",
      "/Users/nicomasii/opt/anaconda3/lib/python3.8/site-packages/clmm-0.9.3-py3.8.egg/clmm/cosmology/cluster_toolkit.py:81: RuntimeWarning: divide by zero encountered in true_divide\n",
      "/Users/nicomasii/opt/anaconda3/lib/python3.8/site-packages/clmm-0.9.3-py3.8.egg/clmm/theory/func_layer.py:347: UserWarning: Some source redshifts are lower than the cluster redshift. kappa = 0 for those galaxies.\n",
      "/Users/nicomasii/opt/anaconda3/lib/python3.8/site-packages/clmm-0.9.3-py3.8.egg/clmm/cosmology/cluster_toolkit.py:71: UserWarning: Some source redshifts are lower than the cluster redshift. Returning Sigma_crit = np.inf for those galaxies.\n",
      "/Users/nicomasii/opt/anaconda3/lib/python3.8/site-packages/clmm-0.9.3-py3.8.egg/clmm/cosmology/cluster_toolkit.py:81: RuntimeWarning: divide by zero encountered in true_divide\n",
      "/Users/nicomasii/opt/anaconda3/lib/python3.8/site-packages/clmm-0.9.3-py3.8.egg/clmm/theory/func_layer.py:347: UserWarning: Some source redshifts are lower than the cluster redshift. kappa = 0 for those galaxies.\n",
      "/Users/nicomasii/opt/anaconda3/lib/python3.8/site-packages/clmm-0.9.3-py3.8.egg/clmm/cosmology/cluster_toolkit.py:71: UserWarning: Some source redshifts are lower than the cluster redshift. Returning Sigma_crit = np.inf for those galaxies.\n"
     ]
    },
    {
     "name": "stdout",
     "output_type": "stream",
     "text": [
      "[GCData(cosmo=None, columns: ra, dec, e1, e2, z, ztrue, id), GCData(cosmo=None, columns: ra, dec, e1, e2, z, ztrue, id), GCData(cosmo=None, columns: ra, dec, e1, e2, z, ztrue, id), GCData(cosmo=None, columns: ra, dec, e1, e2, z, ztrue, id), GCData(cosmo=None, columns: ra, dec, e1, e2, z, ztrue, id)]\n"
     ]
    },
    {
     "name": "stderr",
     "output_type": "stream",
     "text": [
      "/Users/nicomasii/opt/anaconda3/lib/python3.8/site-packages/clmm-0.9.3-py3.8.egg/clmm/cosmology/cluster_toolkit.py:81: RuntimeWarning: divide by zero encountered in true_divide\n",
      "/Users/nicomasii/opt/anaconda3/lib/python3.8/site-packages/clmm-0.9.3-py3.8.egg/clmm/theory/func_layer.py:347: UserWarning: Some source redshifts are lower than the cluster redshift. kappa = 0 for those galaxies.\n"
     ]
    }
   ],
   "source": [
    "ideal_data = []\n",
    "noisy_data = []\n",
    "for k in range(5):\n",
    "    cluster_m = cluster_data[k][0]\n",
    "    cluster_z = cluster_data[k][4]\n",
    "    concentration = cluster_data[k][1]\n",
    "    ngals = int(cluster_data[k][5])\n",
    "    ideal_data.append( mock.generate_galaxy_catalog(cluster_m , cluster_z, concentration, cosmo, 'chang13', zsrc_min = cluster_z + 0.1, ngals = ngals)) \n",
    "    noisy_data.append( mock.generate_galaxy_catalog(cluster_m, cluster_z, concentration, cosmo, 'chang13', zsrc_min = cluster_z + 0.1,\n",
    "                                          shapenoise=0.05, photoz_sigma_unscaled=0.05, ngals=ngals))\n",
    "    \n",
    "print(ideal_data)\n",
    "    "
   ]
  },
  {
   "cell_type": "code",
   "execution_count": 9,
   "metadata": {},
   "outputs": [],
   "source": [
    "gc_object =[]\n",
    "\n",
    "for k in range(5):\n",
    "    cluster_ra = cluster_data[k][2]\n",
    "    cluster_dec = cluster_data[k][3]\n",
    "    cluster_m = cluster_data[k][0]\n",
    "    cluster_z = cluster_data[k][4]\n",
    "    concentration = cluster_data[k][1]\n",
    "    ngals = int(cluster_data[k][5])\n",
    "    cluster_id = \"CL_ideal\"\n",
    "    gc_object.append( clmm.GalaxyCluster(cluster_id, cluster_ra, cluster_dec,\n",
    "                                  cluster_z, ideal_data[k]))\n",
    "    gc_object[k].save('ideal_GC_'+str(k)+'.pkl')\n",
    "\n",
    "gc_object =[]\n",
    "\n",
    "for k in range(5):\n",
    "    cluster_ra = cluster_data[k][2]\n",
    "    cluster_dec = cluster_data[k][3]\n",
    "    cluster_m = cluster_data[k][0]\n",
    "    cluster_z = cluster_data[k][4]\n",
    "    concentration = cluster_data[k][1]\n",
    "    ngals = int(cluster_data[k][5])\n",
    "    cluster_id = \"CL_noisy\"\n",
    "    gc_object.append( clmm.GalaxyCluster(cluster_id, cluster_ra, cluster_dec,\n",
    "                                  cluster_z, noisy_data[k]))\n",
    "    gc_object[k].save('noisy_GC_'+str(k)+'.pkl')\n"
   ]
  },
  {
   "cell_type": "code",
   "execution_count": 10,
   "metadata": {},
   "outputs": [],
   "source": [
    "cl_ideal = []\n",
    "cl_noisy = []\n",
    "for k in range(5):\n",
    "    cl_ideal.append (clmm.GalaxyCluster.load('ideal_GC_'+str(k)+'.pkl'))\n",
    "    cl_noisy.append (clmm.GalaxyCluster.load('noisy_GC_'+str(k)+'.pkl'))\n",
    "    "
   ]
  },
  {
   "cell_type": "code",
   "execution_count": 13,
   "metadata": {},
   "outputs": [
    {
     "data": {
      "image/png": "[encoded data removed]",
      "text/plain": [
       "<Figure size 504x360 with 1 Axes>"
      ]
     },
     "metadata": {
      "needs_background": "light"
     },
     "output_type": "display_data"
    },
    {
     "data": {
      "image/png": "[encoded data removed]",
      "text/plain": [
       "<Figure size 504x360 with 1 Axes>"
      ]
     },
     "metadata": {
      "needs_background": "light"
     },
     "output_type": "display_data"
    },
    {
     "data": {
      "image/png": "[encoded data removed]",
      "text/plain": [
       "<Figure size 504x360 with 1 Axes>"
      ]
     },
     "metadata": {
      "needs_background": "light"
     },
     "output_type": "display_data"
    },
    {
     "data": {
      "image/png": "[encoded data removed]",
      "text/plain": [
       "<Figure size 504x360 with 1 Axes>"
      ]
     },
     "metadata": {
      "needs_background": "light"
     },
     "output_type": "display_data"
    },
    {
     "data": {
      "image/png": "[encoded data removed]",
      "text/plain": [
       "<Figure size 504x360 with 1 Axes>"
      ]
     },
     "metadata": {
      "needs_background": "light"
     },
     "output_type": "display_data"
    }
   ],
   "source": [
    "for k in range(5):\n",
    "    plt.figure(figsize=(7,5))\n",
    "    plt.hist(cl_ideal[k].galcat['z'], density = True, bins = 50)\n",
    "    plt.axvline(x = cluster_z, color='orange', label = 'cluster redshift')\n",
    "    plt.xlabel(r'$z_{src}$', fontsize = 20)\n",
    "    plt.ylabel(r'$N(z$)', fontsize = 20)\n",
    "    plt.legend()\n",
    "    plt.xlim(0,5)\n",
    "    "
   ]
  },
  {
   "cell_type": "code",
   "execution_count": 14,
   "metadata": {},
   "outputs": [],
   "source": [
    "for k in range(5):\n",
    "    cl_ideal[k].compute_tangential_and_cross_components(geometry=\"flat\")\n",
    "    cl_noisy[k].compute_tangential_and_cross_components(geometry=\"flat\")\n",
    "pass"
   ]
  },
  {
   "cell_type": "code",
   "execution_count": 15,
   "metadata": {},
   "outputs": [],
   "source": [
    "bin_edges = da.make_bins(0.2, 4, 15, method='evenlog10width')\n"
   ]
  },
  {
   "cell_type": "code",
   "execution_count": 16,
   "metadata": {},
   "outputs": [],
   "source": [
    "for k in range(5):\n",
    "    cl_ideal[k].make_radial_profile(\"Mpc\", bins=bin_edges, cosmo=cosmo, gal_ids_in_bins=True)\n",
    "    cl_noisy[k].make_radial_profile(\"Mpc\", bins=bin_edges,cosmo=cosmo, gal_ids_in_bins=True)\n",
    "pass"
   ]
  },
  {
   "cell_type": "code",
   "execution_count": null,
   "metadata": {},
   "outputs": [],
   "source": []
  }
 ],
 "metadata": {
  "kernelspec": {
   "display_name": "Python 3",
   "language": "python",
   "name": "python3"
  },
  "language_info": {
   "codemirror_mode": {
    "name": "ipython",
    "version": 3
   },
   "file_extension": ".py",
   "mimetype": "text/x-python",
   "name": "python",
   "nbconvert_exporter": "python",
   "pygments_lexer": "ipython3",
   "version": "3.8.5"
  }
 },
 "nbformat": 4,
 "nbformat_minor": 4
}
