{
 "cells": [
  {
   "cell_type": "code",
   "execution_count": 1,
   "metadata": {},
   "outputs": [
    {
     "name": "stderr",
     "output_type": "stream",
     "text": [
      "/Users/nicomasii/opt/anaconda3/lib/python3.8/site-packages/clmm-0.9.3-py3.8.egg/clmm/theory/__init__.py:35: UserWarning: CLMM Backend requested `ccl' is not available, trying others...\n",
      "/Users/nicomasii/opt/anaconda3/lib/python3.8/site-packages/clmm-0.9.3-py3.8.egg/clmm/theory/__init__.py:45: UserWarning: * NumCosmo BACKEND also not available\n",
      "/Users/nicomasii/opt/anaconda3/lib/python3.8/site-packages/clmm-0.9.3-py3.8.egg/clmm/theory/__init__.py:42: UserWarning: * USING cluster_toolkit+astropy BACKEND\n"
     ]
    },
    {
     "data": {
      "text/plain": [
       "'0.9.3'"
      ]
     },
     "execution_count": 1,
     "metadata": {},
     "output_type": "execute_result"
    }
   ],
   "source": [
    "try: import clmm\n",
    "except:\n",
    "    import notebook_install\n",
    "    notebook_install.install_clmm_pipeline(upgrade=False)\n",
    "    import clmm\n",
    "import matplotlib.pyplot as plt\n",
    "import numpy as np\n",
    "from astropy import units\n",
    "plt.rcParams['font.family']=['gothambook','gotham','gotham-book','serif']\n",
    "\n",
    "clmm.__version__\n"
   ]
  },
  {
   "cell_type": "code",
   "execution_count": 2,
   "metadata": {},
   "outputs": [],
   "source": [
    "import clmm.dataops as da\n",
    "import clmm.galaxycluster as gc\n",
    "import clmm.theory as theory\n",
    "from clmm import Cosmology\n"
   ]
  },
  {
   "cell_type": "code",
   "execution_count": 3,
   "metadata": {},
   "outputs": [],
   "source": [
    "from clmm.support import mock_data as mock\n"
   ]
  },
  {
   "cell_type": "code",
   "execution_count": 4,
   "metadata": {},
   "outputs": [],
   "source": [
    "np.random.seed(11)\n"
   ]
  },
  {
   "cell_type": "code",
   "execution_count": 5,
   "metadata": {},
   "outputs": [],
   "source": [
    "cosmo = Cosmology(H0 = 70.0, Omega_dm0 = 0.27 - 0.045, Omega_b0 = 0.045, Omega_k0 = 0.0)\n"
   ]
  },
  {
   "cell_type": "code",
   "execution_count": 6,
   "metadata": {},
   "outputs": [
    {
     "name": "stdout",
     "output_type": "stream",
     "text": [
      "10\n",
      "99\n",
      "0.41918800643141774\n",
      "6506\n",
      "(10, 99, 0.0, 0.0, 0.41918800643141774, 6506)\n"
     ]
    }
   ],
   "source": [
    "import random\n",
    "cluster_m = random.randint(10,100) # Masse grenzen für den Cluster\n",
    "logm = np.log(cluster_m)/np.log(10)\n",
    "concentration = random.randint(1,100)\n",
    "cluster_ra = 0.\n",
    "cluster_dec = 0.\n",
    "cluster_z = random.uniform(0.1,0.6)\n",
    "ngals = random.randint(50,100000) \n",
    "cluster_1 = cluster_m, concentration, cluster_ra, cluster_dec, cluster_z, ngals\n",
    "print(cluster_m)\n",
    "print(concentration)\n",
    "print(cluster_z)\n",
    "print(ngals)\n",
    "print(cluster_1)"
   ]
  },
  {
   "cell_type": "code",
   "execution_count": 7,
   "metadata": {},
   "outputs": [
    {
     "name": "stdout",
     "output_type": "stream",
     "text": [
      "[[3.500e+01 6.400e+01 0.000e+00 0.000e+00 1.097e-01 4.073e+03]\n",
      " [2.300e+01 7.700e+01 0.000e+00 0.000e+00 3.101e-01 3.914e+03]\n",
      " [5.800e+01 3.300e+01 0.000e+00 0.000e+00 1.464e-01 6.740e+03]\n",
      " [2.200e+01 2.000e+00 0.000e+00 0.000e+00 5.470e-01 1.305e+03]\n",
      " [9.400e+01 8.200e+01 0.000e+00 0.000e+00 4.162e-01 4.803e+03]]\n"
     ]
    }
   ],
   "source": [
    "import random\n",
    "random.seed(22) #gibt einem immer die gleichen zufälligen zahlen\n",
    "import numpy as np\n",
    "np.set_printoptions(precision=3)   \n",
    "num = 5\n",
    "cluster_data = np.zeros((num,6))\n",
    "for k in range(num):\n",
    "    cluster_data[k][0] = np.random.randint(10,100) #masse\n",
    "    cluster_data[k][1] = np.random.randint(1,100)\n",
    "    cluster_data[k][2] = 0\n",
    "    cluster_data[k][3] = 0\n",
    "    cluster_data[k][4] = np.random.uniform(0.1,0.6)\n",
    "    cluster_data[k][5] = np.random.randint(50,10000)\n",
    "print(cluster_data)\n",
    "\n"
   ]
  },
  {
   "cell_type": "code",
   "execution_count": 8,
   "metadata": {
    "scrolled": true
   },
   "outputs": [
    {
     "name": "stderr",
     "output_type": "stream",
     "text": [
      "/Users/nicomasii/opt/anaconda3/lib/python3.8/site-packages/clmm-0.9.3-py3.8.egg/clmm/cosmology/cluster_toolkit.py:71: UserWarning: Some source redshifts are lower than the cluster redshift. Returning Sigma_crit = np.inf for those galaxies.\n",
      "/Users/nicomasii/opt/anaconda3/lib/python3.8/site-packages/clmm-0.9.3-py3.8.egg/clmm/cosmology/cluster_toolkit.py:81: RuntimeWarning: divide by zero encountered in true_divide\n",
      "/Users/nicomasii/opt/anaconda3/lib/python3.8/site-packages/clmm-0.9.3-py3.8.egg/clmm/theory/func_layer.py:347: UserWarning: Some source redshifts are lower than the cluster redshift. kappa = 0 for those galaxies.\n",
      "/Users/nicomasii/opt/anaconda3/lib/python3.8/site-packages/clmm-0.9.3-py3.8.egg/clmm/cosmology/cluster_toolkit.py:71: UserWarning: Some source redshifts are lower than the cluster redshift. Returning Sigma_crit = np.inf for those galaxies.\n",
      "/Users/nicomasii/opt/anaconda3/lib/python3.8/site-packages/clmm-0.9.3-py3.8.egg/clmm/cosmology/cluster_toolkit.py:81: RuntimeWarning: divide by zero encountered in true_divide\n",
      "/Users/nicomasii/opt/anaconda3/lib/python3.8/site-packages/clmm-0.9.3-py3.8.egg/clmm/theory/func_layer.py:347: UserWarning: Some source redshifts are lower than the cluster redshift. kappa = 0 for those galaxies.\n",
      "/Users/nicomasii/opt/anaconda3/lib/python3.8/site-packages/clmm-0.9.3-py3.8.egg/clmm/cosmology/cluster_toolkit.py:71: UserWarning: Some source redshifts are lower than the cluster redshift. Returning Sigma_crit = np.inf for those galaxies.\n",
      "/Users/nicomasii/opt/anaconda3/lib/python3.8/site-packages/clmm-0.9.3-py3.8.egg/clmm/cosmology/cluster_toolkit.py:81: RuntimeWarning: divide by zero encountered in true_divide\n",
      "/Users/nicomasii/opt/anaconda3/lib/python3.8/site-packages/clmm-0.9.3-py3.8.egg/clmm/theory/func_layer.py:347: UserWarning: Some source redshifts are lower than the cluster redshift. kappa = 0 for those galaxies.\n",
      "/Users/nicomasii/opt/anaconda3/lib/python3.8/site-packages/clmm-0.9.3-py3.8.egg/clmm/cosmology/cluster_toolkit.py:71: UserWarning: Some source redshifts are lower than the cluster redshift. Returning Sigma_crit = np.inf for those galaxies.\n",
      "/Users/nicomasii/opt/anaconda3/lib/python3.8/site-packages/clmm-0.9.3-py3.8.egg/clmm/cosmology/cluster_toolkit.py:81: RuntimeWarning: divide by zero encountered in true_divide\n",
      "/Users/nicomasii/opt/anaconda3/lib/python3.8/site-packages/clmm-0.9.3-py3.8.egg/clmm/theory/func_layer.py:347: UserWarning: Some source redshifts are lower than the cluster redshift. kappa = 0 for those galaxies.\n",
      "/Users/nicomasii/opt/anaconda3/lib/python3.8/site-packages/clmm-0.9.3-py3.8.egg/clmm/cosmology/cluster_toolkit.py:71: UserWarning: Some source redshifts are lower than the cluster redshift. Returning Sigma_crit = np.inf for those galaxies.\n",
      "/Users/nicomasii/opt/anaconda3/lib/python3.8/site-packages/clmm-0.9.3-py3.8.egg/clmm/cosmology/cluster_toolkit.py:81: RuntimeWarning: divide by zero encountered in true_divide\n",
      "/Users/nicomasii/opt/anaconda3/lib/python3.8/site-packages/clmm-0.9.3-py3.8.egg/clmm/theory/func_layer.py:347: UserWarning: Some source redshifts are lower than the cluster redshift. kappa = 0 for those galaxies.\n"
     ]
    }
   ],
   "source": [
    "import astropy\n",
    "import numpy as np\n",
    "ideal_data = []\n",
    "noisy_data = []\n",
    "\n",
    "for k in range(num):\n",
    "\n",
    "    cluster_m = cluster_data[k][0]\n",
    "    cluster_z = cluster_data[k][4]\n",
    "    concentration = cluster_data[k][1]\n",
    "    ngals = int(cluster_data[k][5])\n",
    "    buggy_data = mock.generate_galaxy_catalog(cluster_m, cluster_z, concentration, cosmo, 'chang13', zsrc_min = cluster_z + 0.1,shapenoise=0.05, photoz_sigma_unscaled=0.05, ngals=ngals) \n",
    "    \n",
    "    #sortiert nachher die galaxien raus die den falschen redshift besitzen\n",
    "    mask = buggy_data['z'] < cluster_z #die galaxien sollten entfernt werden nicht maskiert...nur vorrübergehend\n",
    "    #print(buggy_data['z'][mask])\n",
    "    #print('cluster rotversciebung')\n",
    "    #print(cluster_data[k][4])\n",
    "   \n",
    "    buggy_data['z'] = np.where(buggy_data['z'] < cluster_z, np.random.uniform(cluster_z,0.6), buggy_data['z'])\n",
    "    #print(buggy_data['z'])\n",
    "    #print('hats geklappt?')\n",
    "    mask = buggy_data['z'] < cluster_z\n",
    "    #print(buggy_data['z'][mask])\n",
    "    realredshift = buggy_data['z']\n",
    "    #print(sum(buggy_data['z']<=0))\n",
    "\n",
    "    ideal_data.append( mock.generate_galaxy_catalog(cluster_m , cluster_z, concentration, cosmo, 'chang13', zsrc_min = cluster_z + 0.1, ngals = ngals)) \n",
    "    noisy_data.append(buggy_data)\n",
    "\n",
    "                                            \n",
    "\n",
    "#print(ideal_data)\n",
    "    "
   ]
  },
  {
   "cell_type": "code",
   "execution_count": 9,
   "metadata": {},
   "outputs": [],
   "source": [
    "#https://docs.astropy.org/en/stable/table/operations.html#binning\n",
    "#groupbi\n",
    "#https://docs.astropy.org/en/stable/table/masking.html\n"
   ]
  },
  {
   "cell_type": "code",
   "execution_count": 10,
   "metadata": {},
   "outputs": [
    {
     "data": {
      "image/png": "[encoded data removed]",
      "text/plain": [
       "<Figure size 504x360 with 1 Axes>"
      ]
     },
     "metadata": {
      "needs_background": "light"
     },
     "output_type": "display_data"
    },
    {
     "data": {
      "image/png": "[encoded data removed]",
      "text/plain": [
       "<Figure size 504x360 with 1 Axes>"
      ]
     },
     "metadata": {
      "needs_background": "light"
     },
     "output_type": "display_data"
    },
    {
     "data": {
      "image/png": "[encoded data removed]",
      "text/plain": [
       "<Figure size 504x360 with 1 Axes>"
      ]
     },
     "metadata": {
      "needs_background": "light"
     },
     "output_type": "display_data"
    },
    {
     "data": {
      "image/png": "[encoded data removed]",
      "text/plain": [
       "<Figure size 504x360 with 1 Axes>"
      ]
     },
     "metadata": {
      "needs_background": "light"
     },
     "output_type": "display_data"
    },
    {
     "data": {
      "image/png": "[encoded data removed]",
      "text/plain": [
       "<Figure size 504x360 with 1 Axes>"
      ]
     },
     "metadata": {
      "needs_background": "light"
     },
     "output_type": "display_data"
    }
   ],
   "source": [
    "for k in range(num):\n",
    "    plt.figure(figsize=(7,5))\n",
    "    plt.hist(ideal_data[k]['z'], density = True, alpha=0.5, bins = 50, label='ideal data')\n",
    "    plt.hist(noisy_data[k]['z'], alpha=0.5, density = True, bins = 50, label='noisy data')\n",
    "    plt.axvline(x = cluster_data[k][4], color='orange', label = 'cluster redshift')\n",
    "    plt.xlabel(r'$z_{src}$', fontsize = 20)\n",
    "    plt.ylabel(r'$N(z$)', fontsize = 20)\n",
    "    plt.legend()\n",
    "    plt.xlim(0,5)\n",
    "    "
   ]
  },
  {
   "cell_type": "code",
   "execution_count": 11,
   "metadata": {},
   "outputs": [],
   "source": [
    "gc_object =[]\n",
    "\n",
    "for k in range(num):\n",
    "    cluster_ra = cluster_data[k][2]\n",
    "    cluster_dec = cluster_data[k][3]\n",
    "    cluster_m = cluster_data[k][0]\n",
    "    cluster_z = cluster_data[k][4]\n",
    "    concentration = cluster_data[k][1]\n",
    "    ngals = int(cluster_data[k][5])\n",
    "    cluster_id = \"CL_ideal\"\n",
    "    gc_object.append( clmm.GalaxyCluster(cluster_id, cluster_ra, cluster_dec,\n",
    "                                  cluster_z, ideal_data[k]))\n",
    "    gc_object[k].save('ideal_GC_'+str(k)+'.pkl')\n",
    "\n",
    "gc_object =[]\n",
    "\n",
    "for k in range(num):\n",
    "    cluster_ra = cluster_data[k][2]\n",
    "    cluster_dec = cluster_data[k][3]\n",
    "    cluster_m = cluster_data[k][0]\n",
    "    cluster_z = cluster_data[k][4]\n",
    "    concentration = cluster_data[k][1]\n",
    "    ngals = int(cluster_data[k][5])\n",
    "    cluster_id = \"CL_noisy\"\n",
    "    gc_object.append( clmm.GalaxyCluster(cluster_id, cluster_ra, cluster_dec,\n",
    "                                  cluster_z, noisy_data[k]))\n",
    "    gc_object[k].save('noisy_GC_'+str(k)+'.pkl')\n"
   ]
  },
  {
   "cell_type": "code",
   "execution_count": 12,
   "metadata": {},
   "outputs": [],
   "source": [
    "cl_ideal = []\n",
    "cl_noisy = []\n",
    "for k in range(num):\n",
    "    cl_ideal.append (clmm.GalaxyCluster.load('ideal_GC_'+str(k)+'.pkl'))\n",
    "    cl_noisy.append (clmm.GalaxyCluster.load('noisy_GC_'+str(k)+'.pkl'))\n",
    "    "
   ]
  },
  {
   "cell_type": "code",
   "execution_count": 13,
   "metadata": {},
   "outputs": [],
   "source": [
    "#for k in range(num):\n",
    "    #plt.figure(figsize=(7,5))\n",
    "    #plt.hist(cl_ideal[k].galcat['z'], density = True, bins = 50)\n",
    "    #plt.axvline(x = cluster_z, color='orange', label = 'cluster redshift')\n",
    "    #plt.xlabel(r'$z_{src}$', fontsize = 20)\n",
    "    #plt.ylabel(r'$N(z$)', fontsize = 20)\n",
    "    #plt.legend()\n",
    "    #plt.xlim(0,5)\n",
    "    "
   ]
  },
  {
   "cell_type": "code",
   "execution_count": 14,
   "metadata": {},
   "outputs": [],
   "source": [
    "for k in range(num):\n",
    "    cl_ideal[k].compute_tangential_and_cross_components(geometry=\"flat\")\n",
    "    cl_noisy[k].compute_tangential_and_cross_components(geometry=\"flat\")\n",
    "pass\n"
   ]
  },
  {
   "cell_type": "code",
   "execution_count": 15,
   "metadata": {},
   "outputs": [],
   "source": [
    "bin_edges = da.make_bins(0.2, 4, 15, method='evenlog10width')\n"
   ]
  },
  {
   "cell_type": "code",
   "execution_count": 19,
   "metadata": {},
   "outputs": [
    {
     "name": "stdout",
     "output_type": "stream",
     "text": [
      "        z         \n",
      "------------------\n",
      "1.3706991541123081\n",
      "1.5665026758289973\n",
      "1.0964251445086004\n",
      "1.0701876719110874\n",
      "0.8188604062585276\n",
      "1.2658764084109082\n",
      "1.3102829279792712\n",
      "1.0964788324045862\n",
      "1.1943914590460747\n",
      " 1.188341977599923\n",
      "1.1704808698484173\n",
      "1.1074721404349113\n",
      "1.1249460709010042\n",
      "1.1709354360516844\n",
      "1.1638870698319017\n",
      "        z         \n",
      "------------------\n",
      "1.8823573341421422\n",
      "1.3499110392677198\n",
      "0.9975102812957761\n",
      "1.3501932218184425\n",
      "1.1429887637257594\n",
      "1.1779499617788092\n",
      "1.3248304947596843\n",
      "1.2504198970201723\n",
      "1.3643915365689503\n",
      "1.2850489687931819\n",
      "1.3446144611188564\n",
      " 1.280658539333305\n",
      "1.2165098332936086\n",
      "1.2581652445785896\n",
      " 1.292284700632635\n",
      "        z         \n",
      "------------------\n",
      "1.0663702592589321\n",
      " 1.185696601201808\n",
      "1.1876688662133248\n",
      "1.1960687134136443\n",
      " 1.119007567934232\n",
      "1.1405164682376723\n",
      "1.2069545524575511\n",
      "1.2038059892962818\n",
      " 1.248933039944226\n",
      " 1.101988362075777\n",
      "1.1010138444133801\n",
      "1.1506118070372446\n",
      "1.1730048276062943\n",
      "1.1799322100442586\n",
      " 1.147984072765244\n",
      "        z         \n",
      "------------------\n",
      " 0.555678861959632\n",
      "1.8770829005857512\n",
      " 2.219913611400496\n",
      "1.6509076332330517\n",
      "1.3804351318283108\n",
      "1.8689636468244613\n",
      "1.5070911346743558\n",
      "1.6446945178539292\n",
      " 1.245412009435101\n",
      "1.2844872944257884\n",
      "1.4245971034309766\n",
      "1.4356208373210502\n",
      " 1.449760833278183\n",
      "1.4452809230918575\n",
      "1.4343219996595353\n",
      "        z         \n",
      "------------------\n",
      "1.1656679260717928\n",
      "1.1261112569038545\n",
      " 2.026760137505737\n",
      "1.2318658057162055\n",
      "1.1101324371693055\n",
      "1.4476564746293394\n",
      "1.4062784025105721\n",
      "1.3148321852754332\n",
      "1.2840851760024887\n",
      "1.3751919481612376\n",
      " 1.329471546052011\n",
      "1.3278127075176613\n",
      "1.3315685259829686\n",
      "1.3241183416769173\n",
      "1.3557077608900445\n"
     ]
    },
    {
     "name": "stderr",
     "output_type": "stream",
     "text": [
      "/Users/nicomasii/opt/anaconda3/lib/python3.8/site-packages/clmm-0.9.3-py3.8.egg/clmm/galaxycluster.py:298: UserWarning: overwriting profile table.\n",
      "/Users/nicomasii/opt/anaconda3/lib/python3.8/site-packages/clmm-0.9.3-py3.8.egg/clmm/galaxycluster.py:298: UserWarning: overwriting profile table.\n",
      "/Users/nicomasii/opt/anaconda3/lib/python3.8/site-packages/clmm-0.9.3-py3.8.egg/clmm/galaxycluster.py:298: UserWarning: overwriting profile table.\n",
      "/Users/nicomasii/opt/anaconda3/lib/python3.8/site-packages/clmm-0.9.3-py3.8.egg/clmm/galaxycluster.py:298: UserWarning: overwriting profile table.\n",
      "/Users/nicomasii/opt/anaconda3/lib/python3.8/site-packages/clmm-0.9.3-py3.8.egg/clmm/galaxycluster.py:298: UserWarning: overwriting profile table.\n",
      "/Users/nicomasii/opt/anaconda3/lib/python3.8/site-packages/clmm-0.9.3-py3.8.egg/clmm/galaxycluster.py:298: UserWarning: overwriting profile table.\n",
      "/Users/nicomasii/opt/anaconda3/lib/python3.8/site-packages/clmm-0.9.3-py3.8.egg/clmm/galaxycluster.py:298: UserWarning: overwriting profile table.\n",
      "/Users/nicomasii/opt/anaconda3/lib/python3.8/site-packages/clmm-0.9.3-py3.8.egg/clmm/galaxycluster.py:298: UserWarning: overwriting profile table.\n",
      "/Users/nicomasii/opt/anaconda3/lib/python3.8/site-packages/clmm-0.9.3-py3.8.egg/clmm/galaxycluster.py:298: UserWarning: overwriting profile table.\n",
      "/Users/nicomasii/opt/anaconda3/lib/python3.8/site-packages/clmm-0.9.3-py3.8.egg/clmm/galaxycluster.py:298: UserWarning: overwriting profile table.\n"
     ]
    }
   ],
   "source": [
    "for k in range(num):\n",
    "    cluster_z = cluster_data[k][4]\n",
    "    a = cl_ideal[k].make_radial_profile(\"Mpc\",include_empty_bins=True, bins=bin_edges, cosmo=cosmo, gal_ids_in_bins=True)\n",
    "    b = cl_noisy[k].make_radial_profile(\"Mpc\",include_empty_bins=True, bins=bin_edges,cosmo=cosmo, gal_ids_in_bins=True)\n",
    "    #print(np.shape(cl_ideal[k].profile['z']))\n",
    "    #print(cl_ideal[k].profile['z'])\n",
    "    mask = cl_ideal[k].profile['z'] < cluster_z\n",
    "    cl_ideal[k].profile['z'] = np.where(cl_ideal[k].profile['z'] < cluster_z, np.random.uniform(cluster_z,0.6), cl_ideal[k].profile['z'])\n",
    "    #print(np.shape(cl_noisy[k].profile['z']))\n",
    "    print(cl_ideal[k].profile['z'])\n",
    "pass\n"
   ]
  },
  {
   "cell_type": "code",
   "execution_count": 20,
   "metadata": {},
   "outputs": [],
   "source": [
    "def model_reduced_tangential_shear_singlez(r, logm, z_src, concentration, cluster_z):\n",
    "    m = 10.**logm\n",
    "    gt_model = clmm.compute_reduced_tangential_shear(r,\n",
    "                                                     m, concentration,\n",
    "                                                     cluster_z, z_src, cosmo,\n",
    "                                                     delta_mdef=200,\n",
    "                                                     halo_profile_model='nfw')    \n",
    "    return gt_model"
   ]
  },
  {
   "cell_type": "code",
   "execution_count": 30,
   "metadata": {},
   "outputs": [],
   "source": [
    "def model_reduced_tangential_shear_zdistrib(radius, logm, data, catalog, profile, concentration, cluster_z): \n",
    "    m = 10**logm\n",
    "    gt_model = []\n",
    "    for i in range(len(radius)):\n",
    "        \n",
    "        r = profile['radius'][i]\n",
    "        galist = profile['gal_id'][i]\n",
    "        z_list = catalog.galcat['z'][galist]\n",
    "        shear = clmm.compute_reduced_tangential_shear(r, m, concentration, \n",
    "                                                      cluster_z, z_list, cosmo, delta_mdef=200, \n",
    "                                                      halo_profile_model='nfw')\n",
    "        gt_model.append(np.mean(shear))\n",
    "\n",
    "    return gt_model"
   ]
  },
  {
   "cell_type": "code",
   "execution_count": 38,
   "metadata": {},
   "outputs": [
    {
     "name": "stdout",
     "output_type": "stream",
     "text": [
      "0.21306327099877354\n",
      "0.2746523954152519\n",
      "0.31264215539285073\n",
      "0.4023454893613988\n",
      "0.4914020926595182\n",
      "0.6110868769770479\n",
      "0.7341361246614398\n",
      "0.898763950182384\n",
      "1.107251374856024\n",
      "1.3478301310603393\n",
      "1.6442735764660676\n",
      "2.003196403896504\n",
      "2.438418862476575\n",
      "2.9892397569325477\n",
      "3.644040231654602\n",
      "0.22015332200084228\n",
      "0.28314092904267313\n",
      "0.3224034431993772\n",
      "0.40808086458790466\n",
      "0.4975691379576771\n",
      "0.5972002045930417\n",
      "0.7454552615966314\n",
      "0.8946514596316762\n",
      "1.1016736210693039\n",
      "1.3384023935119396\n",
      "1.636534447904037\n",
      "2.0000395868087164\n",
      "2.4500259038892684\n",
      "2.9987739303856014\n",
      "3.652167072795866\n",
      "0.2152704525275885\n",
      "0.27096239411183975\n",
      "0.3433788362527836\n",
      "0.3957907803091913\n",
      "0.5012512520417787\n",
      "0.6065365089510735\n",
      "0.7399165109659945\n",
      "0.9037033752039884\n",
      "1.0969213237549131\n",
      "1.3384124786708909\n",
      "1.6425806344287415\n",
      "2.0022812672848156\n",
      "2.4538286141713153\n",
      "2.988232202603339\n",
      "3.6553894608889497\n",
      "0.22889881293292957\n",
      "0.2763627836785447\n",
      "0.33020461554132063\n",
      "0.4209607520276776\n",
      "0.4943583830782579\n",
      "0.6051782162756318\n",
      "0.746121255604651\n",
      "0.9057446321555938\n",
      "1.0910086245284636\n",
      "1.3425426420547326\n",
      "1.6531672689148993\n",
      "1.9994032056182398\n",
      "2.4487324151890113\n",
      "2.9886562272373127\n",
      "3.655410020217676\n",
      "0.22503158606068774\n",
      "0.26096410037984186\n",
      "0.3362768065218612\n",
      "0.40646499401944247\n",
      "0.49717376864864216\n",
      "0.6058098765531069\n",
      "0.7426452754716141\n",
      "0.9161415941399309\n",
      "1.105424146512377\n",
      "1.3454574701219828\n",
      "1.6443579512603743\n",
      "1.9948585948020814\n",
      "2.449100701242775\n",
      "2.985713879332542\n",
      "3.6463581480806626\n",
      "0.21367427030404246\n",
      "0.2828697339295711\n",
      "0.32912257653431415\n",
      "0.3979036082549556\n",
      "0.4952631502256009\n",
      "0.6109311643483738\n",
      "0.7366078309707215\n",
      "0.908343372202145\n",
      "1.097529023055407\n",
      "1.3433702820945037\n",
      "1.6470723260455609\n",
      "2.0108544304094544\n",
      "2.443551592551416\n",
      "2.9843459266599113\n",
      "3.6444939888502885\n"
     ]
    },
    {
     "ename": "ValueError",
     "evalue": "cannot call `vectorize` on size 0 inputs unless `otypes` is set",
     "output_type": "error",
     "traceback": [
      "\u001b[0;31m---------------------------------------------------------------------------\u001b[0m",
      "\u001b[0;31mValueError\u001b[0m                                Traceback (most recent call last)",
      "\u001b[0;32m<ipython-input-38-fab6e3826f49>\u001b[0m in \u001b[0;36m<module>\u001b[0;34m\u001b[0m\n\u001b[1;32m     17\u001b[0m     \u001b[0;31m#print(np.shape(cl_noisy[k].profile))\u001b[0m\u001b[0;34m\u001b[0m\u001b[0;34m\u001b[0m\u001b[0;34m\u001b[0m\u001b[0m\n\u001b[1;32m     18\u001b[0m     \u001b[0mgt_model_ideal_singlez\u001b[0m\u001b[0;34m.\u001b[0m\u001b[0mappend\u001b[0m\u001b[0;34m(\u001b[0m\u001b[0mmodel_reduced_tangential_shear_singlez\u001b[0m\u001b[0;34m(\u001b[0m\u001b[0mr\u001b[0m\u001b[0;34m,\u001b[0m \u001b[0mlogm\u001b[0m\u001b[0;34m,\u001b[0m\u001b[0mcl_ideal\u001b[0m\u001b[0;34m[\u001b[0m\u001b[0mk\u001b[0m\u001b[0;34m]\u001b[0m\u001b[0;34m.\u001b[0m\u001b[0mprofile\u001b[0m\u001b[0;34m[\u001b[0m\u001b[0;34m'z'\u001b[0m\u001b[0;34m]\u001b[0m\u001b[0;34m,\u001b[0m\u001b[0mconcentration\u001b[0m\u001b[0;34m,\u001b[0m \u001b[0mcluster_z\u001b[0m\u001b[0;34m)\u001b[0m\u001b[0;34m)\u001b[0m\u001b[0;34m\u001b[0m\u001b[0;34m\u001b[0m\u001b[0m\n\u001b[0;32m---> 19\u001b[0;31m     \u001b[0mgt_model_ideal_zdistrib\u001b[0m\u001b[0;34m.\u001b[0m\u001b[0mappend\u001b[0m\u001b[0;34m(\u001b[0m\u001b[0mmodel_reduced_tangential_shear_zdistrib\u001b[0m\u001b[0;34m(\u001b[0m\u001b[0mr\u001b[0m\u001b[0;34m,\u001b[0m\u001b[0mlogm\u001b[0m\u001b[0;34m,\u001b[0m \u001b[0mideal_data\u001b[0m\u001b[0;34m[\u001b[0m\u001b[0mk\u001b[0m\u001b[0;34m]\u001b[0m\u001b[0;34m,\u001b[0m \u001b[0mcl_ideal\u001b[0m\u001b[0;34m[\u001b[0m\u001b[0mk\u001b[0m\u001b[0;34m]\u001b[0m\u001b[0;34m,\u001b[0m \u001b[0mcl_ideal\u001b[0m\u001b[0;34m[\u001b[0m\u001b[0mk\u001b[0m\u001b[0;34m]\u001b[0m\u001b[0;34m.\u001b[0m\u001b[0mprofile\u001b[0m\u001b[0;34m,\u001b[0m\u001b[0mconcentration\u001b[0m\u001b[0;34m,\u001b[0m\u001b[0mcluster_z\u001b[0m\u001b[0;34m)\u001b[0m\u001b[0;34m)\u001b[0m\u001b[0;34m\u001b[0m\u001b[0;34m\u001b[0m\u001b[0m\n\u001b[0m\u001b[1;32m     20\u001b[0m     \u001b[0mgt_model_noisy_singlez\u001b[0m\u001b[0;34m.\u001b[0m\u001b[0mappend\u001b[0m\u001b[0;34m(\u001b[0m\u001b[0mmodel_reduced_tangential_shear_singlez\u001b[0m\u001b[0;34m(\u001b[0m\u001b[0mr\u001b[0m\u001b[0;34m,\u001b[0m\u001b[0mlogm\u001b[0m\u001b[0;34m,\u001b[0m\u001b[0mcl_noisy\u001b[0m\u001b[0;34m[\u001b[0m\u001b[0mk\u001b[0m\u001b[0;34m]\u001b[0m\u001b[0;34m.\u001b[0m\u001b[0mprofile\u001b[0m\u001b[0;34m[\u001b[0m\u001b[0;34m'z'\u001b[0m\u001b[0;34m]\u001b[0m\u001b[0;34m,\u001b[0m\u001b[0mconcentration\u001b[0m\u001b[0;34m,\u001b[0m \u001b[0mcluster_z\u001b[0m \u001b[0;34m)\u001b[0m\u001b[0;34m)\u001b[0m\u001b[0;34m\u001b[0m\u001b[0;34m\u001b[0m\u001b[0m\n\u001b[1;32m     21\u001b[0m     \u001b[0mgt_model_noisy_zdistrib\u001b[0m\u001b[0;34m.\u001b[0m\u001b[0mappend\u001b[0m\u001b[0;34m(\u001b[0m\u001b[0mmodel_reduced_tangential_shear_zdistrib\u001b[0m\u001b[0;34m(\u001b[0m\u001b[0mr\u001b[0m\u001b[0;34m,\u001b[0m\u001b[0mlogm\u001b[0m\u001b[0;34m,\u001b[0m\u001b[0mnoisy_data\u001b[0m\u001b[0;34m[\u001b[0m\u001b[0mk\u001b[0m\u001b[0;34m]\u001b[0m\u001b[0;34m,\u001b[0m \u001b[0mcl_noisy\u001b[0m\u001b[0;34m[\u001b[0m\u001b[0mk\u001b[0m\u001b[0;34m]\u001b[0m\u001b[0;34m,\u001b[0m \u001b[0mcl_noisy\u001b[0m\u001b[0;34m[\u001b[0m\u001b[0mk\u001b[0m\u001b[0;34m]\u001b[0m\u001b[0;34m.\u001b[0m\u001b[0mprofile\u001b[0m\u001b[0;34m,\u001b[0m\u001b[0mconcentration\u001b[0m\u001b[0;34m,\u001b[0m \u001b[0mcluster_z\u001b[0m \u001b[0;34m)\u001b[0m\u001b[0;34m)\u001b[0m\u001b[0;34m\u001b[0m\u001b[0;34m\u001b[0m\u001b[0m\n",
      "\u001b[0;32m<ipython-input-30-85d2a5356584>\u001b[0m in \u001b[0;36mmodel_reduced_tangential_shear_zdistrib\u001b[0;34m(radius, logm, data, catalog, profile, concentration, cluster_z)\u001b[0m\n\u001b[1;32m      7\u001b[0m         \u001b[0mgalist\u001b[0m \u001b[0;34m=\u001b[0m \u001b[0mprofile\u001b[0m\u001b[0;34m[\u001b[0m\u001b[0;34m'gal_id'\u001b[0m\u001b[0;34m]\u001b[0m\u001b[0;34m[\u001b[0m\u001b[0mi\u001b[0m\u001b[0;34m]\u001b[0m\u001b[0;34m\u001b[0m\u001b[0;34m\u001b[0m\u001b[0m\n\u001b[1;32m      8\u001b[0m         \u001b[0mz_list\u001b[0m \u001b[0;34m=\u001b[0m \u001b[0mcatalog\u001b[0m\u001b[0;34m.\u001b[0m\u001b[0mgalcat\u001b[0m\u001b[0;34m[\u001b[0m\u001b[0;34m'z'\u001b[0m\u001b[0;34m]\u001b[0m\u001b[0;34m[\u001b[0m\u001b[0mgalist\u001b[0m\u001b[0;34m]\u001b[0m\u001b[0;34m\u001b[0m\u001b[0;34m\u001b[0m\u001b[0m\n\u001b[0;32m----> 9\u001b[0;31m         shear = clmm.compute_reduced_tangential_shear(r, m, concentration, \n\u001b[0m\u001b[1;32m     10\u001b[0m                                                       \u001b[0mcluster_z\u001b[0m\u001b[0;34m,\u001b[0m \u001b[0mz_list\u001b[0m\u001b[0;34m,\u001b[0m \u001b[0mcosmo\u001b[0m\u001b[0;34m,\u001b[0m \u001b[0mdelta_mdef\u001b[0m\u001b[0;34m=\u001b[0m\u001b[0;36m200\u001b[0m\u001b[0;34m,\u001b[0m\u001b[0;34m\u001b[0m\u001b[0;34m\u001b[0m\u001b[0m\n\u001b[1;32m     11\u001b[0m                                                       halo_profile_model='nfw')\n",
      "\u001b[0;32m~/opt/anaconda3/lib/python3.8/site-packages/clmm-0.9.3-py3.8.egg/clmm/theory/func_layer.py\u001b[0m in \u001b[0;36mcompute_reduced_tangential_shear\u001b[0;34m(r_proj, mdelta, cdelta, z_cluster, z_source, cosmo, delta_mdef, halo_profile_model, massdef, z_src_model)\u001b[0m\n\u001b[1;32m    402\u001b[0m         \u001b[0mgcm\u001b[0m\u001b[0;34m.\u001b[0m\u001b[0mset_mass\u001b[0m\u001b[0;34m(\u001b[0m\u001b[0mmdelta\u001b[0m\u001b[0;34m)\u001b[0m\u001b[0;34m\u001b[0m\u001b[0;34m\u001b[0m\u001b[0m\n\u001b[1;32m    403\u001b[0m \u001b[0;34m\u001b[0m\u001b[0m\n\u001b[0;32m--> 404\u001b[0;31m         \u001b[0mred_tangential_shear\u001b[0m \u001b[0;34m=\u001b[0m \u001b[0mgcm\u001b[0m\u001b[0;34m.\u001b[0m\u001b[0meval_reduced_tangential_shear\u001b[0m\u001b[0;34m(\u001b[0m\u001b[0mr_proj\u001b[0m\u001b[0;34m,\u001b[0m \u001b[0mz_cluster\u001b[0m\u001b[0;34m,\u001b[0m \u001b[0mz_source\u001b[0m\u001b[0;34m)\u001b[0m\u001b[0;34m\u001b[0m\u001b[0;34m\u001b[0m\u001b[0m\n\u001b[0m\u001b[1;32m    405\u001b[0m \u001b[0;34m\u001b[0m\u001b[0m\n\u001b[1;32m    406\u001b[0m     \u001b[0;31m# elif z_src_model == 'known_z_src': # Discrete case\u001b[0m\u001b[0;34m\u001b[0m\u001b[0;34m\u001b[0m\u001b[0;34m\u001b[0m\u001b[0m\n",
      "\u001b[0;32m~/opt/anaconda3/lib/python3.8/site-packages/clmm-0.9.3-py3.8.egg/clmm/theory/cluster_toolkit.py\u001b[0m in \u001b[0;36meval_reduced_tangential_shear\u001b[0;34m(self, r_proj, z_cl, z_src)\u001b[0m\n\u001b[1;32m    132\u001b[0m \u001b[0;34m\u001b[0m\u001b[0m\n\u001b[1;32m    133\u001b[0m     \u001b[0;32mdef\u001b[0m \u001b[0meval_reduced_tangential_shear\u001b[0m\u001b[0;34m(\u001b[0m\u001b[0mself\u001b[0m\u001b[0;34m,\u001b[0m \u001b[0mr_proj\u001b[0m\u001b[0;34m,\u001b[0m \u001b[0mz_cl\u001b[0m\u001b[0;34m,\u001b[0m \u001b[0mz_src\u001b[0m\u001b[0;34m)\u001b[0m\u001b[0;34m:\u001b[0m\u001b[0;34m\u001b[0m\u001b[0;34m\u001b[0m\u001b[0m\n\u001b[0;32m--> 134\u001b[0;31m         \u001b[0mkappa\u001b[0m \u001b[0;34m=\u001b[0m \u001b[0mself\u001b[0m\u001b[0;34m.\u001b[0m\u001b[0meval_convergence\u001b[0m\u001b[0;34m(\u001b[0m\u001b[0mr_proj\u001b[0m\u001b[0;34m,\u001b[0m \u001b[0mz_cl\u001b[0m\u001b[0;34m,\u001b[0m \u001b[0mz_src\u001b[0m\u001b[0;34m)\u001b[0m\u001b[0;34m\u001b[0m\u001b[0;34m\u001b[0m\u001b[0m\n\u001b[0m\u001b[1;32m    135\u001b[0m         \u001b[0mgamma_t\u001b[0m \u001b[0;34m=\u001b[0m \u001b[0mself\u001b[0m\u001b[0;34m.\u001b[0m\u001b[0meval_tangential_shear\u001b[0m\u001b[0;34m(\u001b[0m\u001b[0mr_proj\u001b[0m\u001b[0;34m,\u001b[0m \u001b[0mz_cl\u001b[0m\u001b[0;34m,\u001b[0m \u001b[0mz_src\u001b[0m\u001b[0;34m)\u001b[0m\u001b[0;34m\u001b[0m\u001b[0;34m\u001b[0m\u001b[0m\n\u001b[1;32m    136\u001b[0m         \u001b[0;32mreturn\u001b[0m \u001b[0mnp\u001b[0m\u001b[0;34m.\u001b[0m\u001b[0mdivide\u001b[0m\u001b[0;34m(\u001b[0m\u001b[0mgamma_t\u001b[0m\u001b[0;34m,\u001b[0m \u001b[0;34m(\u001b[0m\u001b[0;36m1\u001b[0m\u001b[0;34m-\u001b[0m\u001b[0mkappa\u001b[0m\u001b[0;34m)\u001b[0m\u001b[0;34m)\u001b[0m\u001b[0;34m\u001b[0m\u001b[0;34m\u001b[0m\u001b[0m\n",
      "\u001b[0;32m~/opt/anaconda3/lib/python3.8/site-packages/clmm-0.9.3-py3.8.egg/clmm/theory/cluster_toolkit.py\u001b[0m in \u001b[0;36meval_convergence\u001b[0;34m(self, r_proj, z_cl, z_src)\u001b[0m\n\u001b[1;32m    128\u001b[0m     \u001b[0;32mdef\u001b[0m \u001b[0meval_convergence\u001b[0m\u001b[0;34m(\u001b[0m\u001b[0mself\u001b[0m\u001b[0;34m,\u001b[0m \u001b[0mr_proj\u001b[0m\u001b[0;34m,\u001b[0m \u001b[0mz_cl\u001b[0m\u001b[0;34m,\u001b[0m \u001b[0mz_src\u001b[0m\u001b[0;34m)\u001b[0m\u001b[0;34m:\u001b[0m\u001b[0;34m\u001b[0m\u001b[0;34m\u001b[0m\u001b[0m\n\u001b[1;32m    129\u001b[0m         \u001b[0msigma\u001b[0m \u001b[0;34m=\u001b[0m \u001b[0mself\u001b[0m\u001b[0;34m.\u001b[0m\u001b[0meval_surface_density\u001b[0m\u001b[0;34m(\u001b[0m\u001b[0mr_proj\u001b[0m\u001b[0;34m,\u001b[0m \u001b[0mz_cl\u001b[0m\u001b[0;34m)\u001b[0m\u001b[0;34m\u001b[0m\u001b[0;34m\u001b[0m\u001b[0m\n\u001b[0;32m--> 130\u001b[0;31m         \u001b[0msigma_c\u001b[0m \u001b[0;34m=\u001b[0m \u001b[0mself\u001b[0m\u001b[0;34m.\u001b[0m\u001b[0meval_critical_surface_density\u001b[0m\u001b[0;34m(\u001b[0m\u001b[0mz_cl\u001b[0m\u001b[0;34m,\u001b[0m \u001b[0mz_src\u001b[0m\u001b[0;34m)\u001b[0m\u001b[0;34m\u001b[0m\u001b[0;34m\u001b[0m\u001b[0m\n\u001b[0m\u001b[1;32m    131\u001b[0m         \u001b[0;32mreturn\u001b[0m \u001b[0msigma\u001b[0m\u001b[0;34m/\u001b[0m\u001b[0msigma_c\u001b[0m\u001b[0;34m\u001b[0m\u001b[0;34m\u001b[0m\u001b[0m\n\u001b[1;32m    132\u001b[0m \u001b[0;34m\u001b[0m\u001b[0m\n",
      "\u001b[0;32m~/opt/anaconda3/lib/python3.8/site-packages/clmm-0.9.3-py3.8.egg/clmm/theory/parent_class.py\u001b[0m in \u001b[0;36meval_critical_surface_density\u001b[0;34m(self, z_len, z_src)\u001b[0m\n\u001b[1;32m    163\u001b[0m         \u001b[0;32mif\u001b[0m \u001b[0mnp\u001b[0m\u001b[0;34m.\u001b[0m\u001b[0many\u001b[0m\u001b[0;34m(\u001b[0m\u001b[0mnp\u001b[0m\u001b[0;34m.\u001b[0m\u001b[0marray\u001b[0m\u001b[0;34m(\u001b[0m\u001b[0mz_src\u001b[0m\u001b[0;34m)\u001b[0m\u001b[0;34m<=\u001b[0m\u001b[0;36m0\u001b[0m\u001b[0;34m)\u001b[0m\u001b[0;34m:\u001b[0m\u001b[0;34m\u001b[0m\u001b[0;34m\u001b[0m\u001b[0m\n\u001b[1;32m    164\u001b[0m             \u001b[0;32mraise\u001b[0m \u001b[0mValueError\u001b[0m\u001b[0;34m(\u001b[0m\u001b[0;34mf'Some source redshifts are <=0. Please check your inputs.'\u001b[0m\u001b[0;34m)\u001b[0m\u001b[0;34m\u001b[0m\u001b[0;34m\u001b[0m\u001b[0m\n\u001b[0;32m--> 165\u001b[0;31m         \u001b[0;32mreturn\u001b[0m \u001b[0mself\u001b[0m\u001b[0;34m.\u001b[0m\u001b[0mcosmo\u001b[0m\u001b[0;34m.\u001b[0m\u001b[0meval_sigma_crit\u001b[0m\u001b[0;34m(\u001b[0m\u001b[0mz_len\u001b[0m\u001b[0;34m,\u001b[0m \u001b[0mz_src\u001b[0m\u001b[0;34m)\u001b[0m\u001b[0;34m\u001b[0m\u001b[0;34m\u001b[0m\u001b[0m\n\u001b[0m\u001b[1;32m    166\u001b[0m \u001b[0;34m\u001b[0m\u001b[0m\n\u001b[1;32m    167\u001b[0m     \u001b[0;32mdef\u001b[0m \u001b[0meval_surface_density\u001b[0m\u001b[0;34m(\u001b[0m\u001b[0mself\u001b[0m\u001b[0;34m,\u001b[0m \u001b[0mr_proj\u001b[0m\u001b[0;34m,\u001b[0m \u001b[0mz_cl\u001b[0m\u001b[0;34m)\u001b[0m\u001b[0;34m:\u001b[0m\u001b[0;34m\u001b[0m\u001b[0;34m\u001b[0m\u001b[0m\n",
      "\u001b[0;32m~/opt/anaconda3/lib/python3.8/site-packages/clmm-0.9.3-py3.8.egg/clmm/cosmology/cluster_toolkit.py\u001b[0m in \u001b[0;36meval_sigma_crit\u001b[0;34m(self, z_len, z_src)\u001b[0m\n\u001b[1;32m     75\u001b[0m \u001b[0;34m\u001b[0m\u001b[0m\n\u001b[1;32m     76\u001b[0m         \u001b[0md_l\u001b[0m \u001b[0;34m=\u001b[0m \u001b[0mself\u001b[0m\u001b[0;34m.\u001b[0m\u001b[0meval_da_z1z2\u001b[0m\u001b[0;34m(\u001b[0m\u001b[0;36m0\u001b[0m\u001b[0;34m,\u001b[0m \u001b[0mz_len\u001b[0m\u001b[0;34m)\u001b[0m\u001b[0;34m\u001b[0m\u001b[0;34m\u001b[0m\u001b[0m\n\u001b[0;32m---> 77\u001b[0;31m         \u001b[0md_s\u001b[0m \u001b[0;34m=\u001b[0m \u001b[0mself\u001b[0m\u001b[0;34m.\u001b[0m\u001b[0meval_da_z1z2\u001b[0m\u001b[0;34m(\u001b[0m\u001b[0;36m0\u001b[0m\u001b[0;34m,\u001b[0m \u001b[0mz_src\u001b[0m\u001b[0;34m)\u001b[0m\u001b[0;34m\u001b[0m\u001b[0;34m\u001b[0m\u001b[0m\n\u001b[0m\u001b[1;32m     78\u001b[0m         \u001b[0md_ls\u001b[0m \u001b[0;34m=\u001b[0m \u001b[0mself\u001b[0m\u001b[0;34m.\u001b[0m\u001b[0meval_da_z1z2\u001b[0m\u001b[0;34m(\u001b[0m\u001b[0mz_len\u001b[0m\u001b[0;34m,\u001b[0m \u001b[0mz_src\u001b[0m\u001b[0;34m)\u001b[0m\u001b[0;34m\u001b[0m\u001b[0;34m\u001b[0m\u001b[0m\n\u001b[1;32m     79\u001b[0m \u001b[0;34m\u001b[0m\u001b[0m\n",
      "\u001b[0;32m~/opt/anaconda3/lib/python3.8/site-packages/clmm-0.9.3-py3.8.egg/clmm/cosmology/cluster_toolkit.py\u001b[0m in \u001b[0;36meval_da_z1z2\u001b[0;34m(self, z1, z2)\u001b[0m\n\u001b[1;32m     65\u001b[0m \u001b[0;34m\u001b[0m\u001b[0m\n\u001b[1;32m     66\u001b[0m     \u001b[0;32mdef\u001b[0m \u001b[0meval_da_z1z2\u001b[0m\u001b[0;34m(\u001b[0m\u001b[0mself\u001b[0m\u001b[0;34m,\u001b[0m \u001b[0mz1\u001b[0m\u001b[0;34m,\u001b[0m \u001b[0mz2\u001b[0m\u001b[0;34m)\u001b[0m\u001b[0;34m:\u001b[0m\u001b[0;34m\u001b[0m\u001b[0;34m\u001b[0m\u001b[0m\n\u001b[0;32m---> 67\u001b[0;31m         \u001b[0;32mreturn\u001b[0m \u001b[0mself\u001b[0m\u001b[0;34m.\u001b[0m\u001b[0mbe_cosmo\u001b[0m\u001b[0;34m.\u001b[0m\u001b[0mangular_diameter_distance_z1z2\u001b[0m\u001b[0;34m(\u001b[0m\u001b[0mz1\u001b[0m\u001b[0;34m,\u001b[0m \u001b[0mz2\u001b[0m\u001b[0;34m)\u001b[0m\u001b[0;34m.\u001b[0m\u001b[0mto_value\u001b[0m\u001b[0;34m(\u001b[0m\u001b[0munits\u001b[0m\u001b[0;34m.\u001b[0m\u001b[0mMpc\u001b[0m\u001b[0;34m)\u001b[0m\u001b[0;34m\u001b[0m\u001b[0;34m\u001b[0m\u001b[0m\n\u001b[0m\u001b[1;32m     68\u001b[0m \u001b[0;34m\u001b[0m\u001b[0m\n\u001b[1;32m     69\u001b[0m     \u001b[0;32mdef\u001b[0m \u001b[0meval_sigma_crit\u001b[0m\u001b[0;34m(\u001b[0m\u001b[0mself\u001b[0m\u001b[0;34m,\u001b[0m \u001b[0mz_len\u001b[0m\u001b[0;34m,\u001b[0m \u001b[0mz_src\u001b[0m\u001b[0;34m)\u001b[0m\u001b[0;34m:\u001b[0m\u001b[0;34m\u001b[0m\u001b[0;34m\u001b[0m\u001b[0m\n",
      "\u001b[0;32m~/opt/anaconda3/lib/python3.8/site-packages/astropy/cosmology/core.py\u001b[0m in \u001b[0;36mangular_diameter_distance_z1z2\u001b[0;34m(self, z1, z2)\u001b[0m\n\u001b[1;32m   1391\u001b[0m         \u001b[0mz1\u001b[0m \u001b[0;34m=\u001b[0m \u001b[0mnp\u001b[0m\u001b[0;34m.\u001b[0m\u001b[0masanyarray\u001b[0m\u001b[0;34m(\u001b[0m\u001b[0mz1\u001b[0m\u001b[0;34m)\u001b[0m\u001b[0;34m\u001b[0m\u001b[0;34m\u001b[0m\u001b[0m\n\u001b[1;32m   1392\u001b[0m         \u001b[0mz2\u001b[0m \u001b[0;34m=\u001b[0m \u001b[0mnp\u001b[0m\u001b[0;34m.\u001b[0m\u001b[0masanyarray\u001b[0m\u001b[0;34m(\u001b[0m\u001b[0mz2\u001b[0m\u001b[0;34m)\u001b[0m\u001b[0;34m\u001b[0m\u001b[0;34m\u001b[0m\u001b[0m\n\u001b[0;32m-> 1393\u001b[0;31m         \u001b[0;32mreturn\u001b[0m \u001b[0mself\u001b[0m\u001b[0;34m.\u001b[0m\u001b[0m_comoving_transverse_distance_z1z2\u001b[0m\u001b[0;34m(\u001b[0m\u001b[0mz1\u001b[0m\u001b[0;34m,\u001b[0m \u001b[0mz2\u001b[0m\u001b[0;34m)\u001b[0m \u001b[0;34m/\u001b[0m \u001b[0;34m(\u001b[0m\u001b[0;36m1.\u001b[0m \u001b[0;34m+\u001b[0m \u001b[0mz2\u001b[0m\u001b[0;34m)\u001b[0m\u001b[0;34m\u001b[0m\u001b[0;34m\u001b[0m\u001b[0m\n\u001b[0m\u001b[1;32m   1394\u001b[0m \u001b[0;34m\u001b[0m\u001b[0m\n\u001b[1;32m   1395\u001b[0m     \u001b[0;32mdef\u001b[0m \u001b[0mabsorption_distance\u001b[0m\u001b[0;34m(\u001b[0m\u001b[0mself\u001b[0m\u001b[0;34m,\u001b[0m \u001b[0mz\u001b[0m\u001b[0;34m)\u001b[0m\u001b[0;34m:\u001b[0m\u001b[0;34m\u001b[0m\u001b[0;34m\u001b[0m\u001b[0m\n",
      "\u001b[0;32m~/opt/anaconda3/lib/python3.8/site-packages/astropy/cosmology/core.py\u001b[0m in \u001b[0;36m_comoving_transverse_distance_z1z2\u001b[0;34m(self, z1, z2)\u001b[0m\n\u001b[1;32m   1305\u001b[0m \u001b[0;34m\u001b[0m\u001b[0m\n\u001b[1;32m   1306\u001b[0m         \u001b[0mOk0\u001b[0m \u001b[0;34m=\u001b[0m \u001b[0mself\u001b[0m\u001b[0;34m.\u001b[0m\u001b[0m_Ok0\u001b[0m\u001b[0;34m\u001b[0m\u001b[0;34m\u001b[0m\u001b[0m\n\u001b[0;32m-> 1307\u001b[0;31m         \u001b[0mdc\u001b[0m \u001b[0;34m=\u001b[0m \u001b[0mself\u001b[0m\u001b[0;34m.\u001b[0m\u001b[0m_comoving_distance_z1z2\u001b[0m\u001b[0;34m(\u001b[0m\u001b[0mz1\u001b[0m\u001b[0;34m,\u001b[0m \u001b[0mz2\u001b[0m\u001b[0;34m)\u001b[0m\u001b[0;34m\u001b[0m\u001b[0;34m\u001b[0m\u001b[0m\n\u001b[0m\u001b[1;32m   1308\u001b[0m         \u001b[0;32mif\u001b[0m \u001b[0mOk0\u001b[0m \u001b[0;34m==\u001b[0m \u001b[0;36m0\u001b[0m\u001b[0;34m:\u001b[0m\u001b[0;34m\u001b[0m\u001b[0;34m\u001b[0m\u001b[0m\n\u001b[1;32m   1309\u001b[0m             \u001b[0;32mreturn\u001b[0m \u001b[0mdc\u001b[0m\u001b[0;34m\u001b[0m\u001b[0;34m\u001b[0m\u001b[0m\n",
      "\u001b[0;32m~/opt/anaconda3/lib/python3.8/site-packages/astropy/cosmology/core.py\u001b[0m in \u001b[0;36m_comoving_distance_z1z2\u001b[0;34m(self, z1, z2)\u001b[0m\n\u001b[1;32m   1226\u001b[0m           \u001b[0mComoving\u001b[0m \u001b[0mdistance\u001b[0m \u001b[0;32min\u001b[0m \u001b[0mMpc\u001b[0m \u001b[0mbetween\u001b[0m \u001b[0meach\u001b[0m \u001b[0minput\u001b[0m \u001b[0mredshift\u001b[0m\u001b[0;34m.\u001b[0m\u001b[0;34m\u001b[0m\u001b[0;34m\u001b[0m\u001b[0m\n\u001b[1;32m   1227\u001b[0m         \"\"\"\n\u001b[0;32m-> 1228\u001b[0;31m         \u001b[0;32mreturn\u001b[0m \u001b[0mself\u001b[0m\u001b[0;34m.\u001b[0m\u001b[0m_integral_comoving_distance_z1z2\u001b[0m\u001b[0;34m(\u001b[0m\u001b[0mz1\u001b[0m\u001b[0;34m,\u001b[0m \u001b[0mz2\u001b[0m\u001b[0;34m)\u001b[0m\u001b[0;34m\u001b[0m\u001b[0;34m\u001b[0m\u001b[0m\n\u001b[0m\u001b[1;32m   1229\u001b[0m \u001b[0;34m\u001b[0m\u001b[0m\n\u001b[1;32m   1230\u001b[0m     \u001b[0;32mdef\u001b[0m \u001b[0m_integral_comoving_distance_z1z2\u001b[0m\u001b[0;34m(\u001b[0m\u001b[0mself\u001b[0m\u001b[0;34m,\u001b[0m \u001b[0mz1\u001b[0m\u001b[0;34m,\u001b[0m \u001b[0mz2\u001b[0m\u001b[0;34m)\u001b[0m\u001b[0;34m:\u001b[0m\u001b[0;34m\u001b[0m\u001b[0;34m\u001b[0m\u001b[0m\n",
      "\u001b[0;32m~/opt/anaconda3/lib/python3.8/site-packages/astropy/cosmology/core.py\u001b[0m in \u001b[0;36m_integral_comoving_distance_z1z2\u001b[0;34m(self, z1, z2)\u001b[0m\n\u001b[1;32m   1250\u001b[0m         f = lambda z1, z2: quad(self._inv_efunc_scalar, z1, z2,\n\u001b[1;32m   1251\u001b[0m                              args=self._inv_efunc_scalar_args)[0]\n\u001b[0;32m-> 1252\u001b[0;31m         \u001b[0;32mreturn\u001b[0m \u001b[0mself\u001b[0m\u001b[0;34m.\u001b[0m\u001b[0m_hubble_distance\u001b[0m \u001b[0;34m*\u001b[0m \u001b[0mvectorize_if_needed\u001b[0m\u001b[0;34m(\u001b[0m\u001b[0mf\u001b[0m\u001b[0;34m,\u001b[0m \u001b[0mz1\u001b[0m\u001b[0;34m,\u001b[0m \u001b[0mz2\u001b[0m\u001b[0;34m)\u001b[0m\u001b[0;34m\u001b[0m\u001b[0;34m\u001b[0m\u001b[0m\n\u001b[0m\u001b[1;32m   1253\u001b[0m \u001b[0;34m\u001b[0m\u001b[0m\n\u001b[1;32m   1254\u001b[0m     \u001b[0;32mdef\u001b[0m \u001b[0mcomoving_transverse_distance\u001b[0m\u001b[0;34m(\u001b[0m\u001b[0mself\u001b[0m\u001b[0;34m,\u001b[0m \u001b[0mz\u001b[0m\u001b[0;34m)\u001b[0m\u001b[0;34m:\u001b[0m\u001b[0;34m\u001b[0m\u001b[0;34m\u001b[0m\u001b[0m\n",
      "\u001b[0;32m~/opt/anaconda3/lib/python3.8/site-packages/astropy/cosmology/core.py\u001b[0m in \u001b[0;36mvectorize_if_needed\u001b[0;34m(func, *x)\u001b[0m\n\u001b[1;32m   3260\u001b[0m     \u001b[0;34m\"\"\" Helper function to vectorize functions on array inputs\"\"\"\u001b[0m\u001b[0;34m\u001b[0m\u001b[0;34m\u001b[0m\u001b[0m\n\u001b[1;32m   3261\u001b[0m     \u001b[0;32mif\u001b[0m \u001b[0many\u001b[0m\u001b[0;34m(\u001b[0m\u001b[0mmap\u001b[0m\u001b[0;34m(\u001b[0m\u001b[0misiterable\u001b[0m\u001b[0;34m,\u001b[0m \u001b[0mx\u001b[0m\u001b[0;34m)\u001b[0m\u001b[0;34m)\u001b[0m\u001b[0;34m:\u001b[0m\u001b[0;34m\u001b[0m\u001b[0;34m\u001b[0m\u001b[0m\n\u001b[0;32m-> 3262\u001b[0;31m         \u001b[0;32mreturn\u001b[0m \u001b[0mnp\u001b[0m\u001b[0;34m.\u001b[0m\u001b[0mvectorize\u001b[0m\u001b[0;34m(\u001b[0m\u001b[0mfunc\u001b[0m\u001b[0;34m)\u001b[0m\u001b[0;34m(\u001b[0m\u001b[0;34m*\u001b[0m\u001b[0mx\u001b[0m\u001b[0;34m)\u001b[0m\u001b[0;34m\u001b[0m\u001b[0;34m\u001b[0m\u001b[0m\n\u001b[0m\u001b[1;32m   3263\u001b[0m     \u001b[0;32melse\u001b[0m\u001b[0;34m:\u001b[0m\u001b[0;34m\u001b[0m\u001b[0;34m\u001b[0m\u001b[0m\n\u001b[1;32m   3264\u001b[0m         \u001b[0;32mreturn\u001b[0m \u001b[0mfunc\u001b[0m\u001b[0;34m(\u001b[0m\u001b[0;34m*\u001b[0m\u001b[0mx\u001b[0m\u001b[0;34m)\u001b[0m\u001b[0;34m\u001b[0m\u001b[0;34m\u001b[0m\u001b[0m\n",
      "\u001b[0;32m~/opt/anaconda3/lib/python3.8/site-packages/numpy/lib/function_base.py\u001b[0m in \u001b[0;36m__call__\u001b[0;34m(self, *args, **kwargs)\u001b[0m\n\u001b[1;32m   2106\u001b[0m             \u001b[0mvargs\u001b[0m\u001b[0;34m.\u001b[0m\u001b[0mextend\u001b[0m\u001b[0;34m(\u001b[0m\u001b[0;34m[\u001b[0m\u001b[0mkwargs\u001b[0m\u001b[0;34m[\u001b[0m\u001b[0m_n\u001b[0m\u001b[0;34m]\u001b[0m \u001b[0;32mfor\u001b[0m \u001b[0m_n\u001b[0m \u001b[0;32min\u001b[0m \u001b[0mnames\u001b[0m\u001b[0;34m]\u001b[0m\u001b[0;34m)\u001b[0m\u001b[0;34m\u001b[0m\u001b[0;34m\u001b[0m\u001b[0m\n\u001b[1;32m   2107\u001b[0m \u001b[0;34m\u001b[0m\u001b[0m\n\u001b[0;32m-> 2108\u001b[0;31m         \u001b[0;32mreturn\u001b[0m \u001b[0mself\u001b[0m\u001b[0;34m.\u001b[0m\u001b[0m_vectorize_call\u001b[0m\u001b[0;34m(\u001b[0m\u001b[0mfunc\u001b[0m\u001b[0;34m=\u001b[0m\u001b[0mfunc\u001b[0m\u001b[0;34m,\u001b[0m \u001b[0margs\u001b[0m\u001b[0;34m=\u001b[0m\u001b[0mvargs\u001b[0m\u001b[0;34m)\u001b[0m\u001b[0;34m\u001b[0m\u001b[0;34m\u001b[0m\u001b[0m\n\u001b[0m\u001b[1;32m   2109\u001b[0m \u001b[0;34m\u001b[0m\u001b[0m\n\u001b[1;32m   2110\u001b[0m     \u001b[0;32mdef\u001b[0m \u001b[0m_get_ufunc_and_otypes\u001b[0m\u001b[0;34m(\u001b[0m\u001b[0mself\u001b[0m\u001b[0;34m,\u001b[0m \u001b[0mfunc\u001b[0m\u001b[0;34m,\u001b[0m \u001b[0margs\u001b[0m\u001b[0;34m)\u001b[0m\u001b[0;34m:\u001b[0m\u001b[0;34m\u001b[0m\u001b[0;34m\u001b[0m\u001b[0m\n",
      "\u001b[0;32m~/opt/anaconda3/lib/python3.8/site-packages/numpy/lib/function_base.py\u001b[0m in \u001b[0;36m_vectorize_call\u001b[0;34m(self, func, args)\u001b[0m\n\u001b[1;32m   2184\u001b[0m             \u001b[0mres\u001b[0m \u001b[0;34m=\u001b[0m \u001b[0mfunc\u001b[0m\u001b[0;34m(\u001b[0m\u001b[0;34m)\u001b[0m\u001b[0;34m\u001b[0m\u001b[0;34m\u001b[0m\u001b[0m\n\u001b[1;32m   2185\u001b[0m         \u001b[0;32melse\u001b[0m\u001b[0;34m:\u001b[0m\u001b[0;34m\u001b[0m\u001b[0;34m\u001b[0m\u001b[0m\n\u001b[0;32m-> 2186\u001b[0;31m             \u001b[0mufunc\u001b[0m\u001b[0;34m,\u001b[0m \u001b[0motypes\u001b[0m \u001b[0;34m=\u001b[0m \u001b[0mself\u001b[0m\u001b[0;34m.\u001b[0m\u001b[0m_get_ufunc_and_otypes\u001b[0m\u001b[0;34m(\u001b[0m\u001b[0mfunc\u001b[0m\u001b[0;34m=\u001b[0m\u001b[0mfunc\u001b[0m\u001b[0;34m,\u001b[0m \u001b[0margs\u001b[0m\u001b[0;34m=\u001b[0m\u001b[0margs\u001b[0m\u001b[0;34m)\u001b[0m\u001b[0;34m\u001b[0m\u001b[0;34m\u001b[0m\u001b[0m\n\u001b[0m\u001b[1;32m   2187\u001b[0m \u001b[0;34m\u001b[0m\u001b[0m\n\u001b[1;32m   2188\u001b[0m             \u001b[0;31m# Convert args to object arrays first\u001b[0m\u001b[0;34m\u001b[0m\u001b[0;34m\u001b[0m\u001b[0;34m\u001b[0m\u001b[0m\n",
      "\u001b[0;32m~/opt/anaconda3/lib/python3.8/site-packages/numpy/lib/function_base.py\u001b[0m in \u001b[0;36m_get_ufunc_and_otypes\u001b[0;34m(self, func, args)\u001b[0m\n\u001b[1;32m   2140\u001b[0m             \u001b[0margs\u001b[0m \u001b[0;34m=\u001b[0m \u001b[0;34m[\u001b[0m\u001b[0masarray\u001b[0m\u001b[0;34m(\u001b[0m\u001b[0marg\u001b[0m\u001b[0;34m)\u001b[0m \u001b[0;32mfor\u001b[0m \u001b[0marg\u001b[0m \u001b[0;32min\u001b[0m \u001b[0margs\u001b[0m\u001b[0;34m]\u001b[0m\u001b[0;34m\u001b[0m\u001b[0;34m\u001b[0m\u001b[0m\n\u001b[1;32m   2141\u001b[0m             \u001b[0;32mif\u001b[0m \u001b[0mbuiltins\u001b[0m\u001b[0;34m.\u001b[0m\u001b[0many\u001b[0m\u001b[0;34m(\u001b[0m\u001b[0marg\u001b[0m\u001b[0;34m.\u001b[0m\u001b[0msize\u001b[0m \u001b[0;34m==\u001b[0m \u001b[0;36m0\u001b[0m \u001b[0;32mfor\u001b[0m \u001b[0marg\u001b[0m \u001b[0;32min\u001b[0m \u001b[0margs\u001b[0m\u001b[0;34m)\u001b[0m\u001b[0;34m:\u001b[0m\u001b[0;34m\u001b[0m\u001b[0;34m\u001b[0m\u001b[0m\n\u001b[0;32m-> 2142\u001b[0;31m                 raise ValueError('cannot call `vectorize` on size 0 inputs '\n\u001b[0m\u001b[1;32m   2143\u001b[0m                                  'unless `otypes` is set')\n\u001b[1;32m   2144\u001b[0m \u001b[0;34m\u001b[0m\u001b[0m\n",
      "\u001b[0;31mValueError\u001b[0m: cannot call `vectorize` on size 0 inputs unless `otypes` is set"
     ]
    }
   ],
   "source": [
    "gt_model_ideal_singlez = []\n",
    "gt_model_ideal_zdistrib = []\n",
    "gt_model_noisy_singlez = []\n",
    "gt_model_noisy_zdistrib = []\n",
    "for k in range(num):\n",
    "    \n",
    "    cluster_ra = cluster_data[k][2]\n",
    "    cluster_dec = cluster_data[k][3]\n",
    "    cluster_m = cluster_data[k][0]\n",
    "    cluster_z = cluster_data[k][4]\n",
    "    concentration = cluster_data[k][1]\n",
    "    ngals = int(cluster_data[k][5])\n",
    "    logm = np.log10(cluster_m)\n",
    "    r = cl_ideal[k].profile['radius']\n",
    "    mask = r < 1.e-11\n",
    "    r = np.where(r < 1.e-11, np.random.uniform(1.e-11,3), r)\n",
    "    #print(np.shape(cl_noisy[k].profile))\n",
    "    gt_model_ideal_singlez.append(model_reduced_tangential_shear_singlez(r, logm,cl_ideal[k].profile['z'],concentration, cluster_z))\n",
    "    gt_model_ideal_zdistrib.append(model_reduced_tangential_shear_zdistrib(r,logm, ideal_data[k], cl_ideal[k], cl_ideal[k].profile,concentration,cluster_z))\n",
    "    gt_model_noisy_singlez.append(model_reduced_tangential_shear_singlez(r,logm,cl_noisy[k].profile['z'],concentration, cluster_z ))\n",
    "    gt_model_noisy_zdistrib.append(model_reduced_tangential_shear_zdistrib(r,logm,noisy_data[k], cl_noisy[k], cl_noisy[k].profile,concentration, cluster_z ))\n",
    "    "
   ]
  },
  {
   "cell_type": "code",
   "execution_count": null,
   "metadata": {},
   "outputs": [],
   "source": [
    "for k in range (num):\n",
    "    cluster_ra = cluster_data[k][2]\n",
    "    cluster_dec = cluster_data[k][3]\n",
    "    cluster_m = cluster_data[k][0]\n",
    "    cluster_z = cluster_data[k][4]\n",
    "    concentration = cluster_data[k][1]\n",
    "    ngals = int(cluster_data[k][5])\n",
    "    logm = np.log10(cluster_m)\n",
    "    plt.figure(figsize=(20,8))\n",
    "\n",
    "    plt.subplot(1,2,1)\n",
    "\n",
    "    plt.title('ideal data', fontsize=20)\n",
    "    plt.errorbar(r,cl_ideal[k].profile['gt'],cl_ideal[k].profile['gt_err'],c='k',linestyle='', \n",
    "                 marker='o', label=r'ideal data, $M_{input}$ = %.2e Msun' % cluster_m)\n",
    "    plt.loglog(r,gt_model_ideal_zdistrib[k],'b',  label=r'model w/ zdistrib, $M_{input}$ = %.2e Msun' % cluster_m)\n",
    "    plt.loglog(r,gt_model_ideal_singlez[k],'-y',  label=r'model w/o zdistrib, $M_{input}$ = %.2e Msun' % cluster_m)\n",
    "    plt.xlabel('r [Mpc]', fontsize = 20)\n",
    "    plt.ylabel(r'$g_t$', fontsize = 20)\n",
    "    plt.xlim(min(cl_ideal[k].profile['radius']), max(cl_ideal[k].profile['radius']))\n",
    "    plt.legend(fontsize = 15)\n",
    "\n",
    "    plt.subplot(1,2,2)\n",
    "\n",
    "    plt.title('noisy data', fontsize=20)\n",
    "    plt.errorbar(r,cl_noisy[k].profile['gt'],cl_noisy[k].profile['gt_err'],c='k',linestyle='', \n",
    "                 marker='o',label=r'noisy data, $M_{input}$ = %.2e Msun' % cluster_m)\n",
    "    plt.loglog(r,gt_model_noisy_zdistrib[k],'-b', label=r'model w/ zdistrib, $M_{input}$ = %.2e Msun' % cluster_m)\n",
    "    plt.loglog(r,gt_model_noisy_singlez[k],'-y', label=r'model w/o zdistrib, $M_{input}$ = %.2e Msun' % cluster_m)\n",
    "    plt.xlabel('r [Mpc]', fontsize = 20)\n",
    "    plt.ylabel(r'$g_t$', fontsize = 20)\n",
    "    plt.xlim(min(cl_noisy[k].profile['radius']), max(cl_noisy[k].profile['radius']))\n",
    "    plt.legend(fontsize = 15)"
   ]
  },
  {
   "cell_type": "code",
   "execution_count": null,
   "metadata": {},
   "outputs": [],
   "source": []
  }
 ],
 "metadata": {
  "kernelspec": {
   "display_name": "Python 3",
   "language": "python",
   "name": "python3"
  },
  "language_info": {
   "codemirror_mode": {
    "name": "ipython",
    "version": 3
   },
   "file_extension": ".py",
   "mimetype": "text/x-python",
   "name": "python",
   "nbconvert_exporter": "python",
   "pygments_lexer": "ipython3",
   "version": "3.8.5"
  }
 },
 "nbformat": 4,
 "nbformat_minor": 4
}
